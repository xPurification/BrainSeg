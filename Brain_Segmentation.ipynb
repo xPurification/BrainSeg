{
 "cells": [
  {
   "cell_type": "code",
   "execution_count": 369,
   "metadata": {},
   "outputs": [],
   "source": [
    "import os \n",
    "import numpy as np \n",
    "import cv2\n",
    "from glob import glob\n",
    "import tensorflow as tf\n",
    "from tqdm import tqdm\n",
    "from tensorflow.keras.layers import Conv2D, BatchNormalization, Activation, MaxPool2D, Conv2DTranspose, Concatenate, Input\n",
    "from tensorflow.keras.models import Model\n",
    "from tensorflow.keras.callbacks import EarlyStopping, ModelCheckpoint, ReduceLROnPlateau, CSVLogger"
   ]
  },
  {
   "cell_type": "code",
   "execution_count": 370,
   "metadata": {},
   "outputs": [],
   "source": [
    "os.environ[\"PYTHONHASHSEED\"]= str(42)\n",
    "np.random.seed(42)\n",
    "tf.random.set_seed(42)"
   ]
  },
  {
   "cell_type": "code",
   "execution_count": 371,
   "metadata": {},
   "outputs": [],
   "source": [
    "batch_size=8\n",
    "lr=0.0001\n",
    "epoch=100\n",
    "height=128\n",
    "width=128"
   ]
  },
  {
   "cell_type": "code",
   "execution_count": 372,
   "metadata": {},
   "outputs": [],
   "source": [
    "dataset_path = os.path.join(\"dataset2\", \"non-aug\")\n",
    "files_dir= os.path.join(\"files\", \"non-aug\")\n",
    "model_file=os.path.join(files_dir, \"unet-non-aug.h5\")\n",
    "log_file=os.path.join(files_dir, \"log-non-aug.csv\")"
   ]
  },
  {
   "cell_type": "code",
   "execution_count": 373,
   "metadata": {},
   "outputs": [],
   "source": [
    "def create_dir(path):\n",
    "    if not os.path.exists(path):\n",
    "        os.makedirs(path)\n",
    "\n",
    "create_dir(files_dir)"
   ]
  },
  {
   "cell_type": "code",
   "execution_count": 374,
   "metadata": {},
   "outputs": [],
   "source": [
    "def conv_block(inputs, num_filters):\n",
    "    x= Conv2D(num_filters, 3, padding=\"same\")(inputs)\n",
    "    x= BatchNormalization()(x)\n",
    "    x=Activation('relu')(x)\n",
    "\n",
    "    x=Conv2D(num_filters, 3, padding=\"same\")(x)\n",
    "    x=BatchNormalization()(x)\n",
    "    x=Activation(\"relu\")(x)\n",
    "    return x"
   ]
  },
  {
   "cell_type": "code",
   "execution_count": 375,
   "metadata": {},
   "outputs": [],
   "source": [
    "def encoder_block(inputs, num_filters):\n",
    "    x= conv_block(inputs, num_filters)\n",
    "    p=MaxPool2D((2,2))(x)\n",
    "    return x,p"
   ]
  },
  {
   "cell_type": "code",
   "execution_count": 376,
   "metadata": {},
   "outputs": [],
   "source": [
    "def decoder_block(inputs, skip, num_filters):\n",
    "    x=Conv2DTranspose(num_filters, (2,2), strides=2, padding=\"same\")(inputs)\n",
    "    x= Concatenate()([x,skip])\n",
    "    x= conv_block(x,num_filters)\n",
    "    return x"
   ]
  },
  {
   "cell_type": "code",
   "execution_count": 377,
   "metadata": {},
   "outputs": [],
   "source": [
    "def build_unet(input_shape):\n",
    "    inputs =Input(input_shape)\n",
    "    s1,p1=encoder_block(inputs,64)\n",
    "    s2,p2=encoder_block(p1, 128)\n",
    "    s3,p3=encoder_block(p2,512)\n",
    "    s4,p4=encoder_block(p3,512)\n",
    "    b1= conv_block(p4, 1024)\n",
    "\n",
    "    d1=decoder_block(b1,s4,512)\n",
    "    d2=decoder_block(d1,s3,256)\n",
    "    d3=decoder_block(d2,s2,128)\n",
    "    d4=decoder_block(d3,s1,64)\n",
    "    outputs= Conv2D(1,1, padding=\"same\", activation=\"sigmoid\")(d4)\n",
    "    model= Model(inputs, outputs, name=\"UNET\")\n",
    "    return model"
   ]
  },
  {
   "cell_type": "code",
   "execution_count": 378,
   "metadata": {},
   "outputs": [],
   "source": [
    "def load_data(path):\n",
    "    train_x= sorted(glob(os.path.join(path, \"train\", \"images\", \"*\" )))\n",
    "    train_y= sorted(glob(os.path.join(path, \"train\", \"masks\", \"*\" )))\n",
    "    test = sorted(glob(os.path.join(path, \"test\", \"*\" )))\n",
    "    valid_x= sorted(glob(os.path.join(path, \"valid\", \"images\", \"*\" )))\n",
    "    valid_y= sorted(glob(os.path.join(path, \"valid\", \"masks\", \"*\" )))\n",
    "\n",
    "    return (train_x, train_y), (valid_x, valid_y) , test"
   ]
  },
  {
   "cell_type": "code",
   "execution_count": 379,
   "metadata": {},
   "outputs": [],
   "source": [
    "def read_image(path):\n",
    "    path=path.decode()\n",
    "    x=cv2.imread(path, cv2.IMREAD_COLOR)\n",
    "    x=x/255.0\n",
    "    return x"
   ]
  },
  {
   "cell_type": "code",
   "execution_count": 380,
   "metadata": {},
   "outputs": [],
   "source": [
    "def read_mask(path):\n",
    "    path=path.decode()\n",
    "    x=cv2.imread(path, cv2.IMREAD_GRAYSCALE)\n",
    "    x=x/255.0\n",
    "    x=np.expand_dims(x,axis=-1)\n",
    "    return x"
   ]
  },
  {
   "cell_type": "code",
   "execution_count": 381,
   "metadata": {},
   "outputs": [],
   "source": [
    "def tf_parse(x,y):\n",
    "    def _parse(x,y):\n",
    "        x= read_image(x)\n",
    "        y= read_mask(y)\n",
    "        return x,y\n",
    "    x,y =tf.numpy_function(_parse, [x,y], [tf.float64,tf.float64])\n",
    "    x.set_shape([height, width, 3])\n",
    "    y.set_shape([height, width, 1])\n",
    "    return x,y"
   ]
  },
  {
   "cell_type": "code",
   "execution_count": 382,
   "metadata": {},
   "outputs": [],
   "source": [
    "def tf_dataset(x,y, batch=8):\n",
    "    dataset= tf.data.Dataset.from_tensor_slices((x,y))\n",
    "    dataset= dataset.map(tf_parse,num_parallel_calls=tf.data.AUTOTUNE)\n",
    "    dataset=dataset.batch(batch)\n",
    "    dataset= dataset.prefetch(tf.data.AUTOTUNE)\n",
    "    return dataset\n",
    "\n"
   ]
  },
  {
   "cell_type": "code",
   "execution_count": 383,
   "metadata": {},
   "outputs": [
    {
     "name": "stdout",
     "output_type": "stream",
     "text": [
      "train 75 75\n",
      "valid 26 26\n",
      "test 75\n"
     ]
    }
   ],
   "source": [
    "(train_x, train_y), (valid_x, valid_y),test= load_data(dataset_path)\n",
    "\n",
    "print(\"train\" , len(train_x), len(train_y))\n",
    "print(\"valid\" , len(valid_x), len(valid_y))\n",
    "print(\"test\" , len(test))"
   ]
  },
  {
   "cell_type": "code",
   "execution_count": 384,
   "metadata": {},
   "outputs": [],
   "source": [
    "\n",
    "\n",
    "train_dataset= tf_dataset(train_x, train_y, batch=batch_size)\n",
    "valid_dataset= tf_dataset(valid_x, valid_y, batch=batch_size)\n",
    "\n"
   ]
  },
  {
   "cell_type": "code",
   "execution_count": 385,
   "metadata": {},
   "outputs": [],
   "source": [
    "input_shape = (height, width, 3)\n",
    "model= build_unet(input_shape)"
   ]
  },
  {
   "cell_type": "code",
   "execution_count": 386,
   "metadata": {},
   "outputs": [
    {
     "name": "stdout",
     "output_type": "stream",
     "text": [
      "Model: \"UNET\"\n",
      "__________________________________________________________________________________________________\n",
      " Layer (type)                   Output Shape         Param #     Connected to                     \n",
      "==================================================================================================\n",
      " input_11 (InputLayer)          [(None, 128, 128, 3  0           []                               \n",
      "                                )]                                                                \n",
      "                                                                                                  \n",
      " conv2d_190 (Conv2D)            (None, 128, 128, 64  1792        ['input_11[0][0]']               \n",
      "                                )                                                                 \n",
      "                                                                                                  \n",
      " batch_normalization_180 (Batch  (None, 128, 128, 64  256        ['conv2d_190[0][0]']             \n",
      " Normalization)                 )                                                                 \n",
      "                                                                                                  \n",
      " activation_180 (Activation)    (None, 128, 128, 64  0           ['batch_normalization_180[0][0]']\n",
      "                                )                                                                 \n",
      "                                                                                                  \n",
      " conv2d_191 (Conv2D)            (None, 128, 128, 64  36928       ['activation_180[0][0]']         \n",
      "                                )                                                                 \n",
      "                                                                                                  \n",
      " batch_normalization_181 (Batch  (None, 128, 128, 64  256        ['conv2d_191[0][0]']             \n",
      " Normalization)                 )                                                                 \n",
      "                                                                                                  \n",
      " activation_181 (Activation)    (None, 128, 128, 64  0           ['batch_normalization_181[0][0]']\n",
      "                                )                                                                 \n",
      "                                                                                                  \n",
      " max_pooling2d_40 (MaxPooling2D  (None, 64, 64, 64)  0           ['activation_181[0][0]']         \n",
      " )                                                                                                \n",
      "                                                                                                  \n",
      " conv2d_192 (Conv2D)            (None, 64, 64, 128)  73856       ['max_pooling2d_40[0][0]']       \n",
      "                                                                                                  \n",
      " batch_normalization_182 (Batch  (None, 64, 64, 128)  512        ['conv2d_192[0][0]']             \n",
      " Normalization)                                                                                   \n",
      "                                                                                                  \n",
      " activation_182 (Activation)    (None, 64, 64, 128)  0           ['batch_normalization_182[0][0]']\n",
      "                                                                                                  \n",
      " conv2d_193 (Conv2D)            (None, 64, 64, 128)  147584      ['activation_182[0][0]']         \n",
      "                                                                                                  \n",
      " batch_normalization_183 (Batch  (None, 64, 64, 128)  512        ['conv2d_193[0][0]']             \n",
      " Normalization)                                                                                   \n",
      "                                                                                                  \n",
      " activation_183 (Activation)    (None, 64, 64, 128)  0           ['batch_normalization_183[0][0]']\n",
      "                                                                                                  \n",
      " max_pooling2d_41 (MaxPooling2D  (None, 32, 32, 128)  0          ['activation_183[0][0]']         \n",
      " )                                                                                                \n",
      "                                                                                                  \n",
      " conv2d_194 (Conv2D)            (None, 32, 32, 512)  590336      ['max_pooling2d_41[0][0]']       \n",
      "                                                                                                  \n",
      " batch_normalization_184 (Batch  (None, 32, 32, 512)  2048       ['conv2d_194[0][0]']             \n",
      " Normalization)                                                                                   \n",
      "                                                                                                  \n",
      " activation_184 (Activation)    (None, 32, 32, 512)  0           ['batch_normalization_184[0][0]']\n",
      "                                                                                                  \n",
      " conv2d_195 (Conv2D)            (None, 32, 32, 512)  2359808     ['activation_184[0][0]']         \n",
      "                                                                                                  \n",
      " batch_normalization_185 (Batch  (None, 32, 32, 512)  2048       ['conv2d_195[0][0]']             \n",
      " Normalization)                                                                                   \n",
      "                                                                                                  \n",
      " activation_185 (Activation)    (None, 32, 32, 512)  0           ['batch_normalization_185[0][0]']\n",
      "                                                                                                  \n",
      " max_pooling2d_42 (MaxPooling2D  (None, 16, 16, 512)  0          ['activation_185[0][0]']         \n",
      " )                                                                                                \n",
      "                                                                                                  \n",
      " conv2d_196 (Conv2D)            (None, 16, 16, 512)  2359808     ['max_pooling2d_42[0][0]']       \n",
      "                                                                                                  \n",
      " batch_normalization_186 (Batch  (None, 16, 16, 512)  2048       ['conv2d_196[0][0]']             \n",
      " Normalization)                                                                                   \n",
      "                                                                                                  \n",
      " activation_186 (Activation)    (None, 16, 16, 512)  0           ['batch_normalization_186[0][0]']\n",
      "                                                                                                  \n",
      " conv2d_197 (Conv2D)            (None, 16, 16, 512)  2359808     ['activation_186[0][0]']         \n",
      "                                                                                                  \n",
      " batch_normalization_187 (Batch  (None, 16, 16, 512)  2048       ['conv2d_197[0][0]']             \n",
      " Normalization)                                                                                   \n",
      "                                                                                                  \n",
      " activation_187 (Activation)    (None, 16, 16, 512)  0           ['batch_normalization_187[0][0]']\n",
      "                                                                                                  \n",
      " max_pooling2d_43 (MaxPooling2D  (None, 8, 8, 512)   0           ['activation_187[0][0]']         \n",
      " )                                                                                                \n",
      "                                                                                                  \n",
      " conv2d_198 (Conv2D)            (None, 8, 8, 1024)   4719616     ['max_pooling2d_43[0][0]']       \n",
      "                                                                                                  \n",
      " batch_normalization_188 (Batch  (None, 8, 8, 1024)  4096        ['conv2d_198[0][0]']             \n",
      " Normalization)                                                                                   \n",
      "                                                                                                  \n",
      " activation_188 (Activation)    (None, 8, 8, 1024)   0           ['batch_normalization_188[0][0]']\n",
      "                                                                                                  \n",
      " conv2d_199 (Conv2D)            (None, 8, 8, 1024)   9438208     ['activation_188[0][0]']         \n",
      "                                                                                                  \n",
      " batch_normalization_189 (Batch  (None, 8, 8, 1024)  4096        ['conv2d_199[0][0]']             \n",
      " Normalization)                                                                                   \n",
      "                                                                                                  \n",
      " activation_189 (Activation)    (None, 8, 8, 1024)   0           ['batch_normalization_189[0][0]']\n",
      "                                                                                                  \n",
      " conv2d_transpose_40 (Conv2DTra  (None, 16, 16, 512)  2097664    ['activation_189[0][0]']         \n",
      " nspose)                                                                                          \n",
      "                                                                                                  \n",
      " concatenate_40 (Concatenate)   (None, 16, 16, 1024  0           ['conv2d_transpose_40[0][0]',    \n",
      "                                )                                 'activation_187[0][0]']         \n",
      "                                                                                                  \n",
      " conv2d_200 (Conv2D)            (None, 16, 16, 512)  4719104     ['concatenate_40[0][0]']         \n",
      "                                                                                                  \n",
      " batch_normalization_190 (Batch  (None, 16, 16, 512)  2048       ['conv2d_200[0][0]']             \n",
      " Normalization)                                                                                   \n",
      "                                                                                                  \n",
      " activation_190 (Activation)    (None, 16, 16, 512)  0           ['batch_normalization_190[0][0]']\n",
      "                                                                                                  \n",
      " conv2d_201 (Conv2D)            (None, 16, 16, 512)  2359808     ['activation_190[0][0]']         \n",
      "                                                                                                  \n",
      " batch_normalization_191 (Batch  (None, 16, 16, 512)  2048       ['conv2d_201[0][0]']             \n",
      " Normalization)                                                                                   \n",
      "                                                                                                  \n",
      " activation_191 (Activation)    (None, 16, 16, 512)  0           ['batch_normalization_191[0][0]']\n",
      "                                                                                                  \n",
      " conv2d_transpose_41 (Conv2DTra  (None, 32, 32, 256)  524544     ['activation_191[0][0]']         \n",
      " nspose)                                                                                          \n",
      "                                                                                                  \n",
      " concatenate_41 (Concatenate)   (None, 32, 32, 768)  0           ['conv2d_transpose_41[0][0]',    \n",
      "                                                                  'activation_185[0][0]']         \n",
      "                                                                                                  \n",
      " conv2d_202 (Conv2D)            (None, 32, 32, 256)  1769728     ['concatenate_41[0][0]']         \n",
      "                                                                                                  \n",
      " batch_normalization_192 (Batch  (None, 32, 32, 256)  1024       ['conv2d_202[0][0]']             \n",
      " Normalization)                                                                                   \n",
      "                                                                                                  \n",
      " activation_192 (Activation)    (None, 32, 32, 256)  0           ['batch_normalization_192[0][0]']\n",
      "                                                                                                  \n",
      " conv2d_203 (Conv2D)            (None, 32, 32, 256)  590080      ['activation_192[0][0]']         \n",
      "                                                                                                  \n",
      " batch_normalization_193 (Batch  (None, 32, 32, 256)  1024       ['conv2d_203[0][0]']             \n",
      " Normalization)                                                                                   \n",
      "                                                                                                  \n",
      " activation_193 (Activation)    (None, 32, 32, 256)  0           ['batch_normalization_193[0][0]']\n",
      "                                                                                                  \n",
      " conv2d_transpose_42 (Conv2DTra  (None, 64, 64, 128)  131200     ['activation_193[0][0]']         \n",
      " nspose)                                                                                          \n",
      "                                                                                                  \n",
      " concatenate_42 (Concatenate)   (None, 64, 64, 256)  0           ['conv2d_transpose_42[0][0]',    \n",
      "                                                                  'activation_183[0][0]']         \n",
      "                                                                                                  \n",
      " conv2d_204 (Conv2D)            (None, 64, 64, 128)  295040      ['concatenate_42[0][0]']         \n",
      "                                                                                                  \n",
      " batch_normalization_194 (Batch  (None, 64, 64, 128)  512        ['conv2d_204[0][0]']             \n",
      " Normalization)                                                                                   \n",
      "                                                                                                  \n",
      " activation_194 (Activation)    (None, 64, 64, 128)  0           ['batch_normalization_194[0][0]']\n",
      "                                                                                                  \n",
      " conv2d_205 (Conv2D)            (None, 64, 64, 128)  147584      ['activation_194[0][0]']         \n",
      "                                                                                                  \n",
      " batch_normalization_195 (Batch  (None, 64, 64, 128)  512        ['conv2d_205[0][0]']             \n",
      " Normalization)                                                                                   \n",
      "                                                                                                  \n",
      " activation_195 (Activation)    (None, 64, 64, 128)  0           ['batch_normalization_195[0][0]']\n",
      "                                                                                                  \n",
      " conv2d_transpose_43 (Conv2DTra  (None, 128, 128, 64  32832      ['activation_195[0][0]']         \n",
      " nspose)                        )                                                                 \n",
      "                                                                                                  \n",
      " concatenate_43 (Concatenate)   (None, 128, 128, 12  0           ['conv2d_transpose_43[0][0]',    \n",
      "                                8)                                'activation_181[0][0]']         \n",
      "                                                                                                  \n",
      " conv2d_206 (Conv2D)            (None, 128, 128, 64  73792       ['concatenate_43[0][0]']         \n",
      "                                )                                                                 \n",
      "                                                                                                  \n",
      " batch_normalization_196 (Batch  (None, 128, 128, 64  256        ['conv2d_206[0][0]']             \n",
      " Normalization)                 )                                                                 \n",
      "                                                                                                  \n",
      " activation_196 (Activation)    (None, 128, 128, 64  0           ['batch_normalization_196[0][0]']\n",
      "                                )                                                                 \n",
      "                                                                                                  \n",
      " conv2d_207 (Conv2D)            (None, 128, 128, 64  36928       ['activation_196[0][0]']         \n",
      "                                )                                                                 \n",
      "                                                                                                  \n",
      " batch_normalization_197 (Batch  (None, 128, 128, 64  256        ['conv2d_207[0][0]']             \n",
      " Normalization)                 )                                                                 \n",
      "                                                                                                  \n",
      " activation_197 (Activation)    (None, 128, 128, 64  0           ['batch_normalization_197[0][0]']\n",
      "                                )                                                                 \n",
      "                                                                                                  \n",
      " conv2d_208 (Conv2D)            (None, 128, 128, 1)  65          ['activation_197[0][0]']         \n",
      "                                                                                                  \n",
      "==================================================================================================\n",
      "Total params: 34,891,713\n",
      "Trainable params: 34,878,913\n",
      "Non-trainable params: 12,800\n",
      "__________________________________________________________________________________________________\n"
     ]
    }
   ],
   "source": [
    "model.summary()\n",
    "\n",
    "opt=tf.keras.optimizers.Adam(lr)\n",
    "model.compile(loss=\"binary_crossentropy\", optimizer=opt, metrics=[\"accuracy\"])"
   ]
  },
  {
   "cell_type": "code",
   "execution_count": 387,
   "metadata": {},
   "outputs": [],
   "source": [
    "callbacks=[\n",
    "\n",
    "    ModelCheckpoint(model_file, verbose=1, save_best_only=True), \n",
    "    ReduceLROnPlateau(monitor='val_loss', factor=.1, patience=4),\n",
    "    CSVLogger(log_file), \n",
    "    EarlyStopping(monitor='val_loss', patience=20, restore_best_weights=False)\n",
    "]"
   ]
  },
  {
   "cell_type": "code",
   "execution_count": 388,
   "metadata": {},
   "outputs": [
    {
     "name": "stdout",
     "output_type": "stream",
     "text": [
      "Epoch 1/100\n",
      "10/10 [==============================] - ETA: 0s - loss: 0.3650 - accuracy: 0.9095\n",
      "Epoch 1: val_loss improved from inf to 0.66183, saving model to files/non-aug/unet-non-aug.h5\n",
      "10/10 [==============================] - 4s 226ms/step - loss: 0.3650 - accuracy: 0.9095 - val_loss: 0.6618 - val_accuracy: 0.9846 - lr: 1.0000e-04\n",
      "Epoch 2/100\n",
      "10/10 [==============================] - ETA: 0s - loss: 0.2118 - accuracy: 0.9539\n",
      "Epoch 2: val_loss improved from 0.66183 to 0.61687, saving model to files/non-aug/unet-non-aug.h5\n",
      "10/10 [==============================] - 2s 184ms/step - loss: 0.2118 - accuracy: 0.9539 - val_loss: 0.6169 - val_accuracy: 0.9722 - lr: 1.0000e-04\n",
      "Epoch 3/100\n",
      "10/10 [==============================] - ETA: 0s - loss: 0.1753 - accuracy: 0.9635\n",
      "Epoch 3: val_loss improved from 0.61687 to 0.57434, saving model to files/non-aug/unet-non-aug.h5\n",
      "10/10 [==============================] - 2s 191ms/step - loss: 0.1753 - accuracy: 0.9635 - val_loss: 0.5743 - val_accuracy: 0.9216 - lr: 1.0000e-04\n",
      "Epoch 4/100\n",
      "10/10 [==============================] - ETA: 0s - loss: 0.1525 - accuracy: 0.9718\n",
      "Epoch 4: val_loss improved from 0.57434 to 0.53714, saving model to files/non-aug/unet-non-aug.h5\n",
      "10/10 [==============================] - 2s 193ms/step - loss: 0.1525 - accuracy: 0.9718 - val_loss: 0.5371 - val_accuracy: 0.9035 - lr: 1.0000e-04\n",
      "Epoch 5/100\n",
      "10/10 [==============================] - ETA: 0s - loss: 0.1323 - accuracy: 0.9803\n",
      "Epoch 5: val_loss improved from 0.53714 to 0.50301, saving model to files/non-aug/unet-non-aug.h5\n",
      "10/10 [==============================] - 2s 184ms/step - loss: 0.1323 - accuracy: 0.9803 - val_loss: 0.5030 - val_accuracy: 0.9029 - lr: 1.0000e-04\n",
      "Epoch 6/100\n",
      "10/10 [==============================] - ETA: 0s - loss: 0.1126 - accuracy: 0.9850\n",
      "Epoch 6: val_loss improved from 0.50301 to 0.47338, saving model to files/non-aug/unet-non-aug.h5\n",
      "10/10 [==============================] - 2s 224ms/step - loss: 0.1126 - accuracy: 0.9850 - val_loss: 0.4734 - val_accuracy: 0.9029 - lr: 1.0000e-04\n",
      "Epoch 7/100\n",
      " 9/10 [==========================>...] - ETA: 0s - loss: 0.0995 - accuracy: 0.9867\n",
      "Epoch 7: val_loss improved from 0.47338 to 0.44675, saving model to files/non-aug/unet-non-aug.h5\n",
      "10/10 [==============================] - 2s 180ms/step - loss: 0.1019 - accuracy: 0.9864 - val_loss: 0.4467 - val_accuracy: 0.9029 - lr: 1.0000e-04\n",
      "Epoch 8/100\n",
      "10/10 [==============================] - ETA: 0s - loss: 0.0947 - accuracy: 0.9874\n",
      "Epoch 8: val_loss improved from 0.44675 to 0.42174, saving model to files/non-aug/unet-non-aug.h5\n",
      "10/10 [==============================] - 2s 181ms/step - loss: 0.0947 - accuracy: 0.9874 - val_loss: 0.4217 - val_accuracy: 0.9029 - lr: 1.0000e-04\n",
      "Epoch 9/100\n",
      " 9/10 [==========================>...] - ETA: 0s - loss: 0.0952 - accuracy: 0.9833\n",
      "Epoch 9: val_loss improved from 0.42174 to 0.39859, saving model to files/non-aug/unet-non-aug.h5\n",
      "10/10 [==============================] - 2s 178ms/step - loss: 0.0967 - accuracy: 0.9836 - val_loss: 0.3986 - val_accuracy: 0.9029 - lr: 1.0000e-04\n",
      "Epoch 10/100\n",
      "10/10 [==============================] - ETA: 0s - loss: 0.0871 - accuracy: 0.9865\n",
      "Epoch 10: val_loss improved from 0.39859 to 0.37879, saving model to files/non-aug/unet-non-aug.h5\n",
      "10/10 [==============================] - 2s 183ms/step - loss: 0.0871 - accuracy: 0.9865 - val_loss: 0.3788 - val_accuracy: 0.9029 - lr: 1.0000e-04\n",
      "Epoch 11/100\n",
      "10/10 [==============================] - ETA: 0s - loss: 0.0821 - accuracy: 0.9901\n",
      "Epoch 11: val_loss improved from 0.37879 to 0.35871, saving model to files/non-aug/unet-non-aug.h5\n",
      "10/10 [==============================] - 2s 184ms/step - loss: 0.0821 - accuracy: 0.9901 - val_loss: 0.3587 - val_accuracy: 0.9029 - lr: 1.0000e-04\n",
      "Epoch 12/100\n",
      " 9/10 [==========================>...] - ETA: 0s - loss: 0.0898 - accuracy: 0.9830\n",
      "Epoch 12: val_loss improved from 0.35871 to 0.34106, saving model to files/non-aug/unet-non-aug.h5\n",
      "10/10 [==============================] - 2s 178ms/step - loss: 0.0921 - accuracy: 0.9826 - val_loss: 0.3411 - val_accuracy: 0.9029 - lr: 1.0000e-04\n",
      "Epoch 13/100\n",
      " 9/10 [==========================>...] - ETA: 0s - loss: 0.0739 - accuracy: 0.9901\n",
      "Epoch 13: val_loss improved from 0.34106 to 0.33548, saving model to files/non-aug/unet-non-aug.h5\n",
      "10/10 [==============================] - 2s 181ms/step - loss: 0.0765 - accuracy: 0.9898 - val_loss: 0.3355 - val_accuracy: 0.9029 - lr: 1.0000e-04\n",
      "Epoch 14/100\n",
      "10/10 [==============================] - ETA: 0s - loss: 0.0705 - accuracy: 0.9891\n",
      "Epoch 14: val_loss improved from 0.33548 to 0.31348, saving model to files/non-aug/unet-non-aug.h5\n",
      "10/10 [==============================] - 2s 182ms/step - loss: 0.0705 - accuracy: 0.9891 - val_loss: 0.3135 - val_accuracy: 0.9029 - lr: 1.0000e-04\n",
      "Epoch 15/100\n",
      " 9/10 [==========================>...] - ETA: 0s - loss: 0.0639 - accuracy: 0.9897\n",
      "Epoch 15: val_loss improved from 0.31348 to 0.31033, saving model to files/non-aug/unet-non-aug.h5\n",
      "10/10 [==============================] - 2s 179ms/step - loss: 0.0654 - accuracy: 0.9897 - val_loss: 0.3103 - val_accuracy: 0.9029 - lr: 1.0000e-04\n",
      "Epoch 16/100\n",
      "10/10 [==============================] - ETA: 0s - loss: 0.0618 - accuracy: 0.9900\n",
      "Epoch 16: val_loss improved from 0.31033 to 0.30220, saving model to files/non-aug/unet-non-aug.h5\n",
      "10/10 [==============================] - 2s 184ms/step - loss: 0.0618 - accuracy: 0.9900 - val_loss: 0.3022 - val_accuracy: 0.9029 - lr: 1.0000e-04\n",
      "Epoch 17/100\n",
      "10/10 [==============================] - ETA: 0s - loss: 0.0578 - accuracy: 0.9917\n",
      "Epoch 17: val_loss improved from 0.30220 to 0.30210, saving model to files/non-aug/unet-non-aug.h5\n",
      "10/10 [==============================] - 2s 181ms/step - loss: 0.0578 - accuracy: 0.9917 - val_loss: 0.3021 - val_accuracy: 0.9029 - lr: 1.0000e-04\n",
      "Epoch 18/100\n",
      " 9/10 [==========================>...] - ETA: 0s - loss: 0.0560 - accuracy: 0.9905\n",
      "Epoch 18: val_loss did not improve from 0.30210\n",
      "10/10 [==============================] - 1s 114ms/step - loss: 0.0577 - accuracy: 0.9901 - val_loss: 0.3059 - val_accuracy: 0.9029 - lr: 1.0000e-04\n",
      "Epoch 19/100\n",
      "10/10 [==============================] - ETA: 0s - loss: 0.0488 - accuracy: 0.9931\n",
      "Epoch 19: val_loss did not improve from 0.30210\n",
      "10/10 [==============================] - 1s 113ms/step - loss: 0.0488 - accuracy: 0.9931 - val_loss: 0.3048 - val_accuracy: 0.9029 - lr: 1.0000e-04\n",
      "Epoch 20/100\n",
      "10/10 [==============================] - ETA: 0s - loss: 0.0458 - accuracy: 0.9938\n",
      "Epoch 20: val_loss did not improve from 0.30210\n",
      "10/10 [==============================] - 1s 113ms/step - loss: 0.0458 - accuracy: 0.9938 - val_loss: 0.3090 - val_accuracy: 0.9029 - lr: 1.0000e-04\n",
      "Epoch 21/100\n",
      " 9/10 [==========================>...] - ETA: 0s - loss: 0.0407 - accuracy: 0.9945\n",
      "Epoch 21: val_loss did not improve from 0.30210\n",
      "10/10 [==============================] - 1s 113ms/step - loss: 0.0421 - accuracy: 0.9946 - val_loss: 0.3137 - val_accuracy: 0.9029 - lr: 1.0000e-05\n",
      "Epoch 22/100\n",
      "10/10 [==============================] - ETA: 0s - loss: 0.0414 - accuracy: 0.9949\n",
      "Epoch 22: val_loss did not improve from 0.30210\n",
      "10/10 [==============================] - 1s 114ms/step - loss: 0.0414 - accuracy: 0.9949 - val_loss: 0.3176 - val_accuracy: 0.9029 - lr: 1.0000e-05\n",
      "Epoch 23/100\n",
      "10/10 [==============================] - ETA: 0s - loss: 0.0409 - accuracy: 0.9951\n",
      "Epoch 23: val_loss did not improve from 0.30210\n",
      "10/10 [==============================] - 1s 114ms/step - loss: 0.0409 - accuracy: 0.9951 - val_loss: 0.3205 - val_accuracy: 0.9029 - lr: 1.0000e-05\n",
      "Epoch 24/100\n",
      "10/10 [==============================] - ETA: 0s - loss: 0.0405 - accuracy: 0.9953\n",
      "Epoch 24: val_loss did not improve from 0.30210\n",
      "10/10 [==============================] - 1s 115ms/step - loss: 0.0405 - accuracy: 0.9953 - val_loss: 0.3229 - val_accuracy: 0.9029 - lr: 1.0000e-05\n",
      "Epoch 25/100\n",
      "10/10 [==============================] - ETA: 0s - loss: 0.0403 - accuracy: 0.9953\n",
      "Epoch 25: val_loss did not improve from 0.30210\n",
      "10/10 [==============================] - 1s 115ms/step - loss: 0.0403 - accuracy: 0.9953 - val_loss: 0.3250 - val_accuracy: 0.9029 - lr: 1.0000e-06\n",
      "Epoch 26/100\n",
      "10/10 [==============================] - ETA: 0s - loss: 0.0402 - accuracy: 0.9953\n",
      "Epoch 26: val_loss did not improve from 0.30210\n",
      "10/10 [==============================] - 1s 116ms/step - loss: 0.0402 - accuracy: 0.9953 - val_loss: 0.3263 - val_accuracy: 0.9029 - lr: 1.0000e-06\n",
      "Epoch 27/100\n",
      "10/10 [==============================] - ETA: 0s - loss: 0.0402 - accuracy: 0.9953\n",
      "Epoch 27: val_loss did not improve from 0.30210\n",
      "10/10 [==============================] - 1s 116ms/step - loss: 0.0402 - accuracy: 0.9953 - val_loss: 0.3266 - val_accuracy: 0.9029 - lr: 1.0000e-06\n",
      "Epoch 28/100\n",
      "10/10 [==============================] - ETA: 0s - loss: 0.0402 - accuracy: 0.9953\n",
      "Epoch 28: val_loss did not improve from 0.30210\n",
      "10/10 [==============================] - 1s 117ms/step - loss: 0.0402 - accuracy: 0.9953 - val_loss: 0.3256 - val_accuracy: 0.9029 - lr: 1.0000e-06\n",
      "Epoch 29/100\n",
      "10/10 [==============================] - ETA: 0s - loss: 0.0401 - accuracy: 0.9953\n",
      "Epoch 29: val_loss did not improve from 0.30210\n",
      "10/10 [==============================] - 1s 117ms/step - loss: 0.0401 - accuracy: 0.9953 - val_loss: 0.3230 - val_accuracy: 0.9029 - lr: 1.0000e-07\n",
      "Epoch 30/100\n",
      "10/10 [==============================] - ETA: 0s - loss: 0.0401 - accuracy: 0.9953\n",
      "Epoch 30: val_loss did not improve from 0.30210\n",
      "10/10 [==============================] - 1s 116ms/step - loss: 0.0401 - accuracy: 0.9953 - val_loss: 0.3185 - val_accuracy: 0.9029 - lr: 1.0000e-07\n",
      "Epoch 31/100\n",
      " 9/10 [==========================>...] - ETA: 0s - loss: 0.0388 - accuracy: 0.9953\n",
      "Epoch 31: val_loss did not improve from 0.30210\n",
      "10/10 [==============================] - 1s 113ms/step - loss: 0.0401 - accuracy: 0.9953 - val_loss: 0.3118 - val_accuracy: 0.9029 - lr: 1.0000e-07\n",
      "Epoch 32/100\n",
      "10/10 [==============================] - ETA: 0s - loss: 0.0401 - accuracy: 0.9953\n",
      "Epoch 32: val_loss did not improve from 0.30210\n",
      "10/10 [==============================] - 1s 115ms/step - loss: 0.0401 - accuracy: 0.9953 - val_loss: 0.3028 - val_accuracy: 0.9029 - lr: 1.0000e-07\n",
      "Epoch 33/100\n",
      "10/10 [==============================] - ETA: 0s - loss: 0.0401 - accuracy: 0.9953\n",
      "Epoch 33: val_loss improved from 0.30210 to 0.29093, saving model to files/non-aug/unet-non-aug.h5\n",
      "10/10 [==============================] - 2s 190ms/step - loss: 0.0401 - accuracy: 0.9953 - val_loss: 0.2909 - val_accuracy: 0.9029 - lr: 1.0000e-08\n",
      "Epoch 34/100\n",
      "10/10 [==============================] - ETA: 0s - loss: 0.0401 - accuracy: 0.9953\n",
      "Epoch 34: val_loss improved from 0.29093 to 0.27635, saving model to files/non-aug/unet-non-aug.h5\n",
      "10/10 [==============================] - 2s 203ms/step - loss: 0.0401 - accuracy: 0.9953 - val_loss: 0.2763 - val_accuracy: 0.9029 - lr: 1.0000e-08\n",
      "Epoch 35/100\n",
      "10/10 [==============================] - ETA: 0s - loss: 0.0401 - accuracy: 0.9953\n",
      "Epoch 35: val_loss improved from 0.27635 to 0.25923, saving model to files/non-aug/unet-non-aug.h5\n",
      "10/10 [==============================] - 2s 188ms/step - loss: 0.0401 - accuracy: 0.9953 - val_loss: 0.2592 - val_accuracy: 0.9031 - lr: 1.0000e-08\n",
      "Epoch 36/100\n",
      "10/10 [==============================] - ETA: 0s - loss: 0.0401 - accuracy: 0.9953\n",
      "Epoch 36: val_loss improved from 0.25923 to 0.24076, saving model to files/non-aug/unet-non-aug.h5\n",
      "10/10 [==============================] - 2s 187ms/step - loss: 0.0401 - accuracy: 0.9953 - val_loss: 0.2408 - val_accuracy: 0.9048 - lr: 1.0000e-08\n",
      "Epoch 37/100\n",
      "10/10 [==============================] - ETA: 0s - loss: 0.0401 - accuracy: 0.9953\n",
      "Epoch 37: val_loss improved from 0.24076 to 0.22289, saving model to files/non-aug/unet-non-aug.h5\n",
      "10/10 [==============================] - 2s 183ms/step - loss: 0.0401 - accuracy: 0.9953 - val_loss: 0.2229 - val_accuracy: 0.9089 - lr: 1.0000e-08\n",
      "Epoch 38/100\n",
      "10/10 [==============================] - ETA: 0s - loss: 0.0401 - accuracy: 0.9953\n",
      "Epoch 38: val_loss improved from 0.22289 to 0.20647, saving model to files/non-aug/unet-non-aug.h5\n",
      "10/10 [==============================] - 2s 195ms/step - loss: 0.0401 - accuracy: 0.9953 - val_loss: 0.2065 - val_accuracy: 0.9145 - lr: 1.0000e-08\n",
      "Epoch 39/100\n",
      "10/10 [==============================] - ETA: 0s - loss: 0.0401 - accuracy: 0.9953\n",
      "Epoch 39: val_loss improved from 0.20647 to 0.19199, saving model to files/non-aug/unet-non-aug.h5\n",
      "10/10 [==============================] - 2s 192ms/step - loss: 0.0401 - accuracy: 0.9953 - val_loss: 0.1920 - val_accuracy: 0.9197 - lr: 1.0000e-08\n",
      "Epoch 40/100\n",
      "10/10 [==============================] - ETA: 0s - loss: 0.0401 - accuracy: 0.9953\n",
      "Epoch 40: val_loss improved from 0.19199 to 0.17956, saving model to files/non-aug/unet-non-aug.h5\n",
      "10/10 [==============================] - 2s 184ms/step - loss: 0.0401 - accuracy: 0.9953 - val_loss: 0.1796 - val_accuracy: 0.9238 - lr: 1.0000e-08\n",
      "Epoch 41/100\n",
      "10/10 [==============================] - ETA: 0s - loss: 0.0401 - accuracy: 0.9953\n",
      "Epoch 41: val_loss improved from 0.17956 to 0.16914, saving model to files/non-aug/unet-non-aug.h5\n",
      "10/10 [==============================] - 2s 192ms/step - loss: 0.0401 - accuracy: 0.9953 - val_loss: 0.1691 - val_accuracy: 0.9275 - lr: 1.0000e-08\n",
      "Epoch 42/100\n",
      "10/10 [==============================] - ETA: 0s - loss: 0.0401 - accuracy: 0.9953\n",
      "Epoch 42: val_loss improved from 0.16914 to 0.16094, saving model to files/non-aug/unet-non-aug.h5\n",
      "10/10 [==============================] - 2s 193ms/step - loss: 0.0401 - accuracy: 0.9953 - val_loss: 0.1609 - val_accuracy: 0.9308 - lr: 1.0000e-08\n",
      "Epoch 43/100\n",
      "10/10 [==============================] - ETA: 0s - loss: 0.0401 - accuracy: 0.9953\n",
      "Epoch 43: val_loss improved from 0.16094 to 0.15396, saving model to files/non-aug/unet-non-aug.h5\n",
      "10/10 [==============================] - 2s 197ms/step - loss: 0.0401 - accuracy: 0.9953 - val_loss: 0.1540 - val_accuracy: 0.9336 - lr: 1.0000e-08\n",
      "Epoch 44/100\n",
      "10/10 [==============================] - ETA: 0s - loss: 0.0401 - accuracy: 0.9953\n",
      "Epoch 44: val_loss improved from 0.15396 to 0.14765, saving model to files/non-aug/unet-non-aug.h5\n",
      "10/10 [==============================] - 2s 186ms/step - loss: 0.0401 - accuracy: 0.9953 - val_loss: 0.1477 - val_accuracy: 0.9365 - lr: 1.0000e-08\n",
      "Epoch 45/100\n",
      "10/10 [==============================] - ETA: 0s - loss: 0.0401 - accuracy: 0.9953\n",
      "Epoch 45: val_loss improved from 0.14765 to 0.14059, saving model to files/non-aug/unet-non-aug.h5\n",
      "10/10 [==============================] - 2s 184ms/step - loss: 0.0401 - accuracy: 0.9953 - val_loss: 0.1406 - val_accuracy: 0.9395 - lr: 1.0000e-08\n",
      "Epoch 46/100\n",
      "10/10 [==============================] - ETA: 0s - loss: 0.0401 - accuracy: 0.9953\n",
      "Epoch 46: val_loss improved from 0.14059 to 0.13380, saving model to files/non-aug/unet-non-aug.h5\n",
      "10/10 [==============================] - 2s 190ms/step - loss: 0.0401 - accuracy: 0.9953 - val_loss: 0.1338 - val_accuracy: 0.9430 - lr: 1.0000e-08\n",
      "Epoch 47/100\n",
      "10/10 [==============================] - ETA: 0s - loss: 0.0401 - accuracy: 0.9953\n",
      "Epoch 47: val_loss improved from 0.13380 to 0.12708, saving model to files/non-aug/unet-non-aug.h5\n",
      "10/10 [==============================] - 2s 186ms/step - loss: 0.0401 - accuracy: 0.9953 - val_loss: 0.1271 - val_accuracy: 0.9469 - lr: 1.0000e-08\n",
      "Epoch 48/100\n",
      "10/10 [==============================] - ETA: 0s - loss: 0.0401 - accuracy: 0.9953\n",
      "Epoch 48: val_loss improved from 0.12708 to 0.12031, saving model to files/non-aug/unet-non-aug.h5\n",
      "10/10 [==============================] - 2s 205ms/step - loss: 0.0401 - accuracy: 0.9953 - val_loss: 0.1203 - val_accuracy: 0.9512 - lr: 1.0000e-08\n",
      "Epoch 49/100\n",
      "10/10 [==============================] - ETA: 0s - loss: 0.0401 - accuracy: 0.9953\n",
      "Epoch 49: val_loss improved from 0.12031 to 0.11364, saving model to files/non-aug/unet-non-aug.h5\n",
      "10/10 [==============================] - 2s 200ms/step - loss: 0.0401 - accuracy: 0.9953 - val_loss: 0.1136 - val_accuracy: 0.9563 - lr: 1.0000e-08\n",
      "Epoch 50/100\n",
      "10/10 [==============================] - ETA: 0s - loss: 0.0401 - accuracy: 0.9953\n",
      "Epoch 50: val_loss improved from 0.11364 to 0.10695, saving model to files/non-aug/unet-non-aug.h5\n",
      "10/10 [==============================] - 2s 191ms/step - loss: 0.0401 - accuracy: 0.9953 - val_loss: 0.1069 - val_accuracy: 0.9615 - lr: 1.0000e-08\n",
      "Epoch 51/100\n",
      "10/10 [==============================] - ETA: 0s - loss: 0.0401 - accuracy: 0.9953\n",
      "Epoch 51: val_loss improved from 0.10695 to 0.10021, saving model to files/non-aug/unet-non-aug.h5\n",
      "10/10 [==============================] - 2s 192ms/step - loss: 0.0401 - accuracy: 0.9953 - val_loss: 0.1002 - val_accuracy: 0.9669 - lr: 1.0000e-08\n",
      "Epoch 52/100\n",
      "10/10 [==============================] - ETA: 0s - loss: 0.0401 - accuracy: 0.9953\n",
      "Epoch 52: val_loss improved from 0.10021 to 0.09354, saving model to files/non-aug/unet-non-aug.h5\n",
      "10/10 [==============================] - 2s 243ms/step - loss: 0.0401 - accuracy: 0.9953 - val_loss: 0.0935 - val_accuracy: 0.9721 - lr: 1.0000e-08\n",
      "Epoch 53/100\n",
      "10/10 [==============================] - ETA: 0s - loss: 0.0401 - accuracy: 0.9953\n",
      "Epoch 53: val_loss improved from 0.09354 to 0.08703, saving model to files/non-aug/unet-non-aug.h5\n",
      "10/10 [==============================] - 2s 209ms/step - loss: 0.0401 - accuracy: 0.9953 - val_loss: 0.0870 - val_accuracy: 0.9767 - lr: 1.0000e-08\n",
      "Epoch 54/100\n",
      "10/10 [==============================] - ETA: 0s - loss: 0.0401 - accuracy: 0.9953\n",
      "Epoch 54: val_loss improved from 0.08703 to 0.08093, saving model to files/non-aug/unet-non-aug.h5\n",
      "10/10 [==============================] - 2s 203ms/step - loss: 0.0401 - accuracy: 0.9953 - val_loss: 0.0809 - val_accuracy: 0.9807 - lr: 1.0000e-08\n",
      "Epoch 55/100\n",
      "10/10 [==============================] - ETA: 0s - loss: 0.0401 - accuracy: 0.9953\n",
      "Epoch 55: val_loss improved from 0.08093 to 0.07536, saving model to files/non-aug/unet-non-aug.h5\n",
      "10/10 [==============================] - 2s 193ms/step - loss: 0.0401 - accuracy: 0.9953 - val_loss: 0.0754 - val_accuracy: 0.9838 - lr: 1.0000e-08\n",
      "Epoch 56/100\n",
      "10/10 [==============================] - ETA: 0s - loss: 0.0401 - accuracy: 0.9953\n",
      "Epoch 56: val_loss improved from 0.07536 to 0.07050, saving model to files/non-aug/unet-non-aug.h5\n",
      "10/10 [==============================] - 2s 204ms/step - loss: 0.0401 - accuracy: 0.9953 - val_loss: 0.0705 - val_accuracy: 0.9859 - lr: 1.0000e-08\n",
      "Epoch 57/100\n",
      "10/10 [==============================] - ETA: 0s - loss: 0.0401 - accuracy: 0.9953\n",
      "Epoch 57: val_loss improved from 0.07050 to 0.06631, saving model to files/non-aug/unet-non-aug.h5\n",
      "10/10 [==============================] - 2s 232ms/step - loss: 0.0401 - accuracy: 0.9953 - val_loss: 0.0663 - val_accuracy: 0.9873 - lr: 1.0000e-08\n",
      "Epoch 58/100\n",
      "10/10 [==============================] - ETA: 0s - loss: 0.0401 - accuracy: 0.9953\n",
      "Epoch 58: val_loss improved from 0.06631 to 0.06275, saving model to files/non-aug/unet-non-aug.h5\n",
      "10/10 [==============================] - 2s 199ms/step - loss: 0.0401 - accuracy: 0.9953 - val_loss: 0.0627 - val_accuracy: 0.9880 - lr: 1.0000e-08\n",
      "Epoch 59/100\n",
      "10/10 [==============================] - ETA: 0s - loss: 0.0401 - accuracy: 0.9953\n",
      "Epoch 59: val_loss improved from 0.06275 to 0.05988, saving model to files/non-aug/unet-non-aug.h5\n",
      "10/10 [==============================] - 2s 209ms/step - loss: 0.0401 - accuracy: 0.9953 - val_loss: 0.0599 - val_accuracy: 0.9887 - lr: 1.0000e-08\n",
      "Epoch 60/100\n",
      "10/10 [==============================] - ETA: 0s - loss: 0.0401 - accuracy: 0.9953\n",
      "Epoch 60: val_loss improved from 0.05988 to 0.05772, saving model to files/non-aug/unet-non-aug.h5\n",
      "10/10 [==============================] - 2s 208ms/step - loss: 0.0401 - accuracy: 0.9953 - val_loss: 0.0577 - val_accuracy: 0.9890 - lr: 1.0000e-08\n",
      "Epoch 61/100\n",
      "10/10 [==============================] - ETA: 0s - loss: 0.0401 - accuracy: 0.9953\n",
      "Epoch 61: val_loss improved from 0.05772 to 0.05617, saving model to files/non-aug/unet-non-aug.h5\n",
      "10/10 [==============================] - 2s 201ms/step - loss: 0.0401 - accuracy: 0.9953 - val_loss: 0.0562 - val_accuracy: 0.9891 - lr: 1.0000e-08\n",
      "Epoch 62/100\n",
      "10/10 [==============================] - ETA: 0s - loss: 0.0401 - accuracy: 0.9953\n",
      "Epoch 62: val_loss improved from 0.05617 to 0.05500, saving model to files/non-aug/unet-non-aug.h5\n",
      "10/10 [==============================] - 2s 202ms/step - loss: 0.0401 - accuracy: 0.9953 - val_loss: 0.0550 - val_accuracy: 0.9892 - lr: 1.0000e-08\n",
      "Epoch 63/100\n",
      "10/10 [==============================] - ETA: 0s - loss: 0.0401 - accuracy: 0.9953\n",
      "Epoch 63: val_loss improved from 0.05500 to 0.05429, saving model to files/non-aug/unet-non-aug.h5\n",
      "10/10 [==============================] - 2s 185ms/step - loss: 0.0401 - accuracy: 0.9953 - val_loss: 0.0543 - val_accuracy: 0.9891 - lr: 1.0000e-08\n",
      "Epoch 64/100\n",
      "10/10 [==============================] - ETA: 0s - loss: 0.0401 - accuracy: 0.9953\n",
      "Epoch 64: val_loss improved from 0.05429 to 0.05382, saving model to files/non-aug/unet-non-aug.h5\n",
      "10/10 [==============================] - 2s 183ms/step - loss: 0.0401 - accuracy: 0.9953 - val_loss: 0.0538 - val_accuracy: 0.9891 - lr: 1.0000e-08\n",
      "Epoch 65/100\n",
      "10/10 [==============================] - ETA: 0s - loss: 0.0401 - accuracy: 0.9953\n",
      "Epoch 65: val_loss improved from 0.05382 to 0.05357, saving model to files/non-aug/unet-non-aug.h5\n",
      "10/10 [==============================] - 2s 187ms/step - loss: 0.0401 - accuracy: 0.9953 - val_loss: 0.0536 - val_accuracy: 0.9890 - lr: 1.0000e-08\n",
      "Epoch 66/100\n",
      "10/10 [==============================] - ETA: 0s - loss: 0.0401 - accuracy: 0.9953\n",
      "Epoch 66: val_loss improved from 0.05357 to 0.05344, saving model to files/non-aug/unet-non-aug.h5\n",
      "10/10 [==============================] - 2s 197ms/step - loss: 0.0401 - accuracy: 0.9953 - val_loss: 0.0534 - val_accuracy: 0.9888 - lr: 1.0000e-08\n",
      "Epoch 67/100\n",
      "10/10 [==============================] - ETA: 0s - loss: 0.0401 - accuracy: 0.9953\n",
      "Epoch 67: val_loss improved from 0.05344 to 0.05331, saving model to files/non-aug/unet-non-aug.h5\n",
      "10/10 [==============================] - 2s 204ms/step - loss: 0.0401 - accuracy: 0.9953 - val_loss: 0.0533 - val_accuracy: 0.9887 - lr: 1.0000e-08\n",
      "Epoch 68/100\n",
      "10/10 [==============================] - ETA: 0s - loss: 0.0401 - accuracy: 0.9953\n",
      "Epoch 68: val_loss improved from 0.05331 to 0.05324, saving model to files/non-aug/unet-non-aug.h5\n",
      "10/10 [==============================] - 2s 199ms/step - loss: 0.0401 - accuracy: 0.9953 - val_loss: 0.0532 - val_accuracy: 0.9886 - lr: 1.0000e-08\n",
      "Epoch 69/100\n",
      "10/10 [==============================] - ETA: 0s - loss: 0.0401 - accuracy: 0.9953\n",
      "Epoch 69: val_loss improved from 0.05324 to 0.05320, saving model to files/non-aug/unet-non-aug.h5\n",
      "10/10 [==============================] - 2s 202ms/step - loss: 0.0401 - accuracy: 0.9953 - val_loss: 0.0532 - val_accuracy: 0.9885 - lr: 1.0000e-08\n",
      "Epoch 70/100\n",
      "10/10 [==============================] - ETA: 0s - loss: 0.0401 - accuracy: 0.9953\n",
      "Epoch 70: val_loss improved from 0.05320 to 0.05318, saving model to files/non-aug/unet-non-aug.h5\n",
      "10/10 [==============================] - 2s 199ms/step - loss: 0.0401 - accuracy: 0.9953 - val_loss: 0.0532 - val_accuracy: 0.9885 - lr: 1.0000e-08\n",
      "Epoch 71/100\n",
      "10/10 [==============================] - ETA: 0s - loss: 0.0401 - accuracy: 0.9953\n",
      "Epoch 71: val_loss improved from 0.05318 to 0.05318, saving model to files/non-aug/unet-non-aug.h5\n",
      "10/10 [==============================] - 2s 201ms/step - loss: 0.0401 - accuracy: 0.9953 - val_loss: 0.0532 - val_accuracy: 0.9884 - lr: 1.0000e-08\n",
      "Epoch 72/100\n",
      "10/10 [==============================] - ETA: 0s - loss: 0.0401 - accuracy: 0.9953\n",
      "Epoch 72: val_loss improved from 0.05318 to 0.05317, saving model to files/non-aug/unet-non-aug.h5\n",
      "10/10 [==============================] - 2s 198ms/step - loss: 0.0401 - accuracy: 0.9953 - val_loss: 0.0532 - val_accuracy: 0.9883 - lr: 1.0000e-08\n",
      "Epoch 73/100\n",
      "10/10 [==============================] - ETA: 0s - loss: 0.0401 - accuracy: 0.9953\n",
      "Epoch 73: val_loss did not improve from 0.05317\n",
      "10/10 [==============================] - 1s 121ms/step - loss: 0.0401 - accuracy: 0.9953 - val_loss: 0.0532 - val_accuracy: 0.9883 - lr: 1.0000e-08\n",
      "Epoch 74/100\n",
      " 9/10 [==========================>...] - ETA: 0s - loss: 0.0387 - accuracy: 0.9953\n",
      "Epoch 74: val_loss did not improve from 0.05317\n",
      "10/10 [==============================] - 1s 115ms/step - loss: 0.0401 - accuracy: 0.9953 - val_loss: 0.0532 - val_accuracy: 0.9883 - lr: 1.0000e-09\n",
      "Epoch 75/100\n",
      "10/10 [==============================] - ETA: 0s - loss: 0.0401 - accuracy: 0.9953\n",
      "Epoch 75: val_loss did not improve from 0.05317\n",
      "10/10 [==============================] - 1s 115ms/step - loss: 0.0401 - accuracy: 0.9953 - val_loss: 0.0533 - val_accuracy: 0.9882 - lr: 1.0000e-09\n",
      "Epoch 76/100\n",
      "10/10 [==============================] - ETA: 0s - loss: 0.0401 - accuracy: 0.9953\n",
      "Epoch 76: val_loss did not improve from 0.05317\n",
      "10/10 [==============================] - 1s 118ms/step - loss: 0.0401 - accuracy: 0.9953 - val_loss: 0.0534 - val_accuracy: 0.9881 - lr: 1.0000e-09\n",
      "Epoch 77/100\n",
      "10/10 [==============================] - ETA: 0s - loss: 0.0401 - accuracy: 0.9953\n",
      "Epoch 77: val_loss did not improve from 0.05317\n",
      "10/10 [==============================] - 1s 122ms/step - loss: 0.0401 - accuracy: 0.9953 - val_loss: 0.0534 - val_accuracy: 0.9880 - lr: 1.0000e-09\n",
      "Epoch 78/100\n",
      "10/10 [==============================] - ETA: 0s - loss: 0.0401 - accuracy: 0.9953\n",
      "Epoch 78: val_loss did not improve from 0.05317\n",
      "10/10 [==============================] - 1s 121ms/step - loss: 0.0401 - accuracy: 0.9953 - val_loss: 0.0535 - val_accuracy: 0.9880 - lr: 1.0000e-10\n",
      "Epoch 79/100\n",
      "10/10 [==============================] - ETA: 0s - loss: 0.0401 - accuracy: 0.9953\n",
      "Epoch 79: val_loss did not improve from 0.05317\n",
      "10/10 [==============================] - 1s 116ms/step - loss: 0.0401 - accuracy: 0.9953 - val_loss: 0.0535 - val_accuracy: 0.9879 - lr: 1.0000e-10\n",
      "Epoch 80/100\n",
      "10/10 [==============================] - ETA: 0s - loss: 0.0401 - accuracy: 0.9953\n",
      "Epoch 80: val_loss did not improve from 0.05317\n",
      "10/10 [==============================] - 1s 118ms/step - loss: 0.0401 - accuracy: 0.9953 - val_loss: 0.0536 - val_accuracy: 0.9878 - lr: 1.0000e-10\n",
      "Epoch 81/100\n",
      "10/10 [==============================] - ETA: 0s - loss: 0.0401 - accuracy: 0.9953\n",
      "Epoch 81: val_loss did not improve from 0.05317\n",
      "10/10 [==============================] - 1s 115ms/step - loss: 0.0401 - accuracy: 0.9953 - val_loss: 0.0537 - val_accuracy: 0.9877 - lr: 1.0000e-10\n",
      "Epoch 82/100\n",
      "10/10 [==============================] - ETA: 0s - loss: 0.0401 - accuracy: 0.9953\n",
      "Epoch 82: val_loss did not improve from 0.05317\n",
      "10/10 [==============================] - 1s 120ms/step - loss: 0.0401 - accuracy: 0.9953 - val_loss: 0.0538 - val_accuracy: 0.9877 - lr: 1.0000e-11\n",
      "Epoch 83/100\n",
      "10/10 [==============================] - ETA: 0s - loss: 0.0401 - accuracy: 0.9953\n",
      "Epoch 83: val_loss did not improve from 0.05317\n",
      "10/10 [==============================] - 1s 121ms/step - loss: 0.0401 - accuracy: 0.9953 - val_loss: 0.0539 - val_accuracy: 0.9877 - lr: 1.0000e-11\n",
      "Epoch 84/100\n",
      "10/10 [==============================] - ETA: 0s - loss: 0.0401 - accuracy: 0.9953\n",
      "Epoch 84: val_loss did not improve from 0.05317\n",
      "10/10 [==============================] - 1s 120ms/step - loss: 0.0401 - accuracy: 0.9953 - val_loss: 0.0540 - val_accuracy: 0.9876 - lr: 1.0000e-11\n",
      "Epoch 85/100\n",
      "10/10 [==============================] - ETA: 0s - loss: 0.0401 - accuracy: 0.9953\n",
      "Epoch 85: val_loss did not improve from 0.05317\n",
      "10/10 [==============================] - 1s 121ms/step - loss: 0.0401 - accuracy: 0.9953 - val_loss: 0.0541 - val_accuracy: 0.9876 - lr: 1.0000e-11\n",
      "Epoch 86/100\n",
      "10/10 [==============================] - ETA: 0s - loss: 0.0401 - accuracy: 0.9953\n",
      "Epoch 86: val_loss did not improve from 0.05317\n",
      "10/10 [==============================] - 1s 125ms/step - loss: 0.0401 - accuracy: 0.9953 - val_loss: 0.0541 - val_accuracy: 0.9876 - lr: 1.0000e-12\n",
      "Epoch 87/100\n",
      "10/10 [==============================] - ETA: 0s - loss: 0.0401 - accuracy: 0.9953\n",
      "Epoch 87: val_loss did not improve from 0.05317\n",
      "10/10 [==============================] - 1s 120ms/step - loss: 0.0401 - accuracy: 0.9953 - val_loss: 0.0542 - val_accuracy: 0.9876 - lr: 1.0000e-12\n",
      "Epoch 88/100\n",
      "10/10 [==============================] - ETA: 0s - loss: 0.0401 - accuracy: 0.9953\n",
      "Epoch 88: val_loss did not improve from 0.05317\n",
      "10/10 [==============================] - 1s 121ms/step - loss: 0.0401 - accuracy: 0.9953 - val_loss: 0.0542 - val_accuracy: 0.9875 - lr: 1.0000e-12\n",
      "Epoch 89/100\n",
      "10/10 [==============================] - ETA: 0s - loss: 0.0401 - accuracy: 0.9953\n",
      "Epoch 89: val_loss did not improve from 0.05317\n",
      "10/10 [==============================] - 1s 122ms/step - loss: 0.0401 - accuracy: 0.9953 - val_loss: 0.0543 - val_accuracy: 0.9875 - lr: 1.0000e-12\n",
      "Epoch 90/100\n",
      "10/10 [==============================] - ETA: 0s - loss: 0.0401 - accuracy: 0.9953\n",
      "Epoch 90: val_loss did not improve from 0.05317\n",
      "10/10 [==============================] - 1s 122ms/step - loss: 0.0401 - accuracy: 0.9953 - val_loss: 0.0543 - val_accuracy: 0.9875 - lr: 1.0000e-13\n",
      "Epoch 91/100\n",
      "10/10 [==============================] - ETA: 0s - loss: 0.0401 - accuracy: 0.9953\n",
      "Epoch 91: val_loss did not improve from 0.05317\n",
      "10/10 [==============================] - 1s 121ms/step - loss: 0.0401 - accuracy: 0.9953 - val_loss: 0.0544 - val_accuracy: 0.9875 - lr: 1.0000e-13\n",
      "Epoch 92/100\n",
      "10/10 [==============================] - ETA: 0s - loss: 0.0401 - accuracy: 0.9953\n",
      "Epoch 92: val_loss did not improve from 0.05317\n",
      "10/10 [==============================] - 1s 121ms/step - loss: 0.0401 - accuracy: 0.9953 - val_loss: 0.0544 - val_accuracy: 0.9875 - lr: 1.0000e-13\n"
     ]
    },
    {
     "data": {
      "text/plain": [
       "<keras.callbacks.History at 0x7f7997cfd180>"
      ]
     },
     "execution_count": 388,
     "metadata": {},
     "output_type": "execute_result"
    }
   ],
   "source": [
    "model.fit(\n",
    "    train_dataset, validation_data=valid_dataset, epochs=epoch, callbacks=callbacks\n",
    ")"
   ]
  },
  {
   "cell_type": "code",
   "execution_count": null,
   "metadata": {},
   "outputs": [],
   "source": [
    "\n"
   ]
  },
  {
   "cell_type": "code",
   "execution_count": 394,
   "metadata": {},
   "outputs": [
    {
     "name": "stdout",
     "output_type": "stream",
     "text": [
      "Model: \"UNET\"\n",
      "__________________________________________________________________________________________________\n",
      " Layer (type)                   Output Shape         Param #     Connected to                     \n",
      "==================================================================================================\n",
      " input_11 (InputLayer)          [(None, 128, 128, 3  0           []                               \n",
      "                                )]                                                                \n",
      "                                                                                                  \n",
      " conv2d_190 (Conv2D)            (None, 128, 128, 64  1792        ['input_11[0][0]']               \n",
      "                                )                                                                 \n",
      "                                                                                                  \n",
      " batch_normalization_180 (Batch  (None, 128, 128, 64  256        ['conv2d_190[0][0]']             \n",
      " Normalization)                 )                                                                 \n",
      "                                                                                                  \n",
      " activation_180 (Activation)    (None, 128, 128, 64  0           ['batch_normalization_180[0][0]']\n",
      "                                )                                                                 \n",
      "                                                                                                  \n",
      " conv2d_191 (Conv2D)            (None, 128, 128, 64  36928       ['activation_180[0][0]']         \n",
      "                                )                                                                 \n",
      "                                                                                                  \n",
      " batch_normalization_181 (Batch  (None, 128, 128, 64  256        ['conv2d_191[0][0]']             \n",
      " Normalization)                 )                                                                 \n",
      "                                                                                                  \n",
      " activation_181 (Activation)    (None, 128, 128, 64  0           ['batch_normalization_181[0][0]']\n",
      "                                )                                                                 \n",
      "                                                                                                  \n",
      " max_pooling2d_40 (MaxPooling2D  (None, 64, 64, 64)  0           ['activation_181[0][0]']         \n",
      " )                                                                                                \n",
      "                                                                                                  \n",
      " conv2d_192 (Conv2D)            (None, 64, 64, 128)  73856       ['max_pooling2d_40[0][0]']       \n",
      "                                                                                                  \n",
      " batch_normalization_182 (Batch  (None, 64, 64, 128)  512        ['conv2d_192[0][0]']             \n",
      " Normalization)                                                                                   \n",
      "                                                                                                  \n",
      " activation_182 (Activation)    (None, 64, 64, 128)  0           ['batch_normalization_182[0][0]']\n",
      "                                                                                                  \n",
      " conv2d_193 (Conv2D)            (None, 64, 64, 128)  147584      ['activation_182[0][0]']         \n",
      "                                                                                                  \n",
      " batch_normalization_183 (Batch  (None, 64, 64, 128)  512        ['conv2d_193[0][0]']             \n",
      " Normalization)                                                                                   \n",
      "                                                                                                  \n",
      " activation_183 (Activation)    (None, 64, 64, 128)  0           ['batch_normalization_183[0][0]']\n",
      "                                                                                                  \n",
      " max_pooling2d_41 (MaxPooling2D  (None, 32, 32, 128)  0          ['activation_183[0][0]']         \n",
      " )                                                                                                \n",
      "                                                                                                  \n",
      " conv2d_194 (Conv2D)            (None, 32, 32, 512)  590336      ['max_pooling2d_41[0][0]']       \n",
      "                                                                                                  \n",
      " batch_normalization_184 (Batch  (None, 32, 32, 512)  2048       ['conv2d_194[0][0]']             \n",
      " Normalization)                                                                                   \n",
      "                                                                                                  \n",
      " activation_184 (Activation)    (None, 32, 32, 512)  0           ['batch_normalization_184[0][0]']\n",
      "                                                                                                  \n",
      " conv2d_195 (Conv2D)            (None, 32, 32, 512)  2359808     ['activation_184[0][0]']         \n",
      "                                                                                                  \n",
      " batch_normalization_185 (Batch  (None, 32, 32, 512)  2048       ['conv2d_195[0][0]']             \n",
      " Normalization)                                                                                   \n",
      "                                                                                                  \n",
      " activation_185 (Activation)    (None, 32, 32, 512)  0           ['batch_normalization_185[0][0]']\n",
      "                                                                                                  \n",
      " max_pooling2d_42 (MaxPooling2D  (None, 16, 16, 512)  0          ['activation_185[0][0]']         \n",
      " )                                                                                                \n",
      "                                                                                                  \n",
      " conv2d_196 (Conv2D)            (None, 16, 16, 512)  2359808     ['max_pooling2d_42[0][0]']       \n",
      "                                                                                                  \n",
      " batch_normalization_186 (Batch  (None, 16, 16, 512)  2048       ['conv2d_196[0][0]']             \n",
      " Normalization)                                                                                   \n",
      "                                                                                                  \n",
      " activation_186 (Activation)    (None, 16, 16, 512)  0           ['batch_normalization_186[0][0]']\n",
      "                                                                                                  \n",
      " conv2d_197 (Conv2D)            (None, 16, 16, 512)  2359808     ['activation_186[0][0]']         \n",
      "                                                                                                  \n",
      " batch_normalization_187 (Batch  (None, 16, 16, 512)  2048       ['conv2d_197[0][0]']             \n",
      " Normalization)                                                                                   \n",
      "                                                                                                  \n",
      " activation_187 (Activation)    (None, 16, 16, 512)  0           ['batch_normalization_187[0][0]']\n",
      "                                                                                                  \n",
      " max_pooling2d_43 (MaxPooling2D  (None, 8, 8, 512)   0           ['activation_187[0][0]']         \n",
      " )                                                                                                \n",
      "                                                                                                  \n",
      " conv2d_198 (Conv2D)            (None, 8, 8, 1024)   4719616     ['max_pooling2d_43[0][0]']       \n",
      "                                                                                                  \n",
      " batch_normalization_188 (Batch  (None, 8, 8, 1024)  4096        ['conv2d_198[0][0]']             \n",
      " Normalization)                                                                                   \n",
      "                                                                                                  \n",
      " activation_188 (Activation)    (None, 8, 8, 1024)   0           ['batch_normalization_188[0][0]']\n",
      "                                                                                                  \n",
      " conv2d_199 (Conv2D)            (None, 8, 8, 1024)   9438208     ['activation_188[0][0]']         \n",
      "                                                                                                  \n",
      " batch_normalization_189 (Batch  (None, 8, 8, 1024)  4096        ['conv2d_199[0][0]']             \n",
      " Normalization)                                                                                   \n",
      "                                                                                                  \n",
      " activation_189 (Activation)    (None, 8, 8, 1024)   0           ['batch_normalization_189[0][0]']\n",
      "                                                                                                  \n",
      " conv2d_transpose_40 (Conv2DTra  (None, 16, 16, 512)  2097664    ['activation_189[0][0]']         \n",
      " nspose)                                                                                          \n",
      "                                                                                                  \n",
      " concatenate_40 (Concatenate)   (None, 16, 16, 1024  0           ['conv2d_transpose_40[0][0]',    \n",
      "                                )                                 'activation_187[0][0]']         \n",
      "                                                                                                  \n",
      " conv2d_200 (Conv2D)            (None, 16, 16, 512)  4719104     ['concatenate_40[0][0]']         \n",
      "                                                                                                  \n",
      " batch_normalization_190 (Batch  (None, 16, 16, 512)  2048       ['conv2d_200[0][0]']             \n",
      " Normalization)                                                                                   \n",
      "                                                                                                  \n",
      " activation_190 (Activation)    (None, 16, 16, 512)  0           ['batch_normalization_190[0][0]']\n",
      "                                                                                                  \n",
      " conv2d_201 (Conv2D)            (None, 16, 16, 512)  2359808     ['activation_190[0][0]']         \n",
      "                                                                                                  \n",
      " batch_normalization_191 (Batch  (None, 16, 16, 512)  2048       ['conv2d_201[0][0]']             \n",
      " Normalization)                                                                                   \n",
      "                                                                                                  \n",
      " activation_191 (Activation)    (None, 16, 16, 512)  0           ['batch_normalization_191[0][0]']\n",
      "                                                                                                  \n",
      " conv2d_transpose_41 (Conv2DTra  (None, 32, 32, 256)  524544     ['activation_191[0][0]']         \n",
      " nspose)                                                                                          \n",
      "                                                                                                  \n",
      " concatenate_41 (Concatenate)   (None, 32, 32, 768)  0           ['conv2d_transpose_41[0][0]',    \n",
      "                                                                  'activation_185[0][0]']         \n",
      "                                                                                                  \n",
      " conv2d_202 (Conv2D)            (None, 32, 32, 256)  1769728     ['concatenate_41[0][0]']         \n",
      "                                                                                                  \n",
      " batch_normalization_192 (Batch  (None, 32, 32, 256)  1024       ['conv2d_202[0][0]']             \n",
      " Normalization)                                                                                   \n",
      "                                                                                                  \n",
      " activation_192 (Activation)    (None, 32, 32, 256)  0           ['batch_normalization_192[0][0]']\n",
      "                                                                                                  \n",
      " conv2d_203 (Conv2D)            (None, 32, 32, 256)  590080      ['activation_192[0][0]']         \n",
      "                                                                                                  \n",
      " batch_normalization_193 (Batch  (None, 32, 32, 256)  1024       ['conv2d_203[0][0]']             \n",
      " Normalization)                                                                                   \n",
      "                                                                                                  \n",
      " activation_193 (Activation)    (None, 32, 32, 256)  0           ['batch_normalization_193[0][0]']\n",
      "                                                                                                  \n",
      " conv2d_transpose_42 (Conv2DTra  (None, 64, 64, 128)  131200     ['activation_193[0][0]']         \n",
      " nspose)                                                                                          \n",
      "                                                                                                  \n",
      " concatenate_42 (Concatenate)   (None, 64, 64, 256)  0           ['conv2d_transpose_42[0][0]',    \n",
      "                                                                  'activation_183[0][0]']         \n",
      "                                                                                                  \n",
      " conv2d_204 (Conv2D)            (None, 64, 64, 128)  295040      ['concatenate_42[0][0]']         \n",
      "                                                                                                  \n",
      " batch_normalization_194 (Batch  (None, 64, 64, 128)  512        ['conv2d_204[0][0]']             \n",
      " Normalization)                                                                                   \n",
      "                                                                                                  \n",
      " activation_194 (Activation)    (None, 64, 64, 128)  0           ['batch_normalization_194[0][0]']\n",
      "                                                                                                  \n",
      " conv2d_205 (Conv2D)            (None, 64, 64, 128)  147584      ['activation_194[0][0]']         \n",
      "                                                                                                  \n",
      " batch_normalization_195 (Batch  (None, 64, 64, 128)  512        ['conv2d_205[0][0]']             \n",
      " Normalization)                                                                                   \n",
      "                                                                                                  \n",
      " activation_195 (Activation)    (None, 64, 64, 128)  0           ['batch_normalization_195[0][0]']\n",
      "                                                                                                  \n",
      " conv2d_transpose_43 (Conv2DTra  (None, 128, 128, 64  32832      ['activation_195[0][0]']         \n",
      " nspose)                        )                                                                 \n",
      "                                                                                                  \n",
      " concatenate_43 (Concatenate)   (None, 128, 128, 12  0           ['conv2d_transpose_43[0][0]',    \n",
      "                                8)                                'activation_181[0][0]']         \n",
      "                                                                                                  \n",
      " conv2d_206 (Conv2D)            (None, 128, 128, 64  73792       ['concatenate_43[0][0]']         \n",
      "                                )                                                                 \n",
      "                                                                                                  \n",
      " batch_normalization_196 (Batch  (None, 128, 128, 64  256        ['conv2d_206[0][0]']             \n",
      " Normalization)                 )                                                                 \n",
      "                                                                                                  \n",
      " activation_196 (Activation)    (None, 128, 128, 64  0           ['batch_normalization_196[0][0]']\n",
      "                                )                                                                 \n",
      "                                                                                                  \n",
      " conv2d_207 (Conv2D)            (None, 128, 128, 64  36928       ['activation_196[0][0]']         \n",
      "                                )                                                                 \n",
      "                                                                                                  \n",
      " batch_normalization_197 (Batch  (None, 128, 128, 64  256        ['conv2d_207[0][0]']             \n",
      " Normalization)                 )                                                                 \n",
      "                                                                                                  \n",
      " activation_197 (Activation)    (None, 128, 128, 64  0           ['batch_normalization_197[0][0]']\n",
      "                                )                                                                 \n",
      "                                                                                                  \n",
      " conv2d_208 (Conv2D)            (None, 128, 128, 1)  65          ['activation_197[0][0]']         \n",
      "                                                                                                  \n",
      "==================================================================================================\n",
      "Total params: 34,891,713\n",
      "Trainable params: 34,878,913\n",
      "Non-trainable params: 12,800\n",
      "__________________________________________________________________________________________________\n"
     ]
    }
   ],
   "source": [
    "\n",
    "save_path= \"prediction,non-aug\"\n",
    "\n",
    "\n",
    "create_dir(save_path)\n",
    "\n",
    "model2=tf.keras.models.load_model(model_file)\n",
    "model2.summary()\n",
    "\n",
    "\n",
    "test_x=sorted(os.path.join(dataset_path, 'test', \"*\"))"
   ]
  },
  {
   "cell_type": "code",
   "execution_count": 395,
   "metadata": {},
   "outputs": [
    {
     "data": {
      "text/plain": [
       "'/home/keanuf/.cache/Assignemt9/BRAIN SEGMENTATION/dataset2/non-aug/test/353340_10.png'"
      ]
     },
     "execution_count": 395,
     "metadata": {},
     "output_type": "execute_result"
    }
   ],
   "source": [
    "test_x=sorted(glob(os.path.join(\"/home/keanuf/.cache/Assignemt9/BRAIN SEGMENTATION/dataset2/non-aug/\", \"test\",\"*\")))\n",
    "test_x[0]"
   ]
  },
  {
   "cell_type": "code",
   "execution_count": 396,
   "metadata": {},
   "outputs": [
    {
     "name": "stderr",
     "output_type": "stream",
     "text": [
      "  0%|          | 0/615 [00:00<?, ?it/s]"
     ]
    },
    {
     "name": "stdout",
     "output_type": "stream",
     "text": [
      "353340_10.png\n",
      "1/1 [==============================] - 0s 27ms/step\n",
      "353340_11.png\n",
      "1/1 [==============================] - 0s 20ms/step\n"
     ]
    },
    {
     "name": "stderr",
     "output_type": "stream",
     "text": [
      "  0%|          | 2/615 [00:00<00:41, 14.75it/s]"
     ]
    },
    {
     "name": "stdout",
     "output_type": "stream",
     "text": [
      "353340_12.png\n",
      "1/1 [==============================] - 0s 26ms/step\n",
      "353340_13.png\n",
      "1/1 [==============================] - 0s 25ms/step\n"
     ]
    },
    {
     "name": "stderr",
     "output_type": "stream",
     "text": [
      "  1%|          | 4/615 [00:00<00:41, 14.88it/s]"
     ]
    },
    {
     "name": "stdout",
     "output_type": "stream",
     "text": [
      "353340_14.png\n",
      "1/1 [==============================] - 0s 23ms/step\n",
      "353340_15.png\n",
      "1/1 [==============================] - 0s 26ms/step\n"
     ]
    },
    {
     "name": "stderr",
     "output_type": "stream",
     "text": [
      "  1%|          | 6/615 [00:00<00:40, 15.05it/s]"
     ]
    },
    {
     "name": "stdout",
     "output_type": "stream",
     "text": [
      "353340_16.png\n",
      "1/1 [==============================] - 0s 21ms/step\n",
      "353340_17.png\n",
      "1/1 [==============================] - 0s 21ms/step\n"
     ]
    },
    {
     "name": "stderr",
     "output_type": "stream",
     "text": [
      "  1%|▏         | 8/615 [00:00<00:40, 14.95it/s]"
     ]
    },
    {
     "name": "stdout",
     "output_type": "stream",
     "text": [
      "353340_18.png\n",
      "1/1 [==============================] - 0s 19ms/step\n",
      "353340_19.png\n",
      "1/1 [==============================] - 0s 20ms/step\n"
     ]
    },
    {
     "name": "stderr",
     "output_type": "stream",
     "text": [
      "  2%|▏         | 10/615 [00:00<00:39, 15.13it/s]"
     ]
    },
    {
     "name": "stdout",
     "output_type": "stream",
     "text": [
      "353340_20.png\n",
      "1/1 [==============================] - 0s 32ms/step\n",
      "353340_21.png\n",
      "1/1 [==============================] - 0s 22ms/step\n"
     ]
    },
    {
     "name": "stderr",
     "output_type": "stream",
     "text": [
      "  2%|▏         | 12/615 [00:00<00:40, 15.01it/s]"
     ]
    },
    {
     "name": "stdout",
     "output_type": "stream",
     "text": [
      "353340_22.png\n",
      "1/1 [==============================] - 0s 24ms/step\n",
      "353340_23.png\n",
      "1/1 [==============================] - 0s 24ms/step\n"
     ]
    },
    {
     "name": "stderr",
     "output_type": "stream",
     "text": [
      "  2%|▏         | 14/615 [00:00<00:40, 14.92it/s]"
     ]
    },
    {
     "name": "stdout",
     "output_type": "stream",
     "text": [
      "353340_24.png\n",
      "1/1 [==============================] - 0s 25ms/step\n",
      "353340_25.png\n",
      "1/1 [==============================] - 0s 27ms/step\n"
     ]
    },
    {
     "name": "stderr",
     "output_type": "stream",
     "text": [
      "  3%|▎         | 16/615 [00:01<00:39, 15.04it/s]"
     ]
    },
    {
     "name": "stdout",
     "output_type": "stream",
     "text": [
      "353340_26.png\n",
      "1/1 [==============================] - 0s 24ms/step\n",
      "353340_27.png\n",
      "1/1 [==============================] - 0s 22ms/step\n"
     ]
    },
    {
     "name": "stderr",
     "output_type": "stream",
     "text": [
      "  3%|▎         | 18/615 [00:01<00:39, 15.03it/s]"
     ]
    },
    {
     "name": "stdout",
     "output_type": "stream",
     "text": [
      "353340_28.png\n",
      "1/1 [==============================] - 0s 27ms/step\n",
      "353340_29.png\n",
      "1/1 [==============================] - 0s 27ms/step\n"
     ]
    },
    {
     "name": "stderr",
     "output_type": "stream",
     "text": [
      "  3%|▎         | 20/615 [00:01<00:39, 15.05it/s]"
     ]
    },
    {
     "name": "stdout",
     "output_type": "stream",
     "text": [
      "353340_30.png\n",
      "1/1 [==============================] - 0s 21ms/step\n",
      "353340_31.png\n",
      "1/1 [==============================] - 0s 19ms/step\n"
     ]
    },
    {
     "name": "stderr",
     "output_type": "stream",
     "text": [
      "  4%|▎         | 22/615 [00:01<00:39, 15.10it/s]"
     ]
    },
    {
     "name": "stdout",
     "output_type": "stream",
     "text": [
      "353340_32.png\n",
      "1/1 [==============================] - 0s 28ms/step\n",
      "353340_33.png\n",
      "1/1 [==============================] - 0s 26ms/step\n"
     ]
    },
    {
     "name": "stderr",
     "output_type": "stream",
     "text": [
      "  4%|▍         | 24/615 [00:01<00:44, 13.17it/s]"
     ]
    },
    {
     "name": "stdout",
     "output_type": "stream",
     "text": [
      "353340_34.png\n",
      "1/1 [==============================] - 0s 25ms/step\n",
      "353340_35.png\n",
      "1/1 [==============================] - 0s 26ms/step\n"
     ]
    },
    {
     "name": "stderr",
     "output_type": "stream",
     "text": [
      "  4%|▍         | 26/615 [00:01<00:43, 13.40it/s]"
     ]
    },
    {
     "name": "stdout",
     "output_type": "stream",
     "text": [
      "353340_36.png\n",
      "1/1 [==============================] - 0s 24ms/step\n",
      "353340_37.png\n",
      "1/1 [==============================] - 0s 29ms/step\n"
     ]
    },
    {
     "name": "stderr",
     "output_type": "stream",
     "text": [
      "  5%|▍         | 28/615 [00:01<00:41, 13.98it/s]"
     ]
    },
    {
     "name": "stdout",
     "output_type": "stream",
     "text": [
      "353340_38.png\n",
      "1/1 [==============================] - 0s 22ms/step\n",
      "353340_39.png\n",
      "1/1 [==============================] - 0s 28ms/step\n"
     ]
    },
    {
     "name": "stderr",
     "output_type": "stream",
     "text": [
      "  5%|▍         | 30/615 [00:02<00:41, 14.11it/s]"
     ]
    },
    {
     "name": "stdout",
     "output_type": "stream",
     "text": [
      "353340_40.png\n",
      "1/1 [==============================] - 0s 33ms/step\n",
      "353340_41.png\n",
      "1/1 [==============================] - 0s 23ms/step\n"
     ]
    },
    {
     "name": "stderr",
     "output_type": "stream",
     "text": [
      "  5%|▌         | 32/615 [00:02<00:40, 14.46it/s]"
     ]
    },
    {
     "name": "stdout",
     "output_type": "stream",
     "text": [
      "353340_42.png\n",
      "1/1 [==============================] - 0s 26ms/step\n",
      "353340_43.png\n",
      "1/1 [==============================] - 0s 22ms/step\n"
     ]
    },
    {
     "name": "stderr",
     "output_type": "stream",
     "text": [
      "  6%|▌         | 34/615 [00:02<00:39, 14.71it/s]"
     ]
    },
    {
     "name": "stdout",
     "output_type": "stream",
     "text": [
      "353340_44.png\n",
      "1/1 [==============================] - 0s 21ms/step\n",
      "353340_45.png\n",
      "1/1 [==============================] - 0s 24ms/step\n"
     ]
    },
    {
     "name": "stderr",
     "output_type": "stream",
     "text": [
      "  6%|▌         | 36/615 [00:02<00:39, 14.77it/s]"
     ]
    },
    {
     "name": "stdout",
     "output_type": "stream",
     "text": [
      "353340_46.png\n",
      "1/1 [==============================] - 0s 21ms/step\n",
      "353340_47.png\n",
      "1/1 [==============================] - 0s 21ms/step\n"
     ]
    },
    {
     "name": "stderr",
     "output_type": "stream",
     "text": [
      "  6%|▌         | 38/615 [00:02<00:38, 15.02it/s]"
     ]
    },
    {
     "name": "stdout",
     "output_type": "stream",
     "text": [
      "353340_48.png\n",
      "1/1 [==============================] - 0s 22ms/step\n",
      "353340_49.png\n",
      "1/1 [==============================] - 0s 23ms/step\n"
     ]
    },
    {
     "name": "stderr",
     "output_type": "stream",
     "text": [
      "  7%|▋         | 40/615 [00:02<00:38, 14.93it/s]"
     ]
    },
    {
     "name": "stdout",
     "output_type": "stream",
     "text": [
      "353340_50.png\n",
      "1/1 [==============================] - 0s 21ms/step\n",
      "353340_51.png\n",
      "1/1 [==============================] - 0s 25ms/step\n"
     ]
    },
    {
     "name": "stderr",
     "output_type": "stream",
     "text": [
      "  7%|▋         | 42/615 [00:02<00:38, 14.94it/s]"
     ]
    },
    {
     "name": "stdout",
     "output_type": "stream",
     "text": [
      "353340_52.png\n",
      "1/1 [==============================] - 0s 27ms/step\n",
      "353340_53.png\n",
      "1/1 [==============================] - 0s 21ms/step\n"
     ]
    },
    {
     "name": "stderr",
     "output_type": "stream",
     "text": [
      "  7%|▋         | 44/615 [00:02<00:38, 14.95it/s]"
     ]
    },
    {
     "name": "stdout",
     "output_type": "stream",
     "text": [
      "353340_54.png\n",
      "1/1 [==============================] - 0s 23ms/step\n",
      "353340_55.png\n",
      "1/1 [==============================] - 0s 20ms/step\n"
     ]
    },
    {
     "name": "stderr",
     "output_type": "stream",
     "text": [
      "  7%|▋         | 46/615 [00:03<00:37, 15.05it/s]"
     ]
    },
    {
     "name": "stdout",
     "output_type": "stream",
     "text": [
      "353340_56.png\n",
      "1/1 [==============================] - 0s 23ms/step\n",
      "353340_57.png\n",
      "1/1 [==============================] - 0s 20ms/step\n"
     ]
    },
    {
     "name": "stderr",
     "output_type": "stream",
     "text": [
      "  8%|▊         | 48/615 [00:03<00:36, 15.47it/s]"
     ]
    },
    {
     "name": "stdout",
     "output_type": "stream",
     "text": [
      "353340_58.png\n",
      "1/1 [==============================] - 0s 22ms/step\n",
      "353340_59.png\n",
      "1/1 [==============================] - 0s 41ms/step\n"
     ]
    },
    {
     "name": "stderr",
     "output_type": "stream",
     "text": [
      "  8%|▊         | 50/615 [00:03<00:38, 14.83it/s]"
     ]
    },
    {
     "name": "stdout",
     "output_type": "stream",
     "text": [
      "353340_60.png\n",
      "1/1 [==============================] - 0s 28ms/step\n",
      "353340_61.png\n",
      "1/1 [==============================] - 0s 26ms/step\n"
     ]
    },
    {
     "name": "stderr",
     "output_type": "stream",
     "text": [
      "  8%|▊         | 52/615 [00:03<00:40, 13.87it/s]"
     ]
    },
    {
     "name": "stdout",
     "output_type": "stream",
     "text": [
      "353340_62.png\n",
      "1/1 [==============================] - 0s 21ms/step\n",
      "353340_63.png\n",
      "1/1 [==============================] - 0s 28ms/step\n"
     ]
    },
    {
     "name": "stderr",
     "output_type": "stream",
     "text": [
      "  9%|▉         | 54/615 [00:03<00:39, 14.13it/s]"
     ]
    },
    {
     "name": "stdout",
     "output_type": "stream",
     "text": [
      "353340_64.png\n",
      "1/1 [==============================] - 0s 25ms/step\n",
      "353340_65.png\n",
      "1/1 [==============================] - 0s 22ms/step\n"
     ]
    },
    {
     "name": "stderr",
     "output_type": "stream",
     "text": [
      "  9%|▉         | 56/615 [00:03<00:39, 14.21it/s]"
     ]
    },
    {
     "name": "stdout",
     "output_type": "stream",
     "text": [
      "353340_66.png\n",
      "1/1 [==============================] - 0s 27ms/step\n",
      "353340_67.png\n",
      "1/1 [==============================] - 0s 24ms/step\n"
     ]
    },
    {
     "name": "stderr",
     "output_type": "stream",
     "text": [
      "  9%|▉         | 58/615 [00:03<00:38, 14.48it/s]"
     ]
    },
    {
     "name": "stdout",
     "output_type": "stream",
     "text": [
      "353340_68.png\n",
      "1/1 [==============================] - 0s 20ms/step\n",
      "353340_69.png\n",
      "1/1 [==============================] - 0s 20ms/step\n"
     ]
    },
    {
     "name": "stderr",
     "output_type": "stream",
     "text": [
      " 10%|▉         | 60/615 [00:04<00:37, 14.69it/s]"
     ]
    },
    {
     "name": "stdout",
     "output_type": "stream",
     "text": [
      "353340_7.png\n",
      "1/1 [==============================] - 0s 28ms/step\n",
      "353340_70.png\n",
      "1/1 [==============================] - 0s 22ms/step\n"
     ]
    },
    {
     "name": "stderr",
     "output_type": "stream",
     "text": [
      " 10%|█         | 62/615 [00:04<00:37, 14.85it/s]"
     ]
    },
    {
     "name": "stdout",
     "output_type": "stream",
     "text": [
      "353340_71.png\n",
      "1/1 [==============================] - 0s 37ms/step\n",
      "353340_72.png\n",
      "1/1 [==============================] - 0s 29ms/step\n"
     ]
    },
    {
     "name": "stderr",
     "output_type": "stream",
     "text": [
      " 10%|█         | 64/615 [00:04<00:40, 13.77it/s]"
     ]
    },
    {
     "name": "stdout",
     "output_type": "stream",
     "text": [
      "353340_73.png\n",
      "1/1 [==============================] - 0s 21ms/step\n",
      "353340_74.png\n",
      "1/1 [==============================] - 0s 21ms/step\n"
     ]
    },
    {
     "name": "stderr",
     "output_type": "stream",
     "text": [
      " 11%|█         | 66/615 [00:04<00:38, 14.17it/s]"
     ]
    },
    {
     "name": "stdout",
     "output_type": "stream",
     "text": [
      "353340_75.png\n",
      "1/1 [==============================] - 0s 26ms/step\n",
      "353340_76.png\n",
      "1/1 [==============================] - 0s 21ms/step\n"
     ]
    },
    {
     "name": "stderr",
     "output_type": "stream",
     "text": [
      " 11%|█         | 68/615 [00:04<00:37, 14.47it/s]"
     ]
    },
    {
     "name": "stdout",
     "output_type": "stream",
     "text": [
      "353340_77.png\n",
      "1/1 [==============================] - 0s 22ms/step\n",
      "353340_78.png\n",
      "1/1 [==============================] - 0s 22ms/step\n"
     ]
    },
    {
     "name": "stderr",
     "output_type": "stream",
     "text": [
      " 11%|█▏        | 70/615 [00:04<00:37, 14.63it/s]"
     ]
    },
    {
     "name": "stdout",
     "output_type": "stream",
     "text": [
      "353340_79.png\n",
      "1/1 [==============================] - 0s 20ms/step\n",
      "353340_8.png\n",
      "1/1 [==============================] - 0s 20ms/step\n"
     ]
    },
    {
     "name": "stderr",
     "output_type": "stream",
     "text": [
      " 12%|█▏        | 72/615 [00:04<00:36, 15.02it/s]"
     ]
    },
    {
     "name": "stdout",
     "output_type": "stream",
     "text": [
      "353340_80.png\n",
      "1/1 [==============================] - 0s 20ms/step\n",
      "353340_81.png\n",
      "1/1 [==============================] - 0s 20ms/step\n"
     ]
    },
    {
     "name": "stderr",
     "output_type": "stream",
     "text": [
      " 12%|█▏        | 74/615 [00:05<00:34, 15.77it/s]"
     ]
    },
    {
     "name": "stdout",
     "output_type": "stream",
     "text": [
      "353340_9.png\n",
      "1/1 [==============================] - 0s 21ms/step\n",
      "700560_1.png\n",
      "1/1 [==============================] - 0s 22ms/step\n"
     ]
    },
    {
     "name": "stderr",
     "output_type": "stream",
     "text": [
      " 12%|█▏        | 76/615 [00:05<00:34, 15.74it/s]"
     ]
    },
    {
     "name": "stdout",
     "output_type": "stream",
     "text": [
      "700560_10.png\n",
      "1/1 [==============================] - 0s 22ms/step\n",
      "700560_100.png\n",
      "1/1 [==============================] - 0s 22ms/step\n"
     ]
    },
    {
     "name": "stderr",
     "output_type": "stream",
     "text": [
      " 13%|█▎        | 78/615 [00:05<00:34, 15.59it/s]"
     ]
    },
    {
     "name": "stdout",
     "output_type": "stream",
     "text": [
      "700560_101.png\n",
      "1/1 [==============================] - 0s 21ms/step\n",
      "700560_102.png\n",
      "1/1 [==============================] - 0s 24ms/step\n"
     ]
    },
    {
     "name": "stderr",
     "output_type": "stream",
     "text": [
      " 13%|█▎        | 80/615 [00:05<00:37, 14.13it/s]"
     ]
    },
    {
     "name": "stdout",
     "output_type": "stream",
     "text": [
      "700560_103.png\n",
      "1/1 [==============================] - 0s 24ms/step\n",
      "700560_104.png\n",
      "1/1 [==============================] - 0s 22ms/step\n"
     ]
    },
    {
     "name": "stderr",
     "output_type": "stream",
     "text": [
      " 13%|█▎        | 82/615 [00:05<00:36, 14.48it/s]"
     ]
    },
    {
     "name": "stdout",
     "output_type": "stream",
     "text": [
      "700560_105.png\n",
      "1/1 [==============================] - 0s 24ms/step\n",
      "700560_106.png\n",
      "1/1 [==============================] - 0s 22ms/step\n"
     ]
    },
    {
     "name": "stderr",
     "output_type": "stream",
     "text": [
      " 14%|█▎        | 84/615 [00:05<00:35, 15.14it/s]"
     ]
    },
    {
     "name": "stdout",
     "output_type": "stream",
     "text": [
      "700560_107.png\n",
      "1/1 [==============================] - 0s 25ms/step\n",
      "700560_108.png\n",
      "1/1 [==============================] - 0s 23ms/step\n"
     ]
    },
    {
     "name": "stderr",
     "output_type": "stream",
     "text": [
      " 14%|█▍        | 86/615 [00:05<00:34, 15.51it/s]"
     ]
    },
    {
     "name": "stdout",
     "output_type": "stream",
     "text": [
      "700560_109.png\n",
      "1/1 [==============================] - 0s 22ms/step\n",
      "700560_11.png\n",
      "1/1 [==============================] - 0s 21ms/step\n"
     ]
    },
    {
     "name": "stderr",
     "output_type": "stream",
     "text": [
      " 14%|█▍        | 88/615 [00:05<00:33, 15.50it/s]"
     ]
    },
    {
     "name": "stdout",
     "output_type": "stream",
     "text": [
      "700560_110.png\n",
      "1/1 [==============================] - 0s 23ms/step\n",
      "700560_111.png\n",
      "1/1 [==============================] - 0s 21ms/step\n"
     ]
    },
    {
     "name": "stderr",
     "output_type": "stream",
     "text": [
      " 15%|█▍        | 90/615 [00:06<00:34, 15.30it/s]"
     ]
    },
    {
     "name": "stdout",
     "output_type": "stream",
     "text": [
      "700560_112.png\n",
      "1/1 [==============================] - 0s 21ms/step\n",
      "700560_113.png\n",
      "1/1 [==============================] - 0s 19ms/step\n"
     ]
    },
    {
     "name": "stderr",
     "output_type": "stream",
     "text": [
      " 15%|█▍        | 92/615 [00:06<00:33, 15.74it/s]"
     ]
    },
    {
     "name": "stdout",
     "output_type": "stream",
     "text": [
      "700560_114.png\n",
      "1/1 [==============================] - 0s 21ms/step\n",
      "700560_115.png\n",
      "1/1 [==============================] - 0s 21ms/step\n"
     ]
    },
    {
     "name": "stderr",
     "output_type": "stream",
     "text": [
      " 15%|█▌        | 94/615 [00:06<00:31, 16.30it/s]"
     ]
    },
    {
     "name": "stdout",
     "output_type": "stream",
     "text": [
      "700560_116.png\n",
      "1/1 [==============================] - 0s 22ms/step\n",
      "700560_117.png\n",
      "1/1 [==============================] - 0s 21ms/step\n"
     ]
    },
    {
     "name": "stderr",
     "output_type": "stream",
     "text": [
      " 16%|█▌        | 96/615 [00:06<00:32, 16.15it/s]"
     ]
    },
    {
     "name": "stdout",
     "output_type": "stream",
     "text": [
      "700560_118.png\n",
      "1/1 [==============================] - 0s 20ms/step\n",
      "700560_119.png\n",
      "1/1 [==============================] - 0s 21ms/step\n"
     ]
    },
    {
     "name": "stderr",
     "output_type": "stream",
     "text": [
      " 16%|█▌        | 98/615 [00:06<00:31, 16.59it/s]"
     ]
    },
    {
     "name": "stdout",
     "output_type": "stream",
     "text": [
      "700560_12.png\n",
      "1/1 [==============================] - 0s 28ms/step\n",
      "700560_120.png\n",
      "1/1 [==============================] - 0s 25ms/step\n"
     ]
    },
    {
     "name": "stderr",
     "output_type": "stream",
     "text": [
      " 16%|█▋        | 100/615 [00:06<00:34, 14.80it/s]"
     ]
    },
    {
     "name": "stdout",
     "output_type": "stream",
     "text": [
      "700560_121.png\n",
      "1/1 [==============================] - 0s 31ms/step\n",
      "700560_122.png\n",
      "1/1 [==============================] - 0s 22ms/step\n"
     ]
    },
    {
     "name": "stderr",
     "output_type": "stream",
     "text": [
      " 17%|█▋        | 102/615 [00:06<00:33, 15.17it/s]"
     ]
    },
    {
     "name": "stdout",
     "output_type": "stream",
     "text": [
      "700560_123.png\n",
      "1/1 [==============================] - 0s 21ms/step\n",
      "700560_124.png\n",
      "1/1 [==============================] - 0s 20ms/step\n"
     ]
    },
    {
     "name": "stderr",
     "output_type": "stream",
     "text": [
      " 17%|█▋        | 104/615 [00:06<00:33, 15.13it/s]"
     ]
    },
    {
     "name": "stdout",
     "output_type": "stream",
     "text": [
      "700560_125.png\n",
      "1/1 [==============================] - 0s 23ms/step\n",
      "700560_126.png\n",
      "1/1 [==============================] - 0s 22ms/step\n"
     ]
    },
    {
     "name": "stderr",
     "output_type": "stream",
     "text": [
      " 17%|█▋        | 106/615 [00:07<00:33, 15.40it/s]"
     ]
    },
    {
     "name": "stdout",
     "output_type": "stream",
     "text": [
      "700560_127.png\n",
      "1/1 [==============================] - 0s 23ms/step\n",
      "700560_128.png\n",
      "1/1 [==============================] - 0s 30ms/step\n"
     ]
    },
    {
     "name": "stderr",
     "output_type": "stream",
     "text": [
      " 18%|█▊        | 108/615 [00:07<00:34, 14.82it/s]"
     ]
    },
    {
     "name": "stdout",
     "output_type": "stream",
     "text": [
      "700560_129.png\n",
      "1/1 [==============================] - 0s 25ms/step\n",
      "700560_13.png\n",
      "1/1 [==============================] - 0s 25ms/step\n"
     ]
    },
    {
     "name": "stderr",
     "output_type": "stream",
     "text": [
      " 18%|█▊        | 110/615 [00:07<00:34, 14.78it/s]"
     ]
    },
    {
     "name": "stdout",
     "output_type": "stream",
     "text": [
      "700560_130.png\n",
      "1/1 [==============================] - 0s 23ms/step\n",
      "700560_131.png\n",
      "1/1 [==============================] - 0s 23ms/step\n"
     ]
    },
    {
     "name": "stderr",
     "output_type": "stream",
     "text": [
      " 18%|█▊        | 112/615 [00:07<00:32, 15.33it/s]"
     ]
    },
    {
     "name": "stdout",
     "output_type": "stream",
     "text": [
      "700560_132.png\n",
      "1/1 [==============================] - 0s 34ms/step\n",
      "700560_133.png\n",
      "1/1 [==============================] - 0s 26ms/step\n"
     ]
    },
    {
     "name": "stderr",
     "output_type": "stream",
     "text": [
      " 19%|█▊        | 114/615 [00:07<00:32, 15.51it/s]"
     ]
    },
    {
     "name": "stdout",
     "output_type": "stream",
     "text": [
      "700560_134.png\n",
      "1/1 [==============================] - 0s 27ms/step\n",
      "700560_135.png\n",
      "1/1 [==============================] - 0s 25ms/step\n"
     ]
    },
    {
     "name": "stderr",
     "output_type": "stream",
     "text": [
      " 19%|█▉        | 116/615 [00:07<00:32, 15.33it/s]"
     ]
    },
    {
     "name": "stdout",
     "output_type": "stream",
     "text": [
      "700560_136.png\n",
      "1/1 [==============================] - 0s 27ms/step\n",
      "700560_137.png\n",
      "1/1 [==============================] - 0s 26ms/step\n"
     ]
    },
    {
     "name": "stderr",
     "output_type": "stream",
     "text": [
      " 19%|█▉        | 118/615 [00:07<00:32, 15.51it/s]"
     ]
    },
    {
     "name": "stdout",
     "output_type": "stream",
     "text": [
      "700560_138.png\n",
      "1/1 [==============================] - 0s 25ms/step\n",
      "700560_139.png\n",
      "1/1 [==============================] - 0s 23ms/step\n"
     ]
    },
    {
     "name": "stderr",
     "output_type": "stream",
     "text": [
      " 20%|█▉        | 120/615 [00:08<00:31, 15.93it/s]"
     ]
    },
    {
     "name": "stdout",
     "output_type": "stream",
     "text": [
      "700560_14.png\n",
      "1/1 [==============================] - 0s 24ms/step\n",
      "700560_140.png\n",
      "1/1 [==============================] - 0s 23ms/step\n"
     ]
    },
    {
     "name": "stderr",
     "output_type": "stream",
     "text": [
      " 20%|█▉        | 122/615 [00:08<00:31, 15.68it/s]"
     ]
    },
    {
     "name": "stdout",
     "output_type": "stream",
     "text": [
      "700560_141.png\n",
      "1/1 [==============================] - 0s 21ms/step\n",
      "700560_142.png\n",
      "1/1 [==============================] - 0s 34ms/step\n"
     ]
    },
    {
     "name": "stderr",
     "output_type": "stream",
     "text": [
      " 20%|██        | 124/615 [00:08<00:32, 15.14it/s]"
     ]
    },
    {
     "name": "stdout",
     "output_type": "stream",
     "text": [
      "700560_143.png\n",
      "1/1 [==============================] - 0s 24ms/step\n",
      "700560_144.png\n",
      "1/1 [==============================] - 0s 26ms/step\n"
     ]
    },
    {
     "name": "stderr",
     "output_type": "stream",
     "text": [
      " 20%|██        | 126/615 [00:08<00:31, 15.30it/s]"
     ]
    },
    {
     "name": "stdout",
     "output_type": "stream",
     "text": [
      "700560_145.png\n",
      "1/1 [==============================] - 0s 29ms/step\n",
      "700560_146.png\n",
      "1/1 [==============================] - 0s 35ms/step\n"
     ]
    },
    {
     "name": "stderr",
     "output_type": "stream",
     "text": [
      " 21%|██        | 128/615 [00:08<00:32, 15.05it/s]"
     ]
    },
    {
     "name": "stdout",
     "output_type": "stream",
     "text": [
      "700560_147.png\n",
      "1/1 [==============================] - 0s 28ms/step\n",
      "700560_148.png\n",
      "1/1 [==============================] - 0s 32ms/step\n"
     ]
    },
    {
     "name": "stderr",
     "output_type": "stream",
     "text": [
      " 21%|██        | 130/615 [00:08<00:31, 15.22it/s]"
     ]
    },
    {
     "name": "stdout",
     "output_type": "stream",
     "text": [
      "700560_149.png\n",
      "1/1 [==============================] - 0s 28ms/step\n",
      "700560_15.png\n",
      "1/1 [==============================] - 0s 22ms/step\n"
     ]
    },
    {
     "name": "stderr",
     "output_type": "stream",
     "text": [
      " 21%|██▏       | 132/615 [00:08<00:30, 15.83it/s]"
     ]
    },
    {
     "name": "stdout",
     "output_type": "stream",
     "text": [
      "700560_150.png\n",
      "1/1 [==============================] - 0s 21ms/step\n",
      "700560_151.png\n",
      "1/1 [==============================] - 0s 23ms/step\n"
     ]
    },
    {
     "name": "stderr",
     "output_type": "stream",
     "text": [
      " 22%|██▏       | 134/615 [00:08<00:28, 16.62it/s]"
     ]
    },
    {
     "name": "stdout",
     "output_type": "stream",
     "text": [
      "700560_152.png\n",
      "1/1 [==============================] - 0s 26ms/step\n",
      "700560_153.png\n",
      "1/1 [==============================] - 0s 25ms/step\n"
     ]
    },
    {
     "name": "stderr",
     "output_type": "stream",
     "text": [
      " 22%|██▏       | 136/615 [00:09<00:28, 16.79it/s]"
     ]
    },
    {
     "name": "stdout",
     "output_type": "stream",
     "text": [
      "700560_154.png\n",
      "1/1 [==============================] - 0s 25ms/step\n",
      "700560_155.png\n",
      "1/1 [==============================] - 0s 31ms/step\n"
     ]
    },
    {
     "name": "stderr",
     "output_type": "stream",
     "text": [
      " 22%|██▏       | 138/615 [00:09<00:29, 16.30it/s]"
     ]
    },
    {
     "name": "stdout",
     "output_type": "stream",
     "text": [
      "700560_156.png\n",
      "1/1 [==============================] - 0s 27ms/step\n",
      "700560_157.png\n",
      "1/1 [==============================] - 0s 24ms/step\n"
     ]
    },
    {
     "name": "stderr",
     "output_type": "stream",
     "text": [
      " 23%|██▎       | 140/615 [00:09<00:28, 16.47it/s]"
     ]
    },
    {
     "name": "stdout",
     "output_type": "stream",
     "text": [
      "700560_158.png\n",
      "1/1 [==============================] - 0s 22ms/step\n",
      "700560_159.png\n",
      "1/1 [==============================] - 0s 26ms/step\n"
     ]
    },
    {
     "name": "stderr",
     "output_type": "stream",
     "text": [
      " 23%|██▎       | 142/615 [00:09<00:27, 16.96it/s]"
     ]
    },
    {
     "name": "stdout",
     "output_type": "stream",
     "text": [
      "700560_16.png\n",
      "1/1 [==============================] - 0s 27ms/step\n",
      "700560_160.png\n",
      "1/1 [==============================] - 0s 41ms/step\n"
     ]
    },
    {
     "name": "stderr",
     "output_type": "stream",
     "text": [
      " 23%|██▎       | 144/615 [00:09<00:30, 15.63it/s]"
     ]
    },
    {
     "name": "stdout",
     "output_type": "stream",
     "text": [
      "700560_161.png\n",
      "1/1 [==============================] - 0s 30ms/step\n",
      "700560_162.png\n",
      "1/1 [==============================] - 0s 27ms/step\n"
     ]
    },
    {
     "name": "stderr",
     "output_type": "stream",
     "text": [
      " 24%|██▎       | 146/615 [00:09<00:29, 15.69it/s]"
     ]
    },
    {
     "name": "stdout",
     "output_type": "stream",
     "text": [
      "700560_163.png\n",
      "1/1 [==============================] - 0s 36ms/step\n",
      "700560_164.png\n",
      "1/1 [==============================] - 0s 35ms/step\n"
     ]
    },
    {
     "name": "stderr",
     "output_type": "stream",
     "text": [
      " 24%|██▍       | 148/615 [00:09<00:30, 15.12it/s]"
     ]
    },
    {
     "name": "stdout",
     "output_type": "stream",
     "text": [
      "700560_165.png\n",
      "1/1 [==============================] - 0s 25ms/step\n",
      "700560_166.png\n",
      "1/1 [==============================] - 0s 26ms/step\n"
     ]
    },
    {
     "name": "stderr",
     "output_type": "stream",
     "text": [
      " 24%|██▍       | 150/615 [00:09<00:29, 15.64it/s]"
     ]
    },
    {
     "name": "stdout",
     "output_type": "stream",
     "text": [
      "700560_167.png\n",
      "1/1 [==============================] - 0s 21ms/step\n",
      "700560_168.png\n",
      "1/1 [==============================] - 0s 24ms/step\n"
     ]
    },
    {
     "name": "stderr",
     "output_type": "stream",
     "text": [
      " 25%|██▍       | 152/615 [00:10<00:28, 16.10it/s]"
     ]
    },
    {
     "name": "stdout",
     "output_type": "stream",
     "text": [
      "700560_169.png\n",
      "1/1 [==============================] - 0s 34ms/step\n",
      "700560_17.png\n",
      "1/1 [==============================] - 0s 38ms/step\n"
     ]
    },
    {
     "name": "stderr",
     "output_type": "stream",
     "text": [
      " 25%|██▌       | 154/615 [00:10<00:29, 15.49it/s]"
     ]
    },
    {
     "name": "stdout",
     "output_type": "stream",
     "text": [
      "700560_170.png\n",
      "1/1 [==============================] - 0s 30ms/step\n",
      "700560_171.png\n",
      "1/1 [==============================] - 0s 24ms/step\n"
     ]
    },
    {
     "name": "stderr",
     "output_type": "stream",
     "text": [
      " 25%|██▌       | 156/615 [00:10<00:30, 15.20it/s]"
     ]
    },
    {
     "name": "stdout",
     "output_type": "stream",
     "text": [
      "700560_172.png\n",
      "1/1 [==============================] - 0s 21ms/step\n",
      "700560_173.png\n",
      "1/1 [==============================] - 0s 24ms/step\n"
     ]
    },
    {
     "name": "stderr",
     "output_type": "stream",
     "text": [
      " 26%|██▌       | 158/615 [00:10<00:29, 15.64it/s]"
     ]
    },
    {
     "name": "stdout",
     "output_type": "stream",
     "text": [
      "700560_174.png\n",
      "1/1 [==============================] - 0s 33ms/step\n",
      "700560_175.png\n",
      "1/1 [==============================] - 0s 33ms/step\n"
     ]
    },
    {
     "name": "stderr",
     "output_type": "stream",
     "text": [
      " 26%|██▌       | 160/615 [00:10<00:29, 15.42it/s]"
     ]
    },
    {
     "name": "stdout",
     "output_type": "stream",
     "text": [
      "700560_176.png\n",
      "1/1 [==============================] - 0s 22ms/step\n",
      "700560_177.png\n",
      "1/1 [==============================] - 0s 26ms/step\n"
     ]
    },
    {
     "name": "stderr",
     "output_type": "stream",
     "text": [
      " 26%|██▋       | 162/615 [00:10<00:29, 15.57it/s]"
     ]
    },
    {
     "name": "stdout",
     "output_type": "stream",
     "text": [
      "700560_178.png\n",
      "1/1 [==============================] - 0s 23ms/step\n",
      "700560_179.png\n",
      "1/1 [==============================] - 0s 23ms/step\n"
     ]
    },
    {
     "name": "stderr",
     "output_type": "stream",
     "text": [
      " 27%|██▋       | 164/615 [00:10<00:30, 14.66it/s]"
     ]
    },
    {
     "name": "stdout",
     "output_type": "stream",
     "text": [
      "700560_18.png\n",
      "1/1 [==============================] - 0s 28ms/step\n",
      "700560_180.png\n",
      "1/1 [==============================] - 0s 25ms/step\n"
     ]
    },
    {
     "name": "stderr",
     "output_type": "stream",
     "text": [
      " 27%|██▋       | 166/615 [00:10<00:30, 14.89it/s]"
     ]
    },
    {
     "name": "stdout",
     "output_type": "stream",
     "text": [
      "700560_181.png\n",
      "1/1 [==============================] - 0s 29ms/step\n",
      "700560_182.png\n",
      "1/1 [==============================] - 0s 36ms/step\n"
     ]
    },
    {
     "name": "stderr",
     "output_type": "stream",
     "text": [
      " 27%|██▋       | 168/615 [00:11<00:29, 15.10it/s]"
     ]
    },
    {
     "name": "stdout",
     "output_type": "stream",
     "text": [
      "700560_183.png\n",
      "1/1 [==============================] - 0s 25ms/step\n",
      "700560_184.png\n",
      "1/1 [==============================] - 0s 32ms/step\n"
     ]
    },
    {
     "name": "stderr",
     "output_type": "stream",
     "text": [
      " 28%|██▊       | 170/615 [00:11<00:29, 15.17it/s]"
     ]
    },
    {
     "name": "stdout",
     "output_type": "stream",
     "text": [
      "700560_185.png\n",
      "1/1 [==============================] - 0s 24ms/step\n",
      "700560_186.png\n",
      "1/1 [==============================] - 0s 24ms/step\n"
     ]
    },
    {
     "name": "stderr",
     "output_type": "stream",
     "text": [
      " 28%|██▊       | 172/615 [00:11<00:28, 15.34it/s]"
     ]
    },
    {
     "name": "stdout",
     "output_type": "stream",
     "text": [
      "700560_187.png\n",
      "1/1 [==============================] - 0s 29ms/step\n",
      "700560_188.png\n",
      "1/1 [==============================] - 0s 23ms/step\n"
     ]
    },
    {
     "name": "stderr",
     "output_type": "stream",
     "text": [
      " 28%|██▊       | 174/615 [00:11<00:28, 15.35it/s]"
     ]
    },
    {
     "name": "stdout",
     "output_type": "stream",
     "text": [
      "700560_189.png\n",
      "1/1 [==============================] - 0s 25ms/step\n",
      "700560_19.png\n",
      "1/1 [==============================] - 0s 23ms/step\n"
     ]
    },
    {
     "name": "stderr",
     "output_type": "stream",
     "text": [
      " 29%|██▊       | 176/615 [00:11<00:29, 15.05it/s]"
     ]
    },
    {
     "name": "stdout",
     "output_type": "stream",
     "text": [
      "700560_190.png\n",
      "1/1 [==============================] - 0s 24ms/step\n",
      "700560_191.png\n",
      "1/1 [==============================] - 0s 22ms/step\n"
     ]
    },
    {
     "name": "stderr",
     "output_type": "stream",
     "text": [
      " 29%|██▉       | 178/615 [00:11<00:28, 15.08it/s]"
     ]
    },
    {
     "name": "stdout",
     "output_type": "stream",
     "text": [
      "700560_192.png\n",
      "1/1 [==============================] - 0s 20ms/step\n",
      "700560_193.png\n",
      "1/1 [==============================] - 0s 28ms/step\n"
     ]
    },
    {
     "name": "stderr",
     "output_type": "stream",
     "text": [
      " 29%|██▉       | 180/615 [00:11<00:28, 15.23it/s]"
     ]
    },
    {
     "name": "stdout",
     "output_type": "stream",
     "text": [
      "700560_194.png\n",
      "1/1 [==============================] - 0s 53ms/step\n",
      "700560_195.png\n",
      "1/1 [==============================] - 0s 32ms/step\n"
     ]
    },
    {
     "name": "stderr",
     "output_type": "stream",
     "text": [
      " 30%|██▉       | 182/615 [00:12<00:30, 14.05it/s]"
     ]
    },
    {
     "name": "stdout",
     "output_type": "stream",
     "text": [
      "700560_196.png\n",
      "1/1 [==============================] - 0s 29ms/step\n",
      "700560_197.png\n",
      "1/1 [==============================] - 0s 24ms/step\n"
     ]
    },
    {
     "name": "stderr",
     "output_type": "stream",
     "text": [
      " 30%|██▉       | 184/615 [00:12<00:30, 14.16it/s]"
     ]
    },
    {
     "name": "stdout",
     "output_type": "stream",
     "text": [
      "700560_198.png\n",
      "1/1 [==============================] - 0s 22ms/step\n",
      "700560_199.png\n",
      "1/1 [==============================] - 0s 28ms/step\n"
     ]
    },
    {
     "name": "stderr",
     "output_type": "stream",
     "text": [
      " 30%|███       | 186/615 [00:12<00:29, 14.41it/s]"
     ]
    },
    {
     "name": "stdout",
     "output_type": "stream",
     "text": [
      "700560_2.png\n",
      "1/1 [==============================] - 0s 23ms/step\n",
      "700560_20.png\n",
      "1/1 [==============================] - 0s 20ms/step\n"
     ]
    },
    {
     "name": "stderr",
     "output_type": "stream",
     "text": [
      " 31%|███       | 188/615 [00:12<00:29, 14.64it/s]"
     ]
    },
    {
     "name": "stdout",
     "output_type": "stream",
     "text": [
      "700560_200.png\n",
      "1/1 [==============================] - 0s 24ms/step\n",
      "700560_201.png\n",
      "1/1 [==============================] - 0s 22ms/step\n"
     ]
    },
    {
     "name": "stderr",
     "output_type": "stream",
     "text": [
      " 31%|███       | 190/615 [00:12<00:28, 14.78it/s]"
     ]
    },
    {
     "name": "stdout",
     "output_type": "stream",
     "text": [
      "700560_202.png\n",
      "1/1 [==============================] - 0s 22ms/step\n",
      "700560_203.png\n",
      "1/1 [==============================] - 0s 24ms/step\n"
     ]
    },
    {
     "name": "stderr",
     "output_type": "stream",
     "text": [
      " 31%|███       | 192/615 [00:12<00:28, 14.76it/s]"
     ]
    },
    {
     "name": "stdout",
     "output_type": "stream",
     "text": [
      "700560_204.png\n",
      "1/1 [==============================] - 0s 40ms/step\n",
      "700560_205.png\n",
      "1/1 [==============================] - 0s 21ms/step\n"
     ]
    },
    {
     "name": "stderr",
     "output_type": "stream",
     "text": [
      " 32%|███▏      | 194/615 [00:12<00:30, 14.03it/s]"
     ]
    },
    {
     "name": "stdout",
     "output_type": "stream",
     "text": [
      "700560_206.png\n",
      "1/1 [==============================] - 0s 27ms/step\n",
      "700560_207.png\n",
      "1/1 [==============================] - 0s 25ms/step\n"
     ]
    },
    {
     "name": "stderr",
     "output_type": "stream",
     "text": [
      " 32%|███▏      | 196/615 [00:13<00:29, 14.06it/s]"
     ]
    },
    {
     "name": "stdout",
     "output_type": "stream",
     "text": [
      "700560_208.png\n",
      "1/1 [==============================] - 0s 26ms/step\n",
      "700560_209.png\n",
      "1/1 [==============================] - 0s 22ms/step\n"
     ]
    },
    {
     "name": "stderr",
     "output_type": "stream",
     "text": [
      " 32%|███▏      | 198/615 [00:13<00:29, 14.33it/s]"
     ]
    },
    {
     "name": "stdout",
     "output_type": "stream",
     "text": [
      "700560_21.png\n",
      "1/1 [==============================] - 0s 26ms/step\n",
      "700560_210.png\n",
      "1/1 [==============================] - 0s 26ms/step\n"
     ]
    },
    {
     "name": "stderr",
     "output_type": "stream",
     "text": [
      " 33%|███▎      | 200/615 [00:13<00:28, 14.51it/s]"
     ]
    },
    {
     "name": "stdout",
     "output_type": "stream",
     "text": [
      "700560_211.png\n",
      "1/1 [==============================] - 0s 21ms/step\n",
      "700560_212.png\n",
      "1/1 [==============================] - 0s 22ms/step\n"
     ]
    },
    {
     "name": "stderr",
     "output_type": "stream",
     "text": [
      " 33%|███▎      | 202/615 [00:13<00:28, 14.66it/s]"
     ]
    },
    {
     "name": "stdout",
     "output_type": "stream",
     "text": [
      "700560_213.png\n",
      "1/1 [==============================] - 0s 24ms/step\n",
      "700560_214.png\n",
      "1/1 [==============================] - 0s 29ms/step\n"
     ]
    },
    {
     "name": "stderr",
     "output_type": "stream",
     "text": [
      " 33%|███▎      | 204/615 [00:13<00:28, 14.53it/s]"
     ]
    },
    {
     "name": "stdout",
     "output_type": "stream",
     "text": [
      "700560_215.png\n",
      "1/1 [==============================] - 0s 29ms/step\n",
      "700560_216.png\n",
      "1/1 [==============================] - 0s 23ms/step\n"
     ]
    },
    {
     "name": "stderr",
     "output_type": "stream",
     "text": [
      " 33%|███▎      | 206/615 [00:13<00:27, 14.86it/s]"
     ]
    },
    {
     "name": "stdout",
     "output_type": "stream",
     "text": [
      "700560_217.png\n",
      "1/1 [==============================] - 0s 35ms/step\n",
      "700560_218.png\n",
      "1/1 [==============================] - 0s 32ms/step\n"
     ]
    },
    {
     "name": "stderr",
     "output_type": "stream",
     "text": [
      " 34%|███▍      | 208/615 [00:13<00:29, 13.79it/s]"
     ]
    },
    {
     "name": "stdout",
     "output_type": "stream",
     "text": [
      "700560_219.png\n",
      "1/1 [==============================] - 0s 26ms/step\n",
      "700560_22.png\n",
      "1/1 [==============================] - 0s 24ms/step\n"
     ]
    },
    {
     "name": "stderr",
     "output_type": "stream",
     "text": [
      " 34%|███▍      | 210/615 [00:14<00:28, 14.13it/s]"
     ]
    },
    {
     "name": "stdout",
     "output_type": "stream",
     "text": [
      "700560_220.png\n",
      "1/1 [==============================] - 0s 22ms/step\n",
      "700560_221.png\n",
      "1/1 [==============================] - 0s 30ms/step\n"
     ]
    },
    {
     "name": "stderr",
     "output_type": "stream",
     "text": [
      " 34%|███▍      | 212/615 [00:14<00:27, 14.41it/s]"
     ]
    },
    {
     "name": "stdout",
     "output_type": "stream",
     "text": [
      "700560_222.png\n",
      "1/1 [==============================] - 0s 25ms/step\n",
      "700560_223.png\n",
      "1/1 [==============================] - 0s 24ms/step\n"
     ]
    },
    {
     "name": "stderr",
     "output_type": "stream",
     "text": [
      " 35%|███▍      | 214/615 [00:14<00:27, 14.35it/s]"
     ]
    },
    {
     "name": "stdout",
     "output_type": "stream",
     "text": [
      "700560_224.png\n",
      "1/1 [==============================] - 0s 25ms/step\n",
      "700560_225.png\n",
      "1/1 [==============================] - 0s 23ms/step\n"
     ]
    },
    {
     "name": "stderr",
     "output_type": "stream",
     "text": [
      " 35%|███▌      | 216/615 [00:14<00:27, 14.75it/s]"
     ]
    },
    {
     "name": "stdout",
     "output_type": "stream",
     "text": [
      "700560_226.png\n",
      "1/1 [==============================] - 0s 24ms/step\n",
      "700560_227.png\n",
      "1/1 [==============================] - 0s 21ms/step\n"
     ]
    },
    {
     "name": "stderr",
     "output_type": "stream",
     "text": [
      " 35%|███▌      | 218/615 [00:14<00:26, 14.82it/s]"
     ]
    },
    {
     "name": "stdout",
     "output_type": "stream",
     "text": [
      "700560_228.png\n",
      "1/1 [==============================] - 0s 34ms/step\n",
      "700560_229.png\n",
      "1/1 [==============================] - 0s 24ms/step\n"
     ]
    },
    {
     "name": "stderr",
     "output_type": "stream",
     "text": [
      " 36%|███▌      | 220/615 [00:14<00:26, 14.77it/s]"
     ]
    },
    {
     "name": "stdout",
     "output_type": "stream",
     "text": [
      "700560_23.png\n",
      "1/1 [==============================] - 0s 37ms/step\n",
      "700560_230.png\n",
      "1/1 [==============================] - 0s 28ms/step\n"
     ]
    },
    {
     "name": "stderr",
     "output_type": "stream",
     "text": [
      " 36%|███▌      | 222/615 [00:14<00:27, 14.55it/s]"
     ]
    },
    {
     "name": "stdout",
     "output_type": "stream",
     "text": [
      "700560_231.png\n",
      "1/1 [==============================] - 0s 41ms/step\n",
      "700560_232.png\n",
      "1/1 [==============================] - 0s 43ms/step\n"
     ]
    },
    {
     "name": "stderr",
     "output_type": "stream",
     "text": [
      " 36%|███▋      | 224/615 [00:15<00:29, 13.16it/s]"
     ]
    },
    {
     "name": "stdout",
     "output_type": "stream",
     "text": [
      "700560_233.png\n",
      "1/1 [==============================] - 0s 27ms/step\n",
      "700560_234.png\n",
      "1/1 [==============================] - 0s 29ms/step\n"
     ]
    },
    {
     "name": "stderr",
     "output_type": "stream",
     "text": [
      " 37%|███▋      | 226/615 [00:15<00:30, 12.95it/s]"
     ]
    },
    {
     "name": "stdout",
     "output_type": "stream",
     "text": [
      "700560_235.png\n",
      "1/1 [==============================] - 0s 36ms/step\n",
      "700560_236.png\n",
      "1/1 [==============================] - 0s 22ms/step\n"
     ]
    },
    {
     "name": "stderr",
     "output_type": "stream",
     "text": [
      " 37%|███▋      | 228/615 [00:15<00:29, 13.16it/s]"
     ]
    },
    {
     "name": "stdout",
     "output_type": "stream",
     "text": [
      "700560_237.png\n",
      "1/1 [==============================] - 0s 37ms/step\n",
      "700560_238.png\n",
      "1/1 [==============================] - 0s 25ms/step\n"
     ]
    },
    {
     "name": "stderr",
     "output_type": "stream",
     "text": [
      " 37%|███▋      | 230/615 [00:15<00:30, 12.70it/s]"
     ]
    },
    {
     "name": "stdout",
     "output_type": "stream",
     "text": [
      "700560_239.png\n",
      "1/1 [==============================] - 0s 35ms/step\n",
      "700560_24.png\n",
      "1/1 [==============================] - 0s 23ms/step\n"
     ]
    },
    {
     "name": "stderr",
     "output_type": "stream",
     "text": [
      " 38%|███▊      | 232/615 [00:15<00:30, 12.54it/s]"
     ]
    },
    {
     "name": "stdout",
     "output_type": "stream",
     "text": [
      "700560_240.png\n",
      "1/1 [==============================] - 0s 29ms/step\n",
      "700560_241.png\n",
      "1/1 [==============================] - 0s 26ms/step\n"
     ]
    },
    {
     "name": "stderr",
     "output_type": "stream",
     "text": [
      " 38%|███▊      | 234/615 [00:15<00:30, 12.51it/s]"
     ]
    },
    {
     "name": "stdout",
     "output_type": "stream",
     "text": [
      "700560_242.png\n",
      "1/1 [==============================] - 0s 25ms/step\n",
      "700560_243.png\n",
      "1/1 [==============================] - 0s 28ms/step\n"
     ]
    },
    {
     "name": "stderr",
     "output_type": "stream",
     "text": [
      " 38%|███▊      | 236/615 [00:15<00:28, 13.08it/s]"
     ]
    },
    {
     "name": "stdout",
     "output_type": "stream",
     "text": [
      "700560_244.png\n",
      "1/1 [==============================] - 0s 35ms/step\n",
      "700560_245.png\n",
      "1/1 [==============================] - 0s 26ms/step\n"
     ]
    },
    {
     "name": "stderr",
     "output_type": "stream",
     "text": [
      " 39%|███▊      | 238/615 [00:16<00:28, 13.12it/s]"
     ]
    },
    {
     "name": "stdout",
     "output_type": "stream",
     "text": [
      "700560_246.png\n",
      "1/1 [==============================] - 0s 23ms/step\n",
      "700560_247.png\n",
      "1/1 [==============================] - 0s 37ms/step\n"
     ]
    },
    {
     "name": "stderr",
     "output_type": "stream",
     "text": [
      " 39%|███▉      | 240/615 [00:16<00:28, 12.96it/s]"
     ]
    },
    {
     "name": "stdout",
     "output_type": "stream",
     "text": [
      "700560_248.png\n",
      "1/1 [==============================] - 0s 24ms/step\n",
      "700560_249.png\n",
      "1/1 [==============================] - 0s 28ms/step\n"
     ]
    },
    {
     "name": "stderr",
     "output_type": "stream",
     "text": [
      " 39%|███▉      | 242/615 [00:16<00:29, 12.66it/s]"
     ]
    },
    {
     "name": "stdout",
     "output_type": "stream",
     "text": [
      "700560_25.png\n",
      "1/1 [==============================] - 0s 37ms/step\n",
      "700560_250.png\n",
      "1/1 [==============================] - 0s 37ms/step\n"
     ]
    },
    {
     "name": "stderr",
     "output_type": "stream",
     "text": [
      " 40%|███▉      | 244/615 [00:16<00:30, 12.26it/s]"
     ]
    },
    {
     "name": "stdout",
     "output_type": "stream",
     "text": [
      "700560_251.png\n",
      "1/1 [==============================] - 0s 33ms/step\n",
      "700560_252.png\n",
      "1/1 [==============================] - 0s 29ms/step\n"
     ]
    },
    {
     "name": "stderr",
     "output_type": "stream",
     "text": [
      " 40%|████      | 246/615 [00:16<00:29, 12.47it/s]"
     ]
    },
    {
     "name": "stdout",
     "output_type": "stream",
     "text": [
      "700560_253.png\n",
      "1/1 [==============================] - 0s 28ms/step\n",
      "700560_254.png\n",
      "1/1 [==============================] - 0s 21ms/step\n"
     ]
    },
    {
     "name": "stderr",
     "output_type": "stream",
     "text": [
      " 40%|████      | 248/615 [00:16<00:27, 13.35it/s]"
     ]
    },
    {
     "name": "stdout",
     "output_type": "stream",
     "text": [
      "700560_255.png\n",
      "1/1 [==============================] - 0s 24ms/step\n",
      "700560_256.png\n",
      "1/1 [==============================] - 0s 22ms/step\n"
     ]
    },
    {
     "name": "stderr",
     "output_type": "stream",
     "text": [
      " 41%|████      | 250/615 [00:17<00:26, 13.78it/s]"
     ]
    },
    {
     "name": "stdout",
     "output_type": "stream",
     "text": [
      "700560_257.png\n",
      "1/1 [==============================] - 0s 33ms/step\n",
      "700560_258.png\n",
      "1/1 [==============================] - 0s 32ms/step\n"
     ]
    },
    {
     "name": "stderr",
     "output_type": "stream",
     "text": [
      " 41%|████      | 252/615 [00:17<00:28, 12.96it/s]"
     ]
    },
    {
     "name": "stdout",
     "output_type": "stream",
     "text": [
      "700560_259.png\n",
      "1/1 [==============================] - 0s 27ms/step\n",
      "700560_26.png\n",
      "1/1 [==============================] - 0s 27ms/step\n"
     ]
    },
    {
     "name": "stderr",
     "output_type": "stream",
     "text": [
      " 41%|████▏     | 254/615 [00:17<00:27, 12.90it/s]"
     ]
    },
    {
     "name": "stdout",
     "output_type": "stream",
     "text": [
      "700560_260.png\n",
      "1/1 [==============================] - 0s 22ms/step\n",
      "700560_261.png\n",
      "1/1 [==============================] - 0s 23ms/step\n"
     ]
    },
    {
     "name": "stderr",
     "output_type": "stream",
     "text": [
      " 42%|████▏     | 256/615 [00:17<00:26, 13.34it/s]"
     ]
    },
    {
     "name": "stdout",
     "output_type": "stream",
     "text": [
      "700560_262.png\n",
      "1/1 [==============================] - 0s 23ms/step\n",
      "700560_263.png\n",
      "1/1 [==============================] - 0s 22ms/step\n"
     ]
    },
    {
     "name": "stderr",
     "output_type": "stream",
     "text": [
      " 42%|████▏     | 258/615 [00:17<00:25, 13.94it/s]"
     ]
    },
    {
     "name": "stdout",
     "output_type": "stream",
     "text": [
      "700560_264.png\n",
      "1/1 [==============================] - 0s 53ms/step\n",
      "700560_265.png\n",
      "1/1 [==============================] - 0s 29ms/step\n"
     ]
    },
    {
     "name": "stderr",
     "output_type": "stream",
     "text": [
      " 42%|████▏     | 260/615 [00:17<00:27, 13.02it/s]"
     ]
    },
    {
     "name": "stdout",
     "output_type": "stream",
     "text": [
      "700560_266.png\n",
      "1/1 [==============================] - 0s 28ms/step\n",
      "700560_267.png\n",
      "1/1 [==============================] - 0s 26ms/step\n"
     ]
    },
    {
     "name": "stderr",
     "output_type": "stream",
     "text": [
      " 43%|████▎     | 262/615 [00:17<00:27, 12.84it/s]"
     ]
    },
    {
     "name": "stdout",
     "output_type": "stream",
     "text": [
      "700560_268.png\n",
      "1/1 [==============================] - 0s 22ms/step\n",
      "700560_269.png\n",
      "1/1 [==============================] - 0s 34ms/step\n"
     ]
    },
    {
     "name": "stderr",
     "output_type": "stream",
     "text": [
      " 43%|████▎     | 264/615 [00:18<00:26, 13.48it/s]"
     ]
    },
    {
     "name": "stdout",
     "output_type": "stream",
     "text": [
      "700560_27.png\n",
      "1/1 [==============================] - 0s 23ms/step\n",
      "700560_270.png\n",
      "1/1 [==============================] - 0s 25ms/step\n"
     ]
    },
    {
     "name": "stderr",
     "output_type": "stream",
     "text": [
      " 43%|████▎     | 266/615 [00:18<00:25, 13.93it/s]"
     ]
    },
    {
     "name": "stdout",
     "output_type": "stream",
     "text": [
      "700560_271.png\n",
      "1/1 [==============================] - 0s 26ms/step\n",
      "700560_272.png\n",
      "1/1 [==============================] - 0s 24ms/step\n"
     ]
    },
    {
     "name": "stderr",
     "output_type": "stream",
     "text": [
      " 44%|████▎     | 268/615 [00:18<00:24, 14.11it/s]"
     ]
    },
    {
     "name": "stdout",
     "output_type": "stream",
     "text": [
      "700560_273.png\n",
      "1/1 [==============================] - 0s 23ms/step\n",
      "700560_274.png\n",
      "1/1 [==============================] - 0s 22ms/step\n"
     ]
    },
    {
     "name": "stderr",
     "output_type": "stream",
     "text": [
      " 44%|████▍     | 270/615 [00:18<00:23, 14.53it/s]"
     ]
    },
    {
     "name": "stdout",
     "output_type": "stream",
     "text": [
      "700560_275.png\n",
      "1/1 [==============================] - 0s 30ms/step\n",
      "700560_276.png\n",
      "1/1 [==============================] - 0s 24ms/step\n"
     ]
    },
    {
     "name": "stderr",
     "output_type": "stream",
     "text": [
      " 44%|████▍     | 272/615 [00:18<00:23, 14.66it/s]"
     ]
    },
    {
     "name": "stdout",
     "output_type": "stream",
     "text": [
      "700560_277.png\n",
      "1/1 [==============================] - 0s 39ms/step\n",
      "700560_278.png\n",
      "1/1 [==============================] - 0s 40ms/step\n"
     ]
    },
    {
     "name": "stderr",
     "output_type": "stream",
     "text": [
      " 45%|████▍     | 274/615 [00:18<00:25, 13.41it/s]"
     ]
    },
    {
     "name": "stdout",
     "output_type": "stream",
     "text": [
      "700560_279.png\n",
      "1/1 [==============================] - 0s 30ms/step\n",
      "700560_28.png\n",
      "1/1 [==============================] - 0s 30ms/step\n"
     ]
    },
    {
     "name": "stderr",
     "output_type": "stream",
     "text": [
      " 45%|████▍     | 276/615 [00:18<00:24, 13.95it/s]"
     ]
    },
    {
     "name": "stdout",
     "output_type": "stream",
     "text": [
      "700560_280.png\n",
      "1/1 [==============================] - 0s 22ms/step\n",
      "700560_281.png\n",
      "1/1 [==============================] - 0s 25ms/step\n"
     ]
    },
    {
     "name": "stderr",
     "output_type": "stream",
     "text": [
      " 45%|████▌     | 278/615 [00:19<00:23, 14.47it/s]"
     ]
    },
    {
     "name": "stdout",
     "output_type": "stream",
     "text": [
      "700560_282.png\n",
      "1/1 [==============================] - 0s 30ms/step\n",
      "700560_283.png\n",
      "1/1 [==============================] - 0s 27ms/step\n"
     ]
    },
    {
     "name": "stderr",
     "output_type": "stream",
     "text": [
      " 46%|████▌     | 280/615 [00:19<00:22, 14.70it/s]"
     ]
    },
    {
     "name": "stdout",
     "output_type": "stream",
     "text": [
      "700560_284.png\n",
      "1/1 [==============================] - 0s 41ms/step\n",
      "700560_285.png\n",
      "1/1 [==============================] - 0s 21ms/step\n"
     ]
    },
    {
     "name": "stderr",
     "output_type": "stream",
     "text": [
      " 46%|████▌     | 282/615 [00:19<00:24, 13.78it/s]"
     ]
    },
    {
     "name": "stdout",
     "output_type": "stream",
     "text": [
      "700560_286.png\n",
      "1/1 [==============================] - 0s 24ms/step\n",
      "700560_287.png\n",
      "1/1 [==============================] - 0s 23ms/step\n"
     ]
    },
    {
     "name": "stderr",
     "output_type": "stream",
     "text": [
      " 46%|████▌     | 284/615 [00:19<00:23, 14.09it/s]"
     ]
    },
    {
     "name": "stdout",
     "output_type": "stream",
     "text": [
      "700560_288.png\n",
      "1/1 [==============================] - 0s 23ms/step\n",
      "700560_289.png\n",
      "1/1 [==============================] - 0s 22ms/step\n"
     ]
    },
    {
     "name": "stderr",
     "output_type": "stream",
     "text": [
      " 47%|████▋     | 286/615 [00:19<00:22, 14.33it/s]"
     ]
    },
    {
     "name": "stdout",
     "output_type": "stream",
     "text": [
      "700560_29.png\n",
      "1/1 [==============================] - 0s 23ms/step\n",
      "700560_290.png\n",
      "1/1 [==============================] - 0s 23ms/step\n"
     ]
    },
    {
     "name": "stderr",
     "output_type": "stream",
     "text": [
      " 47%|████▋     | 288/615 [00:19<00:22, 14.48it/s]"
     ]
    },
    {
     "name": "stdout",
     "output_type": "stream",
     "text": [
      "700560_291.png\n",
      "1/1 [==============================] - 0s 25ms/step\n",
      "700560_292.png\n",
      "1/1 [==============================] - 0s 22ms/step\n"
     ]
    },
    {
     "name": "stderr",
     "output_type": "stream",
     "text": [
      " 47%|████▋     | 290/615 [00:19<00:22, 14.64it/s]"
     ]
    },
    {
     "name": "stdout",
     "output_type": "stream",
     "text": [
      "700560_293.png\n",
      "1/1 [==============================] - 0s 23ms/step\n",
      "700560_294.png\n",
      "1/1 [==============================] - 0s 33ms/step\n"
     ]
    },
    {
     "name": "stderr",
     "output_type": "stream",
     "text": [
      " 47%|████▋     | 292/615 [00:20<00:23, 13.78it/s]"
     ]
    },
    {
     "name": "stdout",
     "output_type": "stream",
     "text": [
      "700560_295.png\n",
      "1/1 [==============================] - 0s 26ms/step\n",
      "700560_296.png\n",
      "1/1 [==============================] - 0s 32ms/step\n"
     ]
    },
    {
     "name": "stderr",
     "output_type": "stream",
     "text": [
      " 48%|████▊     | 294/615 [00:20<00:23, 13.83it/s]"
     ]
    },
    {
     "name": "stdout",
     "output_type": "stream",
     "text": [
      "700560_297.png\n",
      "1/1 [==============================] - 0s 30ms/step\n",
      "700560_298.png\n",
      "1/1 [==============================] - 0s 20ms/step\n"
     ]
    },
    {
     "name": "stderr",
     "output_type": "stream",
     "text": [
      " 48%|████▊     | 296/615 [00:20<00:22, 14.34it/s]"
     ]
    },
    {
     "name": "stdout",
     "output_type": "stream",
     "text": [
      "700560_299.png\n",
      "1/1 [==============================] - 0s 30ms/step\n",
      "700560_3.png\n",
      "1/1 [==============================] - 0s 20ms/step\n"
     ]
    },
    {
     "name": "stderr",
     "output_type": "stream",
     "text": [
      " 48%|████▊     | 298/615 [00:20<00:21, 14.77it/s]"
     ]
    },
    {
     "name": "stdout",
     "output_type": "stream",
     "text": [
      "700560_30.png\n",
      "1/1 [==============================] - 0s 24ms/step\n",
      "700560_300.png\n",
      "1/1 [==============================] - 0s 28ms/step\n"
     ]
    },
    {
     "name": "stderr",
     "output_type": "stream",
     "text": [
      " 49%|████▉     | 300/615 [00:20<00:21, 14.63it/s]"
     ]
    },
    {
     "name": "stdout",
     "output_type": "stream",
     "text": [
      "700560_301.png\n",
      "1/1 [==============================] - 0s 29ms/step\n",
      "700560_302.png\n",
      "1/1 [==============================] - 0s 27ms/step\n"
     ]
    },
    {
     "name": "stderr",
     "output_type": "stream",
     "text": [
      " 49%|████▉     | 302/615 [00:20<00:21, 14.87it/s]"
     ]
    },
    {
     "name": "stdout",
     "output_type": "stream",
     "text": [
      "700560_303.png\n",
      "1/1 [==============================] - 0s 23ms/step\n",
      "700560_304.png\n",
      "1/1 [==============================] - 0s 26ms/step\n"
     ]
    },
    {
     "name": "stderr",
     "output_type": "stream",
     "text": [
      " 49%|████▉     | 304/615 [00:20<00:20, 14.83it/s]"
     ]
    },
    {
     "name": "stdout",
     "output_type": "stream",
     "text": [
      "700560_305.png\n",
      "1/1 [==============================] - 0s 22ms/step\n",
      "700560_306.png\n",
      "1/1 [==============================] - 0s 19ms/step\n"
     ]
    },
    {
     "name": "stderr",
     "output_type": "stream",
     "text": [
      " 50%|████▉     | 306/615 [00:20<00:20, 15.03it/s]"
     ]
    },
    {
     "name": "stdout",
     "output_type": "stream",
     "text": [
      "700560_307.png\n",
      "1/1 [==============================] - 0s 31ms/step\n",
      "700560_308.png\n",
      "1/1 [==============================] - 0s 24ms/step\n"
     ]
    },
    {
     "name": "stderr",
     "output_type": "stream",
     "text": [
      " 50%|█████     | 308/615 [00:21<00:20, 14.91it/s]"
     ]
    },
    {
     "name": "stdout",
     "output_type": "stream",
     "text": [
      "700560_309.png\n",
      "1/1 [==============================] - 0s 32ms/step\n",
      "700560_31.png\n",
      "1/1 [==============================] - 0s 23ms/step\n"
     ]
    },
    {
     "name": "stderr",
     "output_type": "stream",
     "text": [
      " 50%|█████     | 310/615 [00:21<00:20, 14.82it/s]"
     ]
    },
    {
     "name": "stdout",
     "output_type": "stream",
     "text": [
      "700560_310.png\n",
      "1/1 [==============================] - 0s 23ms/step\n",
      "700560_311.png\n",
      "1/1 [==============================] - 0s 22ms/step\n"
     ]
    },
    {
     "name": "stderr",
     "output_type": "stream",
     "text": [
      " 51%|█████     | 312/615 [00:21<00:20, 14.96it/s]"
     ]
    },
    {
     "name": "stdout",
     "output_type": "stream",
     "text": [
      "700560_312.png\n",
      "1/1 [==============================] - 0s 24ms/step\n",
      "700560_313.png\n",
      "1/1 [==============================] - 0s 24ms/step\n"
     ]
    },
    {
     "name": "stderr",
     "output_type": "stream",
     "text": [
      " 51%|█████     | 314/615 [00:21<00:19, 15.06it/s]"
     ]
    },
    {
     "name": "stdout",
     "output_type": "stream",
     "text": [
      "700560_314.png\n",
      "1/1 [==============================] - 0s 42ms/step\n",
      "700560_315.png\n",
      "1/1 [==============================] - 0s 27ms/step\n"
     ]
    },
    {
     "name": "stderr",
     "output_type": "stream",
     "text": [
      " 51%|█████▏    | 316/615 [00:21<00:20, 14.38it/s]"
     ]
    },
    {
     "name": "stdout",
     "output_type": "stream",
     "text": [
      "700560_316.png\n",
      "1/1 [==============================] - 0s 27ms/step\n",
      "700560_317.png\n",
      "1/1 [==============================] - 0s 24ms/step\n"
     ]
    },
    {
     "name": "stderr",
     "output_type": "stream",
     "text": [
      " 52%|█████▏    | 318/615 [00:21<00:20, 14.23it/s]"
     ]
    },
    {
     "name": "stdout",
     "output_type": "stream",
     "text": [
      "700560_318.png\n",
      "1/1 [==============================] - 0s 30ms/step\n",
      "700560_319.png\n",
      "1/1 [==============================] - 0s 21ms/step\n"
     ]
    },
    {
     "name": "stderr",
     "output_type": "stream",
     "text": [
      " 52%|█████▏    | 320/615 [00:21<00:20, 14.41it/s]"
     ]
    },
    {
     "name": "stdout",
     "output_type": "stream",
     "text": [
      "700560_32.png\n",
      "1/1 [==============================] - 0s 31ms/step\n",
      "700560_320.png\n",
      "1/1 [==============================] - 0s 27ms/step\n"
     ]
    },
    {
     "name": "stderr",
     "output_type": "stream",
     "text": [
      " 52%|█████▏    | 322/615 [00:22<00:20, 14.39it/s]"
     ]
    },
    {
     "name": "stdout",
     "output_type": "stream",
     "text": [
      "700560_321.png\n",
      "1/1 [==============================] - 0s 24ms/step\n",
      "700560_322.png\n",
      "1/1 [==============================] - 0s 28ms/step\n"
     ]
    },
    {
     "name": "stderr",
     "output_type": "stream",
     "text": [
      " 53%|█████▎    | 324/615 [00:22<00:19, 14.71it/s]"
     ]
    },
    {
     "name": "stdout",
     "output_type": "stream",
     "text": [
      "700560_323.png\n",
      "1/1 [==============================] - 0s 26ms/step\n",
      "700560_324.png\n",
      "1/1 [==============================] - 0s 30ms/step\n"
     ]
    },
    {
     "name": "stderr",
     "output_type": "stream",
     "text": [
      " 53%|█████▎    | 326/615 [00:22<00:19, 14.73it/s]"
     ]
    },
    {
     "name": "stdout",
     "output_type": "stream",
     "text": [
      "700560_325.png\n",
      "1/1 [==============================] - 0s 25ms/step\n",
      "700560_326.png\n",
      "1/1 [==============================] - 0s 24ms/step\n"
     ]
    },
    {
     "name": "stderr",
     "output_type": "stream",
     "text": [
      " 53%|█████▎    | 328/615 [00:22<00:18, 15.17it/s]"
     ]
    },
    {
     "name": "stdout",
     "output_type": "stream",
     "text": [
      "700560_327.png\n",
      "1/1 [==============================] - 0s 27ms/step\n",
      "700560_328.png\n",
      "1/1 [==============================] - 0s 21ms/step\n"
     ]
    },
    {
     "name": "stderr",
     "output_type": "stream",
     "text": [
      " 54%|█████▎    | 330/615 [00:22<00:18, 15.51it/s]"
     ]
    },
    {
     "name": "stdout",
     "output_type": "stream",
     "text": [
      "700560_329.png\n",
      "1/1 [==============================] - 0s 44ms/step\n",
      "700560_33.png\n",
      "1/1 [==============================] - 0s 26ms/step\n"
     ]
    },
    {
     "name": "stderr",
     "output_type": "stream",
     "text": [
      " 54%|█████▍    | 332/615 [00:22<00:19, 14.61it/s]"
     ]
    },
    {
     "name": "stdout",
     "output_type": "stream",
     "text": [
      "700560_330.png\n",
      "1/1 [==============================] - 0s 26ms/step\n",
      "700560_331.png\n",
      "1/1 [==============================] - 0s 34ms/step\n"
     ]
    },
    {
     "name": "stderr",
     "output_type": "stream",
     "text": [
      " 54%|█████▍    | 334/615 [00:22<00:19, 14.70it/s]"
     ]
    },
    {
     "name": "stdout",
     "output_type": "stream",
     "text": [
      "700560_332.png\n",
      "1/1 [==============================] - 0s 25ms/step\n",
      "700560_333.png\n",
      "1/1 [==============================] - 0s 27ms/step\n"
     ]
    },
    {
     "name": "stderr",
     "output_type": "stream",
     "text": [
      " 55%|█████▍    | 336/615 [00:23<00:18, 14.93it/s]"
     ]
    },
    {
     "name": "stdout",
     "output_type": "stream",
     "text": [
      "700560_334.png\n",
      "1/1 [==============================] - 0s 31ms/step\n",
      "700560_335.png\n",
      "1/1 [==============================] - 0s 28ms/step\n"
     ]
    },
    {
     "name": "stderr",
     "output_type": "stream",
     "text": [
      " 55%|█████▍    | 338/615 [00:23<00:18, 15.17it/s]"
     ]
    },
    {
     "name": "stdout",
     "output_type": "stream",
     "text": [
      "700560_336.png\n",
      "1/1 [==============================] - 0s 32ms/step\n",
      "700560_337.png\n",
      "1/1 [==============================] - 0s 28ms/step\n"
     ]
    },
    {
     "name": "stderr",
     "output_type": "stream",
     "text": [
      " 55%|█████▌    | 340/615 [00:23<00:18, 15.15it/s]"
     ]
    },
    {
     "name": "stdout",
     "output_type": "stream",
     "text": [
      "700560_338.png\n",
      "1/1 [==============================] - 0s 22ms/step\n",
      "700560_339.png\n",
      "1/1 [==============================] - 0s 34ms/step\n"
     ]
    },
    {
     "name": "stderr",
     "output_type": "stream",
     "text": [
      " 56%|█████▌    | 342/615 [00:23<00:17, 15.52it/s]"
     ]
    },
    {
     "name": "stdout",
     "output_type": "stream",
     "text": [
      "700560_34.png\n",
      "1/1 [==============================] - 0s 23ms/step\n",
      "700560_340.png\n",
      "1/1 [==============================] - 0s 27ms/step\n"
     ]
    },
    {
     "name": "stderr",
     "output_type": "stream",
     "text": [
      " 56%|█████▌    | 344/615 [00:23<00:17, 15.86it/s]"
     ]
    },
    {
     "name": "stdout",
     "output_type": "stream",
     "text": [
      "700560_341.png\n",
      "1/1 [==============================] - 0s 33ms/step\n",
      "700560_342.png\n",
      "1/1 [==============================] - 0s 26ms/step\n"
     ]
    },
    {
     "name": "stderr",
     "output_type": "stream",
     "text": [
      " 56%|█████▋    | 346/615 [00:23<00:17, 15.59it/s]"
     ]
    },
    {
     "name": "stdout",
     "output_type": "stream",
     "text": [
      "700560_343.png\n",
      "1/1 [==============================] - 0s 26ms/step\n",
      "700560_344.png\n",
      "1/1 [==============================] - 0s 23ms/step\n"
     ]
    },
    {
     "name": "stderr",
     "output_type": "stream",
     "text": [
      " 57%|█████▋    | 348/615 [00:23<00:17, 15.68it/s]"
     ]
    },
    {
     "name": "stdout",
     "output_type": "stream",
     "text": [
      "700560_345.png\n",
      "1/1 [==============================] - 0s 51ms/step\n",
      "700560_346.png\n",
      "1/1 [==============================] - 0s 28ms/step\n"
     ]
    },
    {
     "name": "stderr",
     "output_type": "stream",
     "text": [
      " 57%|█████▋    | 350/615 [00:23<00:18, 14.10it/s]"
     ]
    },
    {
     "name": "stdout",
     "output_type": "stream",
     "text": [
      "700560_347.png\n",
      "1/1 [==============================] - 0s 20ms/step\n",
      "700560_348.png\n",
      "1/1 [==============================] - 0s 27ms/step\n"
     ]
    },
    {
     "name": "stderr",
     "output_type": "stream",
     "text": [
      " 57%|█████▋    | 352/615 [00:24<00:17, 15.12it/s]"
     ]
    },
    {
     "name": "stdout",
     "output_type": "stream",
     "text": [
      "700560_349.png\n",
      "1/1 [==============================] - 0s 32ms/step\n",
      "700560_35.png\n",
      "1/1 [==============================] - 0s 27ms/step\n"
     ]
    },
    {
     "name": "stderr",
     "output_type": "stream",
     "text": [
      " 58%|█████▊    | 354/615 [00:24<00:16, 15.44it/s]"
     ]
    },
    {
     "name": "stdout",
     "output_type": "stream",
     "text": [
      "700560_350.png\n",
      "1/1 [==============================] - 0s 32ms/step\n",
      "700560_351.png\n",
      "1/1 [==============================] - 0s 28ms/step\n"
     ]
    },
    {
     "name": "stderr",
     "output_type": "stream",
     "text": [
      " 58%|█████▊    | 356/615 [00:24<00:16, 15.32it/s]"
     ]
    },
    {
     "name": "stdout",
     "output_type": "stream",
     "text": [
      "700560_352.png\n",
      "1/1 [==============================] - 0s 31ms/step\n",
      "700560_353.png\n",
      "1/1 [==============================] - 0s 23ms/step\n"
     ]
    },
    {
     "name": "stderr",
     "output_type": "stream",
     "text": [
      " 58%|█████▊    | 358/615 [00:24<00:16, 15.31it/s]"
     ]
    },
    {
     "name": "stdout",
     "output_type": "stream",
     "text": [
      "700560_354.png\n",
      "1/1 [==============================] - 0s 26ms/step\n",
      "700560_355.png\n",
      "1/1 [==============================] - 0s 23ms/step\n"
     ]
    },
    {
     "name": "stderr",
     "output_type": "stream",
     "text": [
      " 59%|█████▊    | 360/615 [00:24<00:15, 16.05it/s]"
     ]
    },
    {
     "name": "stdout",
     "output_type": "stream",
     "text": [
      "700560_356.png\n",
      "1/1 [==============================] - 0s 33ms/step\n",
      "700560_357.png\n",
      "1/1 [==============================] - 0s 24ms/step\n"
     ]
    },
    {
     "name": "stderr",
     "output_type": "stream",
     "text": [
      " 59%|█████▉    | 362/615 [00:24<00:15, 15.85it/s]"
     ]
    },
    {
     "name": "stdout",
     "output_type": "stream",
     "text": [
      "700560_358.png\n",
      "1/1 [==============================] - 0s 24ms/step\n",
      "700560_359.png\n",
      "1/1 [==============================] - 0s 21ms/step\n"
     ]
    },
    {
     "name": "stderr",
     "output_type": "stream",
     "text": [
      " 59%|█████▉    | 364/615 [00:24<00:15, 16.31it/s]"
     ]
    },
    {
     "name": "stdout",
     "output_type": "stream",
     "text": [
      "700560_36.png\n",
      "1/1 [==============================] - 0s 24ms/step\n",
      "700560_360.png\n",
      "1/1 [==============================] - 0s 39ms/step\n"
     ]
    },
    {
     "name": "stderr",
     "output_type": "stream",
     "text": [
      " 60%|█████▉    | 366/615 [00:24<00:17, 14.45it/s]"
     ]
    },
    {
     "name": "stdout",
     "output_type": "stream",
     "text": [
      "700560_361.png\n",
      "1/1 [==============================] - 0s 29ms/step\n",
      "700560_362.png\n",
      "1/1 [==============================] - 0s 24ms/step\n"
     ]
    },
    {
     "name": "stderr",
     "output_type": "stream",
     "text": [
      " 60%|█████▉    | 368/615 [00:25<00:17, 14.34it/s]"
     ]
    },
    {
     "name": "stdout",
     "output_type": "stream",
     "text": [
      "700560_363.png\n",
      "1/1 [==============================] - 0s 25ms/step\n",
      "700560_364.png\n",
      "1/1 [==============================] - 0s 26ms/step\n"
     ]
    },
    {
     "name": "stderr",
     "output_type": "stream",
     "text": [
      " 60%|██████    | 370/615 [00:25<00:16, 14.66it/s]"
     ]
    },
    {
     "name": "stdout",
     "output_type": "stream",
     "text": [
      "700560_365.png\n",
      "1/1 [==============================] - 0s 30ms/step\n",
      "700560_366.png\n",
      "1/1 [==============================] - 0s 37ms/step\n"
     ]
    },
    {
     "name": "stderr",
     "output_type": "stream",
     "text": [
      " 60%|██████    | 372/615 [00:25<00:16, 14.37it/s]"
     ]
    },
    {
     "name": "stdout",
     "output_type": "stream",
     "text": [
      "700560_367.png\n",
      "1/1 [==============================] - 0s 28ms/step\n",
      "700560_368.png\n",
      "1/1 [==============================] - 0s 25ms/step\n"
     ]
    },
    {
     "name": "stderr",
     "output_type": "stream",
     "text": [
      " 61%|██████    | 374/615 [00:25<00:17, 13.98it/s]"
     ]
    },
    {
     "name": "stdout",
     "output_type": "stream",
     "text": [
      "700560_369.png\n",
      "1/1 [==============================] - 0s 25ms/step\n",
      "700560_37.png\n",
      "1/1 [==============================] - 0s 24ms/step\n"
     ]
    },
    {
     "name": "stderr",
     "output_type": "stream",
     "text": [
      " 61%|██████    | 376/615 [00:25<00:16, 14.50it/s]"
     ]
    },
    {
     "name": "stdout",
     "output_type": "stream",
     "text": [
      "700560_370.png\n",
      "1/1 [==============================] - 0s 25ms/step\n",
      "700560_371.png\n",
      "1/1 [==============================] - 0s 22ms/step\n"
     ]
    },
    {
     "name": "stderr",
     "output_type": "stream",
     "text": [
      " 61%|██████▏   | 378/615 [00:25<00:16, 14.39it/s]"
     ]
    },
    {
     "name": "stdout",
     "output_type": "stream",
     "text": [
      "700560_372.png\n",
      "1/1 [==============================] - 0s 24ms/step\n",
      "700560_373.png\n",
      "1/1 [==============================] - 0s 50ms/step\n"
     ]
    },
    {
     "name": "stderr",
     "output_type": "stream",
     "text": [
      " 62%|██████▏   | 380/615 [00:25<00:16, 14.01it/s]"
     ]
    },
    {
     "name": "stdout",
     "output_type": "stream",
     "text": [
      "700560_374.png\n",
      "1/1 [==============================] - 0s 28ms/step\n",
      "700560_375.png\n",
      "1/1 [==============================] - 0s 29ms/step\n"
     ]
    },
    {
     "name": "stderr",
     "output_type": "stream",
     "text": [
      " 62%|██████▏   | 382/615 [00:26<00:17, 13.69it/s]"
     ]
    },
    {
     "name": "stdout",
     "output_type": "stream",
     "text": [
      "700560_376.png\n",
      "1/1 [==============================] - 0s 27ms/step\n",
      "700560_377.png\n",
      "1/1 [==============================] - 0s 31ms/step\n"
     ]
    },
    {
     "name": "stderr",
     "output_type": "stream",
     "text": [
      " 62%|██████▏   | 384/615 [00:26<00:16, 13.74it/s]"
     ]
    },
    {
     "name": "stdout",
     "output_type": "stream",
     "text": [
      "700560_378.png\n",
      "1/1 [==============================] - 0s 25ms/step\n",
      "700560_379.png\n",
      "1/1 [==============================] - 0s 26ms/step\n"
     ]
    },
    {
     "name": "stderr",
     "output_type": "stream",
     "text": [
      " 63%|██████▎   | 386/615 [00:26<00:17, 13.46it/s]"
     ]
    },
    {
     "name": "stdout",
     "output_type": "stream",
     "text": [
      "700560_38.png\n",
      "1/1 [==============================] - 0s 26ms/step\n",
      "700560_380.png\n",
      "1/1 [==============================] - 0s 24ms/step\n"
     ]
    },
    {
     "name": "stderr",
     "output_type": "stream",
     "text": [
      " 63%|██████▎   | 388/615 [00:26<00:16, 13.90it/s]"
     ]
    },
    {
     "name": "stdout",
     "output_type": "stream",
     "text": [
      "700560_381.png\n",
      "1/1 [==============================] - 0s 26ms/step\n",
      "700560_382.png\n",
      "1/1 [==============================] - 0s 28ms/step\n"
     ]
    },
    {
     "name": "stderr",
     "output_type": "stream",
     "text": [
      " 63%|██████▎   | 390/615 [00:26<00:15, 14.27it/s]"
     ]
    },
    {
     "name": "stdout",
     "output_type": "stream",
     "text": [
      "700560_383.png\n",
      "1/1 [==============================] - 0s 28ms/step\n",
      "700560_384.png\n",
      "1/1 [==============================] - 0s 27ms/step\n"
     ]
    },
    {
     "name": "stderr",
     "output_type": "stream",
     "text": [
      " 64%|██████▎   | 392/615 [00:26<00:15, 14.52it/s]"
     ]
    },
    {
     "name": "stdout",
     "output_type": "stream",
     "text": [
      "700560_385.png\n",
      "1/1 [==============================] - 0s 49ms/step\n",
      "700560_386.png\n",
      "1/1 [==============================] - 0s 32ms/step\n"
     ]
    },
    {
     "name": "stderr",
     "output_type": "stream",
     "text": [
      " 64%|██████▍   | 394/615 [00:27<00:17, 12.40it/s]"
     ]
    },
    {
     "name": "stdout",
     "output_type": "stream",
     "text": [
      "700560_387.png\n",
      "1/1 [==============================] - 0s 24ms/step\n",
      "700560_388.png\n",
      "1/1 [==============================] - 0s 24ms/step\n"
     ]
    },
    {
     "name": "stderr",
     "output_type": "stream",
     "text": [
      " 64%|██████▍   | 396/615 [00:27<00:16, 12.98it/s]"
     ]
    },
    {
     "name": "stdout",
     "output_type": "stream",
     "text": [
      "700560_389.png\n",
      "1/1 [==============================] - 0s 27ms/step\n",
      "700560_39.png\n",
      "1/1 [==============================] - 0s 35ms/step\n"
     ]
    },
    {
     "name": "stderr",
     "output_type": "stream",
     "text": [
      " 65%|██████▍   | 398/615 [00:27<00:16, 13.41it/s]"
     ]
    },
    {
     "name": "stdout",
     "output_type": "stream",
     "text": [
      "700560_390.png\n",
      "1/1 [==============================] - 0s 23ms/step\n",
      "700560_391.png\n",
      "1/1 [==============================] - 0s 26ms/step\n"
     ]
    },
    {
     "name": "stderr",
     "output_type": "stream",
     "text": [
      " 65%|██████▌   | 400/615 [00:27<00:15, 13.74it/s]"
     ]
    },
    {
     "name": "stdout",
     "output_type": "stream",
     "text": [
      "700560_392.png\n",
      "1/1 [==============================] - 0s 23ms/step\n",
      "700560_393.png\n",
      "1/1 [==============================] - 0s 26ms/step\n"
     ]
    },
    {
     "name": "stderr",
     "output_type": "stream",
     "text": [
      " 65%|██████▌   | 402/615 [00:27<00:15, 13.94it/s]"
     ]
    },
    {
     "name": "stdout",
     "output_type": "stream",
     "text": [
      "700560_394.png\n",
      "1/1 [==============================] - 0s 25ms/step\n",
      "700560_395.png\n",
      "1/1 [==============================] - 0s 42ms/step\n"
     ]
    },
    {
     "name": "stderr",
     "output_type": "stream",
     "text": [
      " 66%|██████▌   | 404/615 [00:27<00:16, 13.02it/s]"
     ]
    },
    {
     "name": "stdout",
     "output_type": "stream",
     "text": [
      "700560_396.png\n",
      "1/1 [==============================] - 0s 25ms/step\n",
      "700560_397.png\n",
      "1/1 [==============================] - 0s 33ms/step\n"
     ]
    },
    {
     "name": "stderr",
     "output_type": "stream",
     "text": [
      " 66%|██████▌   | 406/615 [00:27<00:16, 12.91it/s]"
     ]
    },
    {
     "name": "stdout",
     "output_type": "stream",
     "text": [
      "700560_398.png\n",
      "1/1 [==============================] - 0s 24ms/step\n",
      "700560_399.png\n",
      "1/1 [==============================] - 0s 21ms/step\n"
     ]
    },
    {
     "name": "stderr",
     "output_type": "stream",
     "text": [
      " 66%|██████▋   | 408/615 [00:28<00:15, 13.46it/s]"
     ]
    },
    {
     "name": "stdout",
     "output_type": "stream",
     "text": [
      "700560_4.png\n",
      "1/1 [==============================] - 0s 23ms/step\n",
      "700560_40.png\n",
      "1/1 [==============================] - 0s 23ms/step\n"
     ]
    },
    {
     "name": "stderr",
     "output_type": "stream",
     "text": [
      " 67%|██████▋   | 410/615 [00:28<00:14, 13.87it/s]"
     ]
    },
    {
     "name": "stdout",
     "output_type": "stream",
     "text": [
      "700560_400.png\n",
      "1/1 [==============================] - 0s 23ms/step\n",
      "700560_401.png\n",
      "1/1 [==============================] - 0s 29ms/step\n"
     ]
    },
    {
     "name": "stderr",
     "output_type": "stream",
     "text": [
      " 67%|██████▋   | 412/615 [00:28<00:14, 14.20it/s]"
     ]
    },
    {
     "name": "stdout",
     "output_type": "stream",
     "text": [
      "700560_402.png\n",
      "1/1 [==============================] - 0s 25ms/step\n",
      "700560_403.png\n",
      "1/1 [==============================] - 0s 31ms/step\n"
     ]
    },
    {
     "name": "stderr",
     "output_type": "stream",
     "text": [
      " 67%|██████▋   | 414/615 [00:28<00:15, 13.36it/s]"
     ]
    },
    {
     "name": "stdout",
     "output_type": "stream",
     "text": [
      "700560_404.png\n",
      "1/1 [==============================] - 0s 23ms/step\n",
      "700560_405.png\n",
      "1/1 [==============================] - 0s 47ms/step\n"
     ]
    },
    {
     "name": "stderr",
     "output_type": "stream",
     "text": [
      " 68%|██████▊   | 416/615 [00:28<00:14, 13.42it/s]"
     ]
    },
    {
     "name": "stdout",
     "output_type": "stream",
     "text": [
      "700560_406.png\n",
      "1/1 [==============================] - 0s 34ms/step\n",
      "700560_407.png\n",
      "1/1 [==============================] - 0s 36ms/step\n"
     ]
    },
    {
     "name": "stderr",
     "output_type": "stream",
     "text": [
      " 68%|██████▊   | 418/615 [00:28<00:15, 12.51it/s]"
     ]
    },
    {
     "name": "stdout",
     "output_type": "stream",
     "text": [
      "700560_408.png\n",
      "1/1 [==============================] - 0s 26ms/step\n",
      "700560_409.png\n",
      "1/1 [==============================] - 0s 27ms/step\n"
     ]
    },
    {
     "name": "stderr",
     "output_type": "stream",
     "text": [
      " 68%|██████▊   | 420/615 [00:28<00:14, 13.23it/s]"
     ]
    },
    {
     "name": "stdout",
     "output_type": "stream",
     "text": [
      "700560_41.png\n",
      "1/1 [==============================] - 0s 26ms/step\n",
      "700560_410.png\n",
      "1/1 [==============================] - 0s 30ms/step\n"
     ]
    },
    {
     "name": "stderr",
     "output_type": "stream",
     "text": [
      " 69%|██████▊   | 422/615 [00:29<00:14, 13.72it/s]"
     ]
    },
    {
     "name": "stdout",
     "output_type": "stream",
     "text": [
      "700560_411.png\n",
      "1/1 [==============================] - 0s 24ms/step\n",
      "700560_412.png\n",
      "1/1 [==============================] - 0s 24ms/step\n"
     ]
    },
    {
     "name": "stderr",
     "output_type": "stream",
     "text": [
      " 69%|██████▉   | 424/615 [00:29<00:13, 13.91it/s]"
     ]
    },
    {
     "name": "stdout",
     "output_type": "stream",
     "text": [
      "700560_413.png\n",
      "1/1 [==============================] - 0s 25ms/step\n",
      "700560_414.png\n",
      "1/1 [==============================] - 0s 28ms/step\n"
     ]
    },
    {
     "name": "stderr",
     "output_type": "stream",
     "text": [
      " 69%|██████▉   | 426/615 [00:29<00:13, 14.38it/s]"
     ]
    },
    {
     "name": "stdout",
     "output_type": "stream",
     "text": [
      "700560_415.png\n",
      "1/1 [==============================] - 0s 25ms/step\n",
      "700560_416.png\n",
      "1/1 [==============================] - 0s 24ms/step\n"
     ]
    },
    {
     "name": "stderr",
     "output_type": "stream",
     "text": [
      " 70%|██████▉   | 428/615 [00:29<00:13, 14.19it/s]"
     ]
    },
    {
     "name": "stdout",
     "output_type": "stream",
     "text": [
      "700560_417.png\n",
      "1/1 [==============================] - 0s 31ms/step\n",
      "700560_418.png\n",
      "1/1 [==============================] - 0s 34ms/step\n"
     ]
    },
    {
     "name": "stderr",
     "output_type": "stream",
     "text": [
      " 70%|██████▉   | 430/615 [00:29<00:13, 14.13it/s]"
     ]
    },
    {
     "name": "stdout",
     "output_type": "stream",
     "text": [
      "700560_419.png\n",
      "1/1 [==============================] - 0s 35ms/step\n",
      "700560_42.png\n",
      "1/1 [==============================] - 0s 25ms/step\n"
     ]
    },
    {
     "name": "stderr",
     "output_type": "stream",
     "text": [
      " 70%|███████   | 432/615 [00:29<00:13, 13.10it/s]"
     ]
    },
    {
     "name": "stdout",
     "output_type": "stream",
     "text": [
      "700560_420.png\n",
      "1/1 [==============================] - 0s 27ms/step\n",
      "700560_421.png\n",
      "1/1 [==============================] - 0s 37ms/step\n"
     ]
    },
    {
     "name": "stderr",
     "output_type": "stream",
     "text": [
      " 71%|███████   | 434/615 [00:29<00:13, 13.22it/s]"
     ]
    },
    {
     "name": "stdout",
     "output_type": "stream",
     "text": [
      "700560_422.png\n",
      "1/1 [==============================] - 0s 27ms/step\n",
      "700560_423.png\n",
      "1/1 [==============================] - 0s 40ms/step\n"
     ]
    },
    {
     "name": "stderr",
     "output_type": "stream",
     "text": [
      " 71%|███████   | 436/615 [00:30<00:13, 12.86it/s]"
     ]
    },
    {
     "name": "stdout",
     "output_type": "stream",
     "text": [
      "700560_424.png\n",
      "1/1 [==============================] - 0s 27ms/step\n",
      "700560_425.png\n",
      "1/1 [==============================] - 0s 26ms/step\n"
     ]
    },
    {
     "name": "stderr",
     "output_type": "stream",
     "text": [
      " 71%|███████   | 438/615 [00:30<00:13, 12.90it/s]"
     ]
    },
    {
     "name": "stdout",
     "output_type": "stream",
     "text": [
      "700560_426.png\n",
      "1/1 [==============================] - 0s 27ms/step\n",
      "700560_427.png\n",
      "1/1 [==============================] - 0s 25ms/step\n"
     ]
    },
    {
     "name": "stderr",
     "output_type": "stream",
     "text": [
      " 72%|███████▏  | 440/615 [00:30<00:13, 13.39it/s]"
     ]
    },
    {
     "name": "stdout",
     "output_type": "stream",
     "text": [
      "700560_428.png\n",
      "1/1 [==============================] - 0s 28ms/step\n",
      "700560_429.png\n",
      "1/1 [==============================] - 0s 35ms/step\n"
     ]
    },
    {
     "name": "stderr",
     "output_type": "stream",
     "text": [
      " 72%|███████▏  | 442/615 [00:30<00:12, 13.73it/s]"
     ]
    },
    {
     "name": "stdout",
     "output_type": "stream",
     "text": [
      "700560_43.png\n",
      "1/1 [==============================] - 0s 28ms/step\n",
      "700560_430.png\n",
      "1/1 [==============================] - 0s 24ms/step\n"
     ]
    },
    {
     "name": "stderr",
     "output_type": "stream",
     "text": [
      " 72%|███████▏  | 444/615 [00:30<00:12, 14.04it/s]"
     ]
    },
    {
     "name": "stdout",
     "output_type": "stream",
     "text": [
      "700560_431.png\n",
      "1/1 [==============================] - 0s 32ms/step\n",
      "700560_432.png\n",
      "1/1 [==============================] - 0s 30ms/step\n"
     ]
    },
    {
     "name": "stderr",
     "output_type": "stream",
     "text": [
      " 73%|███████▎  | 446/615 [00:30<00:12, 13.01it/s]"
     ]
    },
    {
     "name": "stdout",
     "output_type": "stream",
     "text": [
      "700560_433.png\n",
      "1/1 [==============================] - 0s 29ms/step\n",
      "700560_434.png\n",
      "1/1 [==============================] - 0s 29ms/step\n"
     ]
    },
    {
     "name": "stderr",
     "output_type": "stream",
     "text": [
      " 73%|███████▎  | 448/615 [00:31<00:12, 13.23it/s]"
     ]
    },
    {
     "name": "stdout",
     "output_type": "stream",
     "text": [
      "700560_435.png\n",
      "1/1 [==============================] - 0s 32ms/step\n",
      "700560_436.png\n",
      "1/1 [==============================] - 0s 32ms/step\n"
     ]
    },
    {
     "name": "stderr",
     "output_type": "stream",
     "text": [
      " 73%|███████▎  | 450/615 [00:31<00:12, 12.85it/s]"
     ]
    },
    {
     "name": "stdout",
     "output_type": "stream",
     "text": [
      "700560_437.png\n",
      "1/1 [==============================] - 0s 26ms/step\n",
      "700560_438.png\n",
      "1/1 [==============================] - 0s 27ms/step\n"
     ]
    },
    {
     "name": "stderr",
     "output_type": "stream",
     "text": [
      " 73%|███████▎  | 452/615 [00:31<00:12, 13.11it/s]"
     ]
    },
    {
     "name": "stdout",
     "output_type": "stream",
     "text": [
      "700560_439.png\n",
      "1/1 [==============================] - 0s 43ms/step\n",
      "700560_44.png\n",
      "1/1 [==============================] - 0s 37ms/step\n"
     ]
    },
    {
     "name": "stderr",
     "output_type": "stream",
     "text": [
      " 74%|███████▍  | 454/615 [00:31<00:15, 10.20it/s]"
     ]
    },
    {
     "name": "stdout",
     "output_type": "stream",
     "text": [
      "700560_440.png\n",
      "1/1 [==============================] - 0s 42ms/step\n",
      "700560_441.png\n",
      "1/1 [==============================] - 0s 54ms/step\n"
     ]
    },
    {
     "name": "stderr",
     "output_type": "stream",
     "text": [
      " 74%|███████▍  | 456/615 [00:31<00:15, 10.04it/s]"
     ]
    },
    {
     "name": "stdout",
     "output_type": "stream",
     "text": [
      "700560_442.png\n",
      "1/1 [==============================] - 0s 59ms/step\n",
      "700560_443.png\n",
      "1/1 [==============================] - 0s 33ms/step\n"
     ]
    },
    {
     "name": "stderr",
     "output_type": "stream",
     "text": [
      " 74%|███████▍  | 458/615 [00:32<00:16,  9.56it/s]"
     ]
    },
    {
     "name": "stdout",
     "output_type": "stream",
     "text": [
      "700560_444.png\n",
      "1/1 [==============================] - 0s 39ms/step\n",
      "700560_445.png\n",
      "1/1 [==============================] - 0s 28ms/step\n"
     ]
    },
    {
     "name": "stderr",
     "output_type": "stream",
     "text": [
      " 75%|███████▍  | 460/615 [00:32<00:15, 10.30it/s]"
     ]
    },
    {
     "name": "stdout",
     "output_type": "stream",
     "text": [
      "700560_446.png\n",
      "1/1 [==============================] - 0s 29ms/step\n",
      "700560_447.png\n",
      "1/1 [==============================] - 0s 27ms/step\n"
     ]
    },
    {
     "name": "stderr",
     "output_type": "stream",
     "text": [
      " 75%|███████▌  | 462/615 [00:32<00:13, 11.45it/s]"
     ]
    },
    {
     "name": "stdout",
     "output_type": "stream",
     "text": [
      "700560_448.png\n",
      "1/1 [==============================] - 0s 27ms/step\n",
      "700560_449.png\n",
      "1/1 [==============================] - 0s 31ms/step\n"
     ]
    },
    {
     "name": "stderr",
     "output_type": "stream",
     "text": [
      " 75%|███████▌  | 464/615 [00:32<00:12, 12.19it/s]"
     ]
    },
    {
     "name": "stdout",
     "output_type": "stream",
     "text": [
      "700560_45.png\n",
      "1/1 [==============================] - 0s 31ms/step\n",
      "700560_450.png\n",
      "1/1 [==============================] - 0s 29ms/step\n"
     ]
    },
    {
     "name": "stderr",
     "output_type": "stream",
     "text": [
      " 76%|███████▌  | 466/615 [00:32<00:11, 12.66it/s]"
     ]
    },
    {
     "name": "stdout",
     "output_type": "stream",
     "text": [
      "700560_451.png\n",
      "1/1 [==============================] - 0s 28ms/step\n",
      "700560_452.png\n",
      "1/1 [==============================] - 0s 29ms/step\n"
     ]
    },
    {
     "name": "stderr",
     "output_type": "stream",
     "text": [
      " 76%|███████▌  | 468/615 [00:32<00:11, 12.86it/s]"
     ]
    },
    {
     "name": "stdout",
     "output_type": "stream",
     "text": [
      "700560_453.png\n",
      "1/1 [==============================] - 0s 28ms/step\n",
      "700560_454.png\n",
      "1/1 [==============================] - 0s 35ms/step\n"
     ]
    },
    {
     "name": "stderr",
     "output_type": "stream",
     "text": [
      " 76%|███████▋  | 470/615 [00:32<00:10, 13.40it/s]"
     ]
    },
    {
     "name": "stdout",
     "output_type": "stream",
     "text": [
      "700560_455.png\n",
      "1/1 [==============================] - 0s 60ms/step\n",
      "700560_456.png\n",
      "1/1 [==============================] - 0s 34ms/step\n"
     ]
    },
    {
     "name": "stderr",
     "output_type": "stream",
     "text": [
      " 77%|███████▋  | 472/615 [00:33<00:12, 11.54it/s]"
     ]
    },
    {
     "name": "stdout",
     "output_type": "stream",
     "text": [
      "700560_457.png\n",
      "1/1 [==============================] - 0s 25ms/step\n",
      "700560_458.png\n",
      "1/1 [==============================] - 0s 23ms/step\n"
     ]
    },
    {
     "name": "stderr",
     "output_type": "stream",
     "text": [
      " 77%|███████▋  | 474/615 [00:33<00:11, 12.59it/s]"
     ]
    },
    {
     "name": "stdout",
     "output_type": "stream",
     "text": [
      "700560_459.png\n",
      "1/1 [==============================] - 0s 25ms/step\n",
      "700560_46.png\n",
      "1/1 [==============================] - 0s 29ms/step\n"
     ]
    },
    {
     "name": "stderr",
     "output_type": "stream",
     "text": [
      " 77%|███████▋  | 476/615 [00:33<00:10, 13.54it/s]"
     ]
    },
    {
     "name": "stdout",
     "output_type": "stream",
     "text": [
      "700560_460.png\n",
      "1/1 [==============================] - 0s 24ms/step\n",
      "700560_461.png\n",
      "1/1 [==============================] - 0s 37ms/step\n"
     ]
    },
    {
     "name": "stderr",
     "output_type": "stream",
     "text": [
      " 78%|███████▊  | 478/615 [00:33<00:09, 13.90it/s]"
     ]
    },
    {
     "name": "stdout",
     "output_type": "stream",
     "text": [
      "700560_462.png\n",
      "1/1 [==============================] - 0s 30ms/step\n",
      "700560_463.png\n",
      "1/1 [==============================] - 0s 24ms/step\n"
     ]
    },
    {
     "name": "stderr",
     "output_type": "stream",
     "text": [
      " 78%|███████▊  | 480/615 [00:33<00:09, 14.14it/s]"
     ]
    },
    {
     "name": "stdout",
     "output_type": "stream",
     "text": [
      "700560_464.png\n",
      "1/1 [==============================] - 0s 22ms/step\n",
      "700560_465.png\n",
      "1/1 [==============================] - 0s 29ms/step\n"
     ]
    },
    {
     "name": "stderr",
     "output_type": "stream",
     "text": [
      " 78%|███████▊  | 482/615 [00:33<00:09, 14.53it/s]"
     ]
    },
    {
     "name": "stdout",
     "output_type": "stream",
     "text": [
      "700560_466.png\n",
      "1/1 [==============================] - 0s 35ms/step\n",
      "700560_467.png\n",
      "1/1 [==============================] - 0s 27ms/step\n"
     ]
    },
    {
     "name": "stderr",
     "output_type": "stream",
     "text": [
      " 79%|███████▊  | 484/615 [00:33<00:08, 14.64it/s]"
     ]
    },
    {
     "name": "stdout",
     "output_type": "stream",
     "text": [
      "700560_468.png\n",
      "1/1 [==============================] - 0s 30ms/step\n",
      "700560_469.png\n",
      "1/1 [==============================] - 0s 34ms/step\n"
     ]
    },
    {
     "name": "stderr",
     "output_type": "stream",
     "text": [
      " 79%|███████▉  | 486/615 [00:34<00:09, 14.19it/s]"
     ]
    },
    {
     "name": "stdout",
     "output_type": "stream",
     "text": [
      "700560_47.png\n",
      "1/1 [==============================] - 0s 27ms/step\n",
      "700560_470.png\n",
      "1/1 [==============================] - 0s 26ms/step\n"
     ]
    },
    {
     "name": "stderr",
     "output_type": "stream",
     "text": [
      " 79%|███████▉  | 488/615 [00:34<00:09, 14.03it/s]"
     ]
    },
    {
     "name": "stdout",
     "output_type": "stream",
     "text": [
      "700560_471.png\n",
      "1/1 [==============================] - 0s 25ms/step\n",
      "700560_472.png\n",
      "1/1 [==============================] - 0s 23ms/step\n"
     ]
    },
    {
     "name": "stderr",
     "output_type": "stream",
     "text": [
      " 80%|███████▉  | 490/615 [00:34<00:08, 14.42it/s]"
     ]
    },
    {
     "name": "stdout",
     "output_type": "stream",
     "text": [
      "700560_473.png\n",
      "1/1 [==============================] - 0s 29ms/step\n",
      "700560_474.png\n",
      "1/1 [==============================] - 0s 30ms/step\n"
     ]
    },
    {
     "name": "stderr",
     "output_type": "stream",
     "text": [
      " 80%|████████  | 492/615 [00:34<00:08, 14.50it/s]"
     ]
    },
    {
     "name": "stdout",
     "output_type": "stream",
     "text": [
      "700560_475.png\n",
      "1/1 [==============================] - 0s 23ms/step\n",
      "700560_476.png\n",
      "1/1 [==============================] - 0s 23ms/step\n"
     ]
    },
    {
     "name": "stderr",
     "output_type": "stream",
     "text": [
      " 80%|████████  | 494/615 [00:34<00:08, 14.92it/s]"
     ]
    },
    {
     "name": "stdout",
     "output_type": "stream",
     "text": [
      "700560_477.png\n",
      "1/1 [==============================] - 0s 36ms/step\n",
      "700560_478.png\n",
      "1/1 [==============================] - 0s 25ms/step\n"
     ]
    },
    {
     "name": "stderr",
     "output_type": "stream",
     "text": [
      " 81%|████████  | 496/615 [00:34<00:08, 14.87it/s]"
     ]
    },
    {
     "name": "stdout",
     "output_type": "stream",
     "text": [
      "700560_479.png\n",
      "1/1 [==============================] - 0s 25ms/step\n",
      "700560_48.png\n",
      "1/1 [==============================] - 0s 24ms/step\n"
     ]
    },
    {
     "name": "stderr",
     "output_type": "stream",
     "text": [
      " 81%|████████  | 498/615 [00:34<00:07, 15.13it/s]"
     ]
    },
    {
     "name": "stdout",
     "output_type": "stream",
     "text": [
      "700560_480.png\n",
      "1/1 [==============================] - 0s 25ms/step\n",
      "700560_481.png\n",
      "1/1 [==============================] - 0s 23ms/step\n"
     ]
    },
    {
     "name": "stderr",
     "output_type": "stream",
     "text": [
      " 81%|████████▏ | 500/615 [00:35<00:07, 15.03it/s]"
     ]
    },
    {
     "name": "stdout",
     "output_type": "stream",
     "text": [
      "700560_482.png\n",
      "1/1 [==============================] - 0s 32ms/step\n",
      "700560_483.png\n",
      "1/1 [==============================] - 0s 29ms/step\n"
     ]
    },
    {
     "name": "stderr",
     "output_type": "stream",
     "text": [
      " 82%|████████▏ | 502/615 [00:35<00:07, 15.09it/s]"
     ]
    },
    {
     "name": "stdout",
     "output_type": "stream",
     "text": [
      "700560_484.png\n",
      "1/1 [==============================] - 0s 23ms/step\n",
      "700560_485.png\n",
      "1/1 [==============================] - 0s 22ms/step\n"
     ]
    },
    {
     "name": "stderr",
     "output_type": "stream",
     "text": [
      " 82%|████████▏ | 504/615 [00:35<00:07, 15.06it/s]"
     ]
    },
    {
     "name": "stdout",
     "output_type": "stream",
     "text": [
      "700560_486.png\n",
      "1/1 [==============================] - 0s 26ms/step\n",
      "700560_487.png\n",
      "1/1 [==============================] - 0s 34ms/step\n"
     ]
    },
    {
     "name": "stderr",
     "output_type": "stream",
     "text": [
      " 82%|████████▏ | 506/615 [00:35<00:07, 13.69it/s]"
     ]
    },
    {
     "name": "stdout",
     "output_type": "stream",
     "text": [
      "700560_488.png\n",
      "1/1 [==============================] - 0s 32ms/step\n",
      "700560_489.png\n",
      "1/1 [==============================] - 0s 32ms/step\n"
     ]
    },
    {
     "name": "stderr",
     "output_type": "stream",
     "text": [
      " 83%|████████▎ | 508/615 [00:35<00:07, 14.17it/s]"
     ]
    },
    {
     "name": "stdout",
     "output_type": "stream",
     "text": [
      "700560_49.png\n",
      "1/1 [==============================] - 0s 27ms/step\n",
      "700560_490.png\n",
      "1/1 [==============================] - 0s 27ms/step\n"
     ]
    },
    {
     "name": "stderr",
     "output_type": "stream",
     "text": [
      " 83%|████████▎ | 510/615 [00:35<00:07, 13.75it/s]"
     ]
    },
    {
     "name": "stdout",
     "output_type": "stream",
     "text": [
      "700560_491.png\n",
      "1/1 [==============================] - 0s 27ms/step\n",
      "700560_492.png\n",
      "1/1 [==============================] - 0s 34ms/step\n"
     ]
    },
    {
     "name": "stderr",
     "output_type": "stream",
     "text": [
      " 83%|████████▎ | 512/615 [00:36<00:16,  6.37it/s]"
     ]
    },
    {
     "name": "stdout",
     "output_type": "stream",
     "text": [
      "700560_493.png\n",
      "1/1 [==============================] - 0s 33ms/step\n",
      "700560_494.png\n",
      "1/1 [==============================] - 0s 30ms/step\n"
     ]
    },
    {
     "name": "stderr",
     "output_type": "stream",
     "text": [
      " 84%|████████▎ | 514/615 [00:36<00:13,  7.71it/s]"
     ]
    },
    {
     "name": "stdout",
     "output_type": "stream",
     "text": [
      "700560_495.png\n",
      "1/1 [==============================] - 0s 46ms/step\n",
      "700560_496.png\n",
      "1/1 [==============================] - 0s 37ms/step\n"
     ]
    },
    {
     "name": "stderr",
     "output_type": "stream",
     "text": [
      " 84%|████████▍ | 516/615 [00:36<00:11,  8.25it/s]"
     ]
    },
    {
     "name": "stdout",
     "output_type": "stream",
     "text": [
      "700560_497.png\n",
      "1/1 [==============================] - 0s 27ms/step\n",
      "700560_498.png\n",
      "1/1 [==============================] - 0s 31ms/step\n"
     ]
    },
    {
     "name": "stderr",
     "output_type": "stream",
     "text": [
      " 84%|████████▍ | 518/615 [00:36<00:10,  9.30it/s]"
     ]
    },
    {
     "name": "stdout",
     "output_type": "stream",
     "text": [
      "700560_499.png\n",
      "1/1 [==============================] - 0s 33ms/step\n",
      "700560_5.png\n",
      "1/1 [==============================] - 0s 28ms/step\n"
     ]
    },
    {
     "name": "stderr",
     "output_type": "stream",
     "text": [
      " 85%|████████▍ | 520/615 [00:37<00:09, 10.13it/s]"
     ]
    },
    {
     "name": "stdout",
     "output_type": "stream",
     "text": [
      "700560_50.png\n",
      "1/1 [==============================] - 0s 33ms/step\n",
      "700560_500.png\n",
      "1/1 [==============================] - 0s 37ms/step\n"
     ]
    },
    {
     "name": "stderr",
     "output_type": "stream",
     "text": [
      " 85%|████████▍ | 522/615 [00:37<00:08, 10.66it/s]"
     ]
    },
    {
     "name": "stdout",
     "output_type": "stream",
     "text": [
      "700560_501.png\n",
      "1/1 [==============================] - 0s 27ms/step\n",
      "700560_502.png\n",
      "1/1 [==============================] - 0s 37ms/step\n"
     ]
    },
    {
     "name": "stderr",
     "output_type": "stream",
     "text": [
      " 85%|████████▌ | 524/615 [00:37<00:08, 11.16it/s]"
     ]
    },
    {
     "name": "stdout",
     "output_type": "stream",
     "text": [
      "700560_503.png\n",
      "1/1 [==============================] - 0s 30ms/step\n",
      "700560_504.png\n",
      "1/1 [==============================] - 0s 28ms/step\n"
     ]
    },
    {
     "name": "stderr",
     "output_type": "stream",
     "text": [
      " 86%|████████▌ | 526/615 [00:37<00:07, 12.02it/s]"
     ]
    },
    {
     "name": "stdout",
     "output_type": "stream",
     "text": [
      "700560_505.png\n",
      "1/1 [==============================] - 0s 27ms/step\n",
      "700560_506.png\n",
      "1/1 [==============================] - 0s 44ms/step\n"
     ]
    },
    {
     "name": "stderr",
     "output_type": "stream",
     "text": [
      " 86%|████████▌ | 528/615 [00:37<00:07, 11.46it/s]"
     ]
    },
    {
     "name": "stdout",
     "output_type": "stream",
     "text": [
      "700560_507.png\n",
      "1/1 [==============================] - 0s 26ms/step\n",
      "700560_508.png\n",
      "1/1 [==============================] - 0s 26ms/step\n"
     ]
    },
    {
     "name": "stderr",
     "output_type": "stream",
     "text": [
      " 86%|████████▌ | 530/615 [00:37<00:07, 11.60it/s]"
     ]
    },
    {
     "name": "stdout",
     "output_type": "stream",
     "text": [
      "700560_509.png\n",
      "1/1 [==============================] - 0s 27ms/step\n",
      "700560_51.png\n",
      "1/1 [==============================] - 0s 26ms/step\n"
     ]
    },
    {
     "name": "stderr",
     "output_type": "stream",
     "text": [
      " 87%|████████▋ | 532/615 [00:38<00:06, 12.43it/s]"
     ]
    },
    {
     "name": "stdout",
     "output_type": "stream",
     "text": [
      "700560_510.png\n",
      "1/1 [==============================] - 0s 27ms/step\n",
      "700560_511.png\n",
      "1/1 [==============================] - 0s 31ms/step\n"
     ]
    },
    {
     "name": "stderr",
     "output_type": "stream",
     "text": [
      " 87%|████████▋ | 534/615 [00:38<00:06, 12.96it/s]"
     ]
    },
    {
     "name": "stdout",
     "output_type": "stream",
     "text": [
      "700560_512.png\n",
      "1/1 [==============================] - 0s 33ms/step\n",
      "700560_513.png\n",
      "1/1 [==============================] - 0s 34ms/step\n"
     ]
    },
    {
     "name": "stderr",
     "output_type": "stream",
     "text": [
      " 87%|████████▋ | 536/615 [00:38<00:05, 13.42it/s]"
     ]
    },
    {
     "name": "stdout",
     "output_type": "stream",
     "text": [
      "700560_514.png\n",
      "1/1 [==============================] - 0s 30ms/step\n",
      "700560_515.png\n",
      "1/1 [==============================] - 0s 28ms/step\n"
     ]
    },
    {
     "name": "stderr",
     "output_type": "stream",
     "text": [
      " 87%|████████▋ | 538/615 [00:38<00:05, 13.20it/s]"
     ]
    },
    {
     "name": "stdout",
     "output_type": "stream",
     "text": [
      "700560_516.png\n",
      "1/1 [==============================] - 0s 35ms/step\n",
      "700560_517.png\n",
      "1/1 [==============================] - 0s 42ms/step\n"
     ]
    },
    {
     "name": "stderr",
     "output_type": "stream",
     "text": [
      " 88%|████████▊ | 540/615 [00:38<00:05, 12.56it/s]"
     ]
    },
    {
     "name": "stdout",
     "output_type": "stream",
     "text": [
      "700560_518.png\n",
      "1/1 [==============================] - 0s 34ms/step\n",
      "700560_519.png\n",
      "1/1 [==============================] - 0s 27ms/step\n"
     ]
    },
    {
     "name": "stderr",
     "output_type": "stream",
     "text": [
      " 88%|████████▊ | 542/615 [00:38<00:05, 12.56it/s]"
     ]
    },
    {
     "name": "stdout",
     "output_type": "stream",
     "text": [
      "700560_52.png\n",
      "1/1 [==============================] - 0s 28ms/step\n",
      "700560_520.png\n",
      "1/1 [==============================] - 0s 27ms/step\n"
     ]
    },
    {
     "name": "stderr",
     "output_type": "stream",
     "text": [
      " 88%|████████▊ | 544/615 [00:38<00:05, 13.18it/s]"
     ]
    },
    {
     "name": "stdout",
     "output_type": "stream",
     "text": [
      "700560_521.png\n",
      "1/1 [==============================] - 0s 36ms/step\n",
      "700560_522.png\n",
      "1/1 [==============================] - 0s 33ms/step\n"
     ]
    },
    {
     "name": "stderr",
     "output_type": "stream",
     "text": [
      " 89%|████████▉ | 546/615 [00:39<00:05, 13.02it/s]"
     ]
    },
    {
     "name": "stdout",
     "output_type": "stream",
     "text": [
      "700560_523.png\n",
      "1/1 [==============================] - 0s 30ms/step\n",
      "700560_524.png\n",
      "1/1 [==============================] - 0s 28ms/step\n"
     ]
    },
    {
     "name": "stderr",
     "output_type": "stream",
     "text": [
      " 89%|████████▉ | 548/615 [00:39<00:05, 12.97it/s]"
     ]
    },
    {
     "name": "stdout",
     "output_type": "stream",
     "text": [
      "700560_525.png\n",
      "1/1 [==============================] - 0s 28ms/step\n",
      "700560_526.png\n",
      "1/1 [==============================] - 0s 33ms/step\n"
     ]
    },
    {
     "name": "stderr",
     "output_type": "stream",
     "text": [
      " 89%|████████▉ | 550/615 [00:39<00:04, 13.11it/s]"
     ]
    },
    {
     "name": "stdout",
     "output_type": "stream",
     "text": [
      "700560_527.png\n",
      "1/1 [==============================] - 0s 34ms/step\n",
      "700560_528.png\n",
      "1/1 [==============================] - 0s 27ms/step\n"
     ]
    },
    {
     "name": "stderr",
     "output_type": "stream",
     "text": [
      " 90%|████████▉ | 552/615 [00:39<00:04, 13.50it/s]"
     ]
    },
    {
     "name": "stdout",
     "output_type": "stream",
     "text": [
      "700560_529.png\n",
      "1/1 [==============================] - 0s 34ms/step\n",
      "700560_53.png\n",
      "1/1 [==============================] - 0s 51ms/step\n"
     ]
    },
    {
     "name": "stderr",
     "output_type": "stream",
     "text": [
      " 90%|█████████ | 554/615 [00:39<00:04, 12.21it/s]"
     ]
    },
    {
     "name": "stdout",
     "output_type": "stream",
     "text": [
      "700560_530.png\n",
      "1/1 [==============================] - 0s 37ms/step\n",
      "700560_531.png\n",
      "1/1 [==============================] - 0s 33ms/step\n"
     ]
    },
    {
     "name": "stderr",
     "output_type": "stream",
     "text": [
      " 90%|█████████ | 556/615 [00:39<00:04, 11.92it/s]"
     ]
    },
    {
     "name": "stdout",
     "output_type": "stream",
     "text": [
      "700560_532.png\n",
      "1/1 [==============================] - 0s 33ms/step\n",
      "700560_533.png\n",
      "1/1 [==============================] - 0s 32ms/step\n"
     ]
    },
    {
     "name": "stderr",
     "output_type": "stream",
     "text": [
      " 91%|█████████ | 558/615 [00:40<00:04, 11.49it/s]"
     ]
    },
    {
     "name": "stdout",
     "output_type": "stream",
     "text": [
      "700560_534.png\n",
      "1/1 [==============================] - 0s 34ms/step\n",
      "700560_535.png\n",
      "1/1 [==============================] - 0s 34ms/step\n"
     ]
    },
    {
     "name": "stderr",
     "output_type": "stream",
     "text": [
      " 91%|█████████ | 560/615 [00:40<00:04, 12.28it/s]"
     ]
    },
    {
     "name": "stdout",
     "output_type": "stream",
     "text": [
      "700560_536.png\n",
      "1/1 [==============================] - 0s 28ms/step\n",
      "700560_537.png\n",
      "1/1 [==============================] - 0s 31ms/step\n"
     ]
    },
    {
     "name": "stderr",
     "output_type": "stream",
     "text": [
      " 91%|█████████▏| 562/615 [00:40<00:04, 12.50it/s]"
     ]
    },
    {
     "name": "stdout",
     "output_type": "stream",
     "text": [
      "700560_538.png\n",
      "1/1 [==============================] - 0s 36ms/step\n",
      "700560_539.png\n",
      "1/1 [==============================] - 0s 30ms/step\n"
     ]
    },
    {
     "name": "stderr",
     "output_type": "stream",
     "text": [
      " 92%|█████████▏| 564/615 [00:40<00:04, 12.67it/s]"
     ]
    },
    {
     "name": "stdout",
     "output_type": "stream",
     "text": [
      "700560_54.png\n",
      "1/1 [==============================] - 0s 26ms/step\n",
      "700560_540.png\n",
      "1/1 [==============================] - 0s 32ms/step\n"
     ]
    },
    {
     "name": "stderr",
     "output_type": "stream",
     "text": [
      " 92%|█████████▏| 566/615 [00:40<00:03, 12.64it/s]"
     ]
    },
    {
     "name": "stdout",
     "output_type": "stream",
     "text": [
      "700560_55.png\n",
      "1/1 [==============================] - 0s 34ms/step\n",
      "700560_56.png\n",
      "1/1 [==============================] - 0s 44ms/step\n"
     ]
    },
    {
     "name": "stderr",
     "output_type": "stream",
     "text": [
      " 92%|█████████▏| 568/615 [00:40<00:04, 11.75it/s]"
     ]
    },
    {
     "name": "stdout",
     "output_type": "stream",
     "text": [
      "700560_57.png\n",
      "1/1 [==============================] - 0s 44ms/step\n",
      "700560_58.png\n",
      "1/1 [==============================] - 0s 25ms/step\n"
     ]
    },
    {
     "name": "stderr",
     "output_type": "stream",
     "text": [
      " 93%|█████████▎| 570/615 [00:41<00:03, 12.43it/s]"
     ]
    },
    {
     "name": "stdout",
     "output_type": "stream",
     "text": [
      "700560_59.png\n",
      "1/1 [==============================] - 0s 27ms/step\n",
      "700560_6.png\n",
      "1/1 [==============================] - 0s 34ms/step\n"
     ]
    },
    {
     "name": "stderr",
     "output_type": "stream",
     "text": [
      " 93%|█████████▎| 572/615 [00:41<00:03, 13.22it/s]"
     ]
    },
    {
     "name": "stdout",
     "output_type": "stream",
     "text": [
      "700560_60.png\n",
      "1/1 [==============================] - 0s 34ms/step\n",
      "700560_61.png\n",
      "1/1 [==============================] - 0s 31ms/step\n"
     ]
    },
    {
     "name": "stderr",
     "output_type": "stream",
     "text": [
      " 93%|█████████▎| 574/615 [00:41<00:02, 13.86it/s]"
     ]
    },
    {
     "name": "stdout",
     "output_type": "stream",
     "text": [
      "700560_62.png\n",
      "1/1 [==============================] - 0s 33ms/step\n",
      "700560_63.png\n",
      "1/1 [==============================] - 0s 26ms/step\n"
     ]
    },
    {
     "name": "stderr",
     "output_type": "stream",
     "text": [
      " 94%|█████████▎| 576/615 [00:41<00:02, 14.15it/s]"
     ]
    },
    {
     "name": "stdout",
     "output_type": "stream",
     "text": [
      "700560_64.png\n",
      "1/1 [==============================] - 0s 27ms/step\n",
      "700560_65.png\n",
      "1/1 [==============================] - 0s 23ms/step\n"
     ]
    },
    {
     "name": "stderr",
     "output_type": "stream",
     "text": [
      " 94%|█████████▍| 578/615 [00:41<00:02, 14.86it/s]"
     ]
    },
    {
     "name": "stdout",
     "output_type": "stream",
     "text": [
      "700560_66.png\n",
      "1/1 [==============================] - 0s 28ms/step\n",
      "700560_67.png\n",
      "1/1 [==============================] - 0s 26ms/step\n"
     ]
    },
    {
     "name": "stderr",
     "output_type": "stream",
     "text": [
      " 94%|█████████▍| 580/615 [00:41<00:02, 15.29it/s]"
     ]
    },
    {
     "name": "stdout",
     "output_type": "stream",
     "text": [
      "700560_68.png\n",
      "1/1 [==============================] - 0s 25ms/step\n",
      "700560_69.png\n",
      "1/1 [==============================] - 0s 28ms/step\n"
     ]
    },
    {
     "name": "stderr",
     "output_type": "stream",
     "text": [
      " 95%|█████████▍| 582/615 [00:41<00:02, 15.74it/s]"
     ]
    },
    {
     "name": "stdout",
     "output_type": "stream",
     "text": [
      "700560_7.png\n",
      "1/1 [==============================] - 0s 35ms/step\n",
      "700560_70.png\n",
      "1/1 [==============================] - 0s 42ms/step\n"
     ]
    },
    {
     "name": "stderr",
     "output_type": "stream",
     "text": [
      " 95%|█████████▍| 584/615 [00:41<00:02, 14.31it/s]"
     ]
    },
    {
     "name": "stdout",
     "output_type": "stream",
     "text": [
      "700560_71.png\n",
      "1/1 [==============================] - 0s 28ms/step\n",
      "700560_72.png\n",
      "1/1 [==============================] - 0s 25ms/step\n"
     ]
    },
    {
     "name": "stderr",
     "output_type": "stream",
     "text": [
      " 95%|█████████▌| 586/615 [00:42<00:02, 14.34it/s]"
     ]
    },
    {
     "name": "stdout",
     "output_type": "stream",
     "text": [
      "700560_73.png\n",
      "1/1 [==============================] - 0s 27ms/step\n",
      "700560_74.png\n",
      "1/1 [==============================] - 0s 39ms/step\n"
     ]
    },
    {
     "name": "stderr",
     "output_type": "stream",
     "text": [
      " 96%|█████████▌| 588/615 [00:42<00:01, 14.47it/s]"
     ]
    },
    {
     "name": "stdout",
     "output_type": "stream",
     "text": [
      "700560_75.png\n",
      "1/1 [==============================] - 0s 27ms/step\n",
      "700560_76.png\n",
      "1/1 [==============================] - 0s 31ms/step\n"
     ]
    },
    {
     "name": "stderr",
     "output_type": "stream",
     "text": [
      " 96%|█████████▌| 590/615 [00:42<00:01, 14.24it/s]"
     ]
    },
    {
     "name": "stdout",
     "output_type": "stream",
     "text": [
      "700560_77.png\n",
      "1/1 [==============================] - 0s 29ms/step\n",
      "700560_78.png\n",
      "1/1 [==============================] - 0s 37ms/step\n"
     ]
    },
    {
     "name": "stderr",
     "output_type": "stream",
     "text": [
      " 96%|█████████▋| 592/615 [00:42<00:01, 14.51it/s]"
     ]
    },
    {
     "name": "stdout",
     "output_type": "stream",
     "text": [
      "700560_79.png\n",
      "1/1 [==============================] - 0s 29ms/step\n",
      "700560_8.png\n",
      "1/1 [==============================] - 0s 27ms/step\n"
     ]
    },
    {
     "name": "stderr",
     "output_type": "stream",
     "text": [
      " 97%|█████████▋| 594/615 [00:42<00:01, 14.12it/s]"
     ]
    },
    {
     "name": "stdout",
     "output_type": "stream",
     "text": [
      "700560_80.png\n",
      "1/1 [==============================] - 0s 26ms/step\n",
      "700560_81.png\n",
      "1/1 [==============================] - 0s 24ms/step\n"
     ]
    },
    {
     "name": "stderr",
     "output_type": "stream",
     "text": [
      " 97%|█████████▋| 596/615 [00:42<00:01, 14.67it/s]"
     ]
    },
    {
     "name": "stdout",
     "output_type": "stream",
     "text": [
      "700560_82.png\n",
      "1/1 [==============================] - 0s 34ms/step\n",
      "700560_83.png\n",
      "1/1 [==============================] - 0s 33ms/step\n"
     ]
    },
    {
     "name": "stderr",
     "output_type": "stream",
     "text": [
      " 97%|█████████▋| 598/615 [00:42<00:01, 14.35it/s]"
     ]
    },
    {
     "name": "stdout",
     "output_type": "stream",
     "text": [
      "700560_84.png\n",
      "1/1 [==============================] - 0s 63ms/step\n",
      "700560_85.png\n",
      "1/1 [==============================] - 0s 40ms/step\n"
     ]
    },
    {
     "name": "stderr",
     "output_type": "stream",
     "text": [
      " 98%|█████████▊| 600/615 [00:43<00:01, 12.42it/s]"
     ]
    },
    {
     "name": "stdout",
     "output_type": "stream",
     "text": [
      "700560_86.png\n",
      "1/1 [==============================] - 0s 26ms/step\n",
      "700560_87.png\n",
      "1/1 [==============================] - 0s 33ms/step\n"
     ]
    },
    {
     "name": "stderr",
     "output_type": "stream",
     "text": [
      " 98%|█████████▊| 602/615 [00:43<00:00, 13.01it/s]"
     ]
    },
    {
     "name": "stdout",
     "output_type": "stream",
     "text": [
      "700560_88.png\n",
      "1/1 [==============================] - 0s 25ms/step\n",
      "700560_89.png\n",
      "1/1 [==============================] - 0s 30ms/step\n"
     ]
    },
    {
     "name": "stderr",
     "output_type": "stream",
     "text": [
      " 98%|█████████▊| 604/615 [00:43<00:00, 13.75it/s]"
     ]
    },
    {
     "name": "stdout",
     "output_type": "stream",
     "text": [
      "700560_9.png\n",
      "1/1 [==============================] - 0s 27ms/step\n",
      "700560_90.png\n",
      "1/1 [==============================] - 0s 30ms/step\n"
     ]
    },
    {
     "name": "stderr",
     "output_type": "stream",
     "text": [
      " 99%|█████████▊| 606/615 [00:43<00:00, 14.48it/s]"
     ]
    },
    {
     "name": "stdout",
     "output_type": "stream",
     "text": [
      "700560_91.png\n",
      "1/1 [==============================] - 0s 28ms/step\n",
      "700560_92.png\n",
      "1/1 [==============================] - 0s 31ms/step\n"
     ]
    },
    {
     "name": "stderr",
     "output_type": "stream",
     "text": [
      " 99%|█████████▉| 608/615 [00:43<00:00, 14.97it/s]"
     ]
    },
    {
     "name": "stdout",
     "output_type": "stream",
     "text": [
      "700560_93.png\n",
      "1/1 [==============================] - 0s 26ms/step\n",
      "700560_94.png\n",
      "1/1 [==============================] - 0s 25ms/step\n"
     ]
    },
    {
     "name": "stderr",
     "output_type": "stream",
     "text": [
      " 99%|█████████▉| 610/615 [00:43<00:00, 15.63it/s]"
     ]
    },
    {
     "name": "stdout",
     "output_type": "stream",
     "text": [
      "700560_95.png\n",
      "1/1 [==============================] - 0s 45ms/step\n",
      "700560_96.png\n",
      "1/1 [==============================] - 0s 34ms/step\n"
     ]
    },
    {
     "name": "stderr",
     "output_type": "stream",
     "text": [
      "100%|█████████▉| 612/615 [00:43<00:00, 14.57it/s]"
     ]
    },
    {
     "name": "stdout",
     "output_type": "stream",
     "text": [
      "700560_97.png\n",
      "1/1 [==============================] - 0s 29ms/step\n",
      "700560_98.png\n",
      "1/1 [==============================] - 0s 25ms/step\n"
     ]
    },
    {
     "name": "stderr",
     "output_type": "stream",
     "text": [
      "100%|█████████▉| 614/615 [00:44<00:00, 14.67it/s]"
     ]
    },
    {
     "name": "stdout",
     "output_type": "stream",
     "text": [
      "700560_99.png\n",
      "1/1 [==============================] - 0s 25ms/step\n"
     ]
    },
    {
     "name": "stderr",
     "output_type": "stream",
     "text": [
      "100%|██████████| 615/615 [00:44<00:00, 13.93it/s]\n"
     ]
    }
   ],
   "source": [
    "time_taken=[]\n",
    "import time\n",
    "for x in tqdm(test_x):\n",
    "    name=x.split(\"/\")[-1]\n",
    "    print(name)\n",
    "    x= cv2.imread(x ,cv2.IMREAD_COLOR)\n",
    "    x=x / 255.0\n",
    "    x=np.expand_dims(x,axis=0)\n",
    "    start_time=time.time()\n",
    "    p= model.predict(x)[0]\n",
    "    total_time=time.time()-start_time\n",
    "    time_taken.append(total_time)\n",
    "    p=p>0.5\n",
    "    p=p*255\n",
    "    cv2.imwrite(os.path.join(save_path, name),p)\n",
    "\n",
    "   \n",
    "\n"
   ]
  },
  {
   "cell_type": "code",
   "execution_count": null,
   "metadata": {},
   "outputs": [
    {
     "ename": "",
     "evalue": "",
     "output_type": "error",
     "traceback": [
      "\u001b[1;31mThe Kernel crashed while executing code in the current cell or a previous cell. \n",
      "\u001b[1;31mPlease review the code in the cell(s) to identify a possible cause of the failure. \n",
      "\u001b[1;31mClick <a href='https://aka.ms/vscodeJupyterKernelCrash'>here</a> for more info. \n",
      "\u001b[1;31mView Jupyter <a href='command:jupyter.viewOutput'>log</a> for further details."
     ]
    }
   ],
   "source": [
    "import cv2\n",
    "import numpy as np\n",
    "\n",
    "# Load your image and its corresponding mask\n",
    "image = cv2.imread('/home/keanuf/.cache/Assignemt9/BRAIN SEGMENTATION/dataset2/non-aug/test/353340_7.png')\n",
    "mask = cv2.imread('/home/keanuf/.cache/Assignemt9/BRAIN SEGMENTATION/prediction,non-aug/353340_7.png', cv2.IMREAD_GRAYSCALE)\n",
    "\n",
    "# Apply the mask to the image\n",
    "result = cv2.bitwise_and(image= image, mask=mask)\n",
    "#cv2.imwrite(\"MASK\", result)\n",
    "# Display the result\n",
    "cv2.imshow('Result', result)\n",
    "cv2.waitKey(0)\n",
    "cv2.destroyAllWindows()\n",
    "\n",
    "\n",
    "from PIL import Image\n",
    "\n",
    "# Load your image and its corresponding mask\n",
    "image = Image.open('image.jpg')\n",
    "mask = Image.open('mask.jpg')\n",
    "\n",
    "# Apply the mask to the image\n",
    "result = Image.composite(image, Image.new('RGB', image.size, (0, 0, 0)), mask)\n",
    "\n",
    "# Display the result\n",
    "result.show()\n"
   ]
  },
  {
   "cell_type": "code",
   "execution_count": null,
   "metadata": {},
   "outputs": [
    {
     "ename": "",
     "evalue": "",
     "output_type": "error",
     "traceback": [
      "\u001b[1;31mThe Kernel crashed while executing code in the current cell or a previous cell. \n",
      "\u001b[1;31mPlease review the code in the cell(s) to identify a possible cause of the failure. \n",
      "\u001b[1;31mClick <a href='https://aka.ms/vscodeJupyterKernelCrash'>here</a> for more info. \n",
      "\u001b[1;31mView Jupyter <a href='command:jupyter.viewOutput'>log</a> for further details."
     ]
    }
   ],
   "source": [
    "import cv2\n",
    "import numpy as np\n",
    "\n",
    "# Load your image and its corresponding mask\n",
    "image = cv2.imread('/home/keanuf/.cache/Assignemt9/BRAIN SEGMENTATION/dataset2/non-aug/test/353340_7.png')\n",
    "mask = cv2.imread('/home/keanuf/.cache/Assignemt9/BRAIN SEGMENTATION/prediction,non-aug/353340_7.png', cv2.IMREAD_GRAYSCALE)\n",
    "\n",
    "# Apply the mask to the image\n",
    "result = cv2.bitwise_and(image,image, mask=mask)\n",
    "#cv2.imwrite(\"MASK\", result)\n",
    "# Display the result\n",
    "cv2.imshow('Result', result)\n",
    "cv2.waitKey(0)\n",
    "cv2.destroyAllWindows()\n",
    "\n",
    "\n",
    "from PIL import Image\n",
    "\n",
    "# Load your image and its corresponding mask\n",
    "image = Image.open('image.jpg')\n",
    "mask = Image.open('mask.jpg')\n",
    "\n",
    "# Apply the mask to the image\n",
    "result = Image.composite(image, Image.new('RGB', image.size, (0, 0, 0)), mask)\n",
    "\n",
    "# Display the result\n",
    "result.show()"
   ]
  },
  {
   "cell_type": "code",
   "execution_count": 4,
   "metadata": {},
   "outputs": [
    {
     "data": {
      "image/jpeg": "[encoded data removed]",
      "image/png": "[encoded data removed]",
      "text/plain": [
       "<PIL.Image.Image image mode=RGB size=128x128>"
      ]
     },
     "metadata": {},
     "output_type": "display_data"
    }
   ],
   "source": [
    "import cv2\n",
    "from PIL import Image\n",
    "\n",
    "image = Image.open('/home/keanuf/.cache/Assignemt9/BRAIN SEGMENTATION/dataset2/non-aug/test/353340_7.png')\n",
    "mask = Image.open('/home/keanuf/.cache/Assignemt9/BRAIN SEGMENTATION/prediction,non-aug/353340_7.png')\n",
    "\n",
    "result = Image.composite(image, Image.new('RGB', image.size, (0, 0, 0)), mask)\n",
    "\n",
    "\n",
    "result.show()"
   ]
  },
  {
   "cell_type": "code",
   "execution_count": 5,
   "metadata": {},
   "outputs": [],
   "source": [
    "import os\n",
    "from PIL import Image\n",
    "\n",
    "def composite_images(image_folder, mask_folder, output_folder):\n",
    "    # Get the list of image files in the input folder\n",
    "    image_files = os.listdir(image_folder)\n",
    "    \n",
    "    # Iterate through each image file\n",
    "    for image_file in image_files:\n",
    "        # Construct the file paths for the current image and its corresponding mask\n",
    "        image_path = os.path.join(image_folder, image_file)\n",
    "        mask_file = image_file.split('.')[0] + '.png'  # Assuming masks have the same filename format as images\n",
    "        mask_path = os.path.join(mask_folder, mask_file)\n",
    "        \n",
    "        # Open the image and mask\n",
    "        image = Image.open(image_path)\n",
    "        mask = Image.open(mask_path)\n",
    "        \n",
    "        # Perform composite operation\n",
    "        result = Image.composite(image, Image.new('RGB', image.size, (0, 0, 0)), mask)\n",
    "        \n",
    "        # Construct the output file path\n",
    "        output_file = os.path.join(output_folder, image_file)\n",
    "        \n",
    "        # Save the resulting composite image\n",
    "        result.save(output_file)\n",
    "\n",
    "# Paths to input image and mask folders, and output folder\n",
    "image_folder = '/home/keanuf/.cache/Assignemt9/BRAIN SEGMENTATION/dataset2/non-aug/test'\n",
    "mask_folder = '/home/keanuf/.cache/Assignemt9/BRAIN SEGMENTATION/prediction,non-aug'\n",
    "output_folder = '/home/keanuf/.cache/BRAIN SEGMENTATOIN'\n",
    "\n",
    "# Call the function to composite images and masks and save the results\n",
    "composite_images(image_folder, mask_folder, output_folder)"
   ]
  }
 ],
 "metadata": {
  "kernelspec": {
   "display_name": "Python 3",
   "language": "python",
   "name": "python3"
  },
  "language_info": {
   "codemirror_mode": {
    "name": "ipython",
    "version": 3
   },
   "file_extension": ".py",
   "mimetype": "text/x-python",
   "name": "python",
   "nbconvert_exporter": "python",
   "pygments_lexer": "ipython3",
   "version": "3.10.14"
  }
 },
 "nbformat": 4,
 "nbformat_minor": 2
}
