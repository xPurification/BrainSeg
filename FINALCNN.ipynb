{
 "cells": [
  {
   "cell_type": "code",
   "execution_count": 1,
   "metadata": {},
   "outputs": [
    {
     "name": "stderr",
     "output_type": "stream",
     "text": [
      "2024-04-17 17:12:35.013899: I tensorflow/core/platform/cpu_feature_guard.cc:193] This TensorFlow binary is optimized with oneAPI Deep Neural Network Library (oneDNN) to use the following CPU instructions in performance-critical operations:  AVX2 FMA\n",
      "To enable them in other operations, rebuild TensorFlow with the appropriate compiler flags.\n",
      "2024-04-17 17:12:35.435300: E tensorflow/stream_executor/cuda/cuda_blas.cc:2981] Unable to register cuBLAS factory: Attempting to register factory for plugin cuBLAS when one has already been registered\n",
      "2024-04-17 17:12:36.387350: W tensorflow/stream_executor/platform/default/dso_loader.cc:64] Could not load dynamic library 'libnvinfer.so.7'; dlerror: libnvinfer.so.7: cannot open shared object file: No such file or directory; LD_LIBRARY_PATH: /home/keanuf/anaconda3/envs/py310/lib/python3.10/site-packages/cv2/../../../../lib::/home/keanuf/anaconda3/envs/py310/lib/\n",
      "2024-04-17 17:12:36.387493: W tensorflow/stream_executor/platform/default/dso_loader.cc:64] Could not load dynamic library 'libnvinfer_plugin.so.7'; dlerror: libnvinfer_plugin.so.7: cannot open shared object file: No such file or directory; LD_LIBRARY_PATH: /home/keanuf/anaconda3/envs/py310/lib/python3.10/site-packages/cv2/../../../../lib::/home/keanuf/anaconda3/envs/py310/lib/\n",
      "2024-04-17 17:12:36.387501: W tensorflow/compiler/tf2tensorrt/utils/py_utils.cc:38] TF-TRT Warning: Cannot dlopen some TensorRT libraries. If you would like to use Nvidia GPU with TensorRT, please make sure the missing libraries mentioned above are installed properly.\n"
     ]
    }
   ],
   "source": [
    "import os\n",
    "import cv2  \n",
    "from sklearn.model_selection import train_test_split\n",
    "from keras.utils import to_categorical\n",
    "from keras.utils.vis_utils import plot_model\n",
    "from keras.models import Sequential\n",
    "from keras.layers import Dense, Conv2D, Activation, Flatten, MaxPooling2D, Dropout, BatchNormalization\n",
    "from keras.callbacks import ModelCheckpoint\n",
    "from keras.preprocessing.image import ImageDataGenerator\n",
    "from keras.models import load_model\n",
    "from keras.regularizers import l2\n",
    "import numpy as np\n",
    "import tensorflow as tf\n",
    "import matplotlib.pyplot as plt\n",
    "import seaborn as sns\n",
    "from sklearn.metrics import accuracy_score, confusion_matrix, recall_score"
   ]
  },
  {
   "cell_type": "markdown",
   "metadata": {},
   "source": [
    "#Keanu Francis\n",
    "\n",
    "#Z#:23456741\n",
    "\n",
    "#Due Date :4-07-2024\n",
    "\n",
    "#Assignment #10"
   ]
  },
  {
   "cell_type": "markdown",
   "metadata": {},
   "source": [
    "##Library imports\n",
    "###Numpy\n",
    "numpy will be used to store and extract individual columbs from the input numpy array\n",
    "###Matplotlib\n",
    "MAtplotlib will be used to plot the the information contained in the input data array\n",
    "\n",
    "###Keras\n",
    "This contains the mnist dataset as well as the  to_categorical funtionlaity"
   ]
  },
  {
   "cell_type": "code",
   "execution_count": 2,
   "metadata": {},
   "outputs": [],
   "source": [
    "classes=[0,1]"
   ]
  },
  {
   "cell_type": "code",
   "execution_count": 3,
   "metadata": {},
   "outputs": [],
   "source": [
    "\n",
    "\n",
    "# Define paths to your image directories\n",
    "healthy_dir = \"/home/keanuf/.cache/Assignemt9/healthyBrains\"\n",
    "sick_dir = \"/home/keanuf/.cache/Assignemt9/sickBrains\"\n",
    "\n",
    "\n",
    "def load_images_from_dir(directory):\n",
    "    images = []\n",
    "    labels = []\n",
    "    for root, dirs, files in os.walk(directory):\n",
    "        for filename in files:\n",
    "            img = cv2.imread(os.path.join(root, filename)) \n",
    "        \n",
    "            img = cv2.resize(img, (64, 64))  \n",
    "            images.append(img)\n",
    "            labels.append(1 if \"sick\" in root else 0)  \n",
    "    return images, labels\n",
    "\n",
    "# Load images and labels from directories\n",
    "healthy_images, y_healthy = load_images_from_dir(healthy_dir)\n",
    "sick_images, y_sick = load_images_from_dir(sick_dir)\n",
    "\n",
    "# Split data into train and test sets\n",
    "X_train_healthy, X_test_healthy, y_train_healthy, y_test_healthy = train_test_split(\n",
    "    healthy_images, y_healthy, test_size=0.2, random_state=42)\n",
    "\n",
    "X_train_sick, X_test_sick, y_train_sick, y_test_sick = train_test_split(\n",
    "    sick_images, y_sick, test_size=0.2, random_state=42)\n",
    "\n",
    "# Concatenate the train and test sets for both classes\n",
    "X_train = np.concatenate((X_train_healthy, X_train_sick), axis=0)\n",
    "y_train = np.concatenate((y_train_healthy, y_train_sick), axis=0)\n",
    "\n",
    "X_test = np.concatenate((X_test_healthy, X_test_sick), axis=0)\n",
    "y_test = np.concatenate((y_test_healthy, y_test_sick), axis=0)\n",
    "\n",
    "# Shuffle the data\n",
    "shuffle_index_train = np.random.permutation(len(X_train))\n",
    "shuffle_index_test = np.random.permutation(len(X_test))\n",
    "\n",
    "X_train, y_train = X_train[shuffle_index_train], y_train[shuffle_index_train]\n",
    "X_test, y_test = X_test[shuffle_index_test], y_test[shuffle_index_test]\n",
    "\n",
    "# Now you have your train and test sets ready for your CNN\n"
   ]
  },
  {
   "cell_type": "markdown",
   "metadata": {},
   "source": [
    "\n",
    "\n",
    "i. The network was built using 2 layer of 32 nodes\n",
    "\n",
    "ii. The network was compiled with a learnring rate of 0.0001\n",
    "\n",
    "iii. The nerwork was trained using saving the history in model, the validation data was also added to keep track of the validation loss."
   ]
  },
  {
   "cell_type": "code",
   "execution_count": 4,
   "metadata": {},
   "outputs": [
    {
     "name": "stdout",
     "output_type": "stream",
     "text": [
      "(23195, 64, 64, 3)\n",
      "(23195,)\n",
      "(5798, 64, 64, 3)\n",
      "(5798,)\n"
     ]
    }
   ],
   "source": [
    "num_train_img=X_train.shape[0]\n",
    "train_ind=np.arange(0,num_train_img)\n",
    "train_ind_s=np.random.permutation(train_ind)\n",
    "x_train=X_train[train_ind_s, :, :,:]\n",
    "y_train=y_train[train_ind_s]\n",
    "x_val=x_train[0:int(0.2*num_train_img),:, :,:]\n",
    "y_val=y_train[0:int(0.2*num_train_img)]\n",
    "\n",
    "x_train=x_train[int(0.2*num_train_img):, :,:]\n",
    "y_train=y_train[int(0.2*num_train_img):]\n",
    "print(x_train.shape)\n",
    "print(y_train.shape)\n",
    "print(x_val.shape)\n",
    "print(y_val.shape)"
   ]
  },
  {
   "cell_type": "markdown",
   "metadata": {},
   "source": [
    "\n",
    "The training loss and validation loss were plotted as well as the accuracy\n",
    "\n",
    "\n",
    "\n",
    "Evaluate was used to record the training loss and validaiton loss\n",
    "\n",
    "#2 Layer 32Nodes\n"
   ]
  },
  {
   "cell_type": "code",
   "execution_count": 5,
   "metadata": {},
   "outputs": [
    {
     "name": "stdout",
     "output_type": "stream",
     "text": [
      "(23195, 64, 64, 3)\n",
      "(23195, 2)\n",
      "(5798, 64, 64, 3)\n",
      "(5798, 2)\n",
      "(7250, 2)\n"
     ]
    }
   ],
   "source": [
    "classes=[0,1]\n",
    "x_train=x_train.astype('float32')\n",
    "x_val=x_val.astype('float32')\n",
    "x_test=X_test.astype('float32')\n",
    "\n",
    "x_train/=255\n",
    "x_val/=255\n",
    "x_test/=255\n",
    "\n",
    "y_train_c= to_categorical(y_train, len(classes))\n",
    "y_val_c= to_categorical(y_val, len(classes))\n",
    "y_test_c=to_categorical(y_test, len(classes))\n",
    "print(x_train.shape)\n",
    "print(y_train_c.shape)\n",
    "print(x_val.shape)\n",
    "print(y_val_c.shape)\n",
    "print(y_test_c.shape)"
   ]
  },
  {
   "cell_type": "markdown",
   "metadata": {},
   "source": [
    "#iv)\n",
    "The training loss and validation loss were plotted as well as the accuracy\n",
    "\n",
    "#v)\n",
    "\n",
    "Evaluate was used to record the training loss and validaiton loss\n",
    "\n",
    "#2 Layer 64 Nodes\n"
   ]
  },
  {
   "cell_type": "markdown",
   "metadata": {},
   "source": [
    "#iv)\n",
    "The training loss and validation loss were plotted as well as the accuracy\n",
    "\n",
    "#v)\n",
    "\n",
    "Evaluate was used to record the training loss and validaiton loss\n",
    "\n",
    "#2 Layer 128 Nodes\n"
   ]
  },
  {
   "cell_type": "code",
   "execution_count": 6,
   "metadata": {},
   "outputs": [],
   "source": [
    "x_train_f=np.reshape(x_train,(x_train.shape[0],x_train.shape[1]*x_train.shape[2]*x_train.shape[3]))\n",
    "x_val_f=np.reshape(x_val,(x_val.shape[0],x_val.shape[1]*x_val.shape[2]*x_train.shape[3]))\n",
    "x_test_f=np.reshape(x_test,(x_test.shape[0],x_test.shape[1]*x_test.shape[2]*x_train.shape[3]))"
   ]
  },
  {
   "cell_type": "markdown",
   "metadata": {},
   "source": [
    "\n",
    "in this test we can see that anu value nod group larger that 32 and 2 laywers iwll cause increaces to the validation loss this is a sign of overfitting there for model 1 or model 2 would be a better network."
   ]
  },
  {
   "cell_type": "code",
   "execution_count": 7,
   "metadata": {},
   "outputs": [
    {
     "name": "stderr",
     "output_type": "stream",
     "text": [
      "2024-04-17 17:13:05.144690: I tensorflow/stream_executor/cuda/cuda_gpu_executor.cc:966] could not open file to read NUMA node: /sys/bus/pci/devices/0000:09:00.0/numa_node\n",
      "Your kernel may have been built without NUMA support.\n",
      "2024-04-17 17:13:05.182447: I tensorflow/stream_executor/cuda/cuda_gpu_executor.cc:966] could not open file to read NUMA node: /sys/bus/pci/devices/0000:09:00.0/numa_node\n",
      "Your kernel may have been built without NUMA support.\n",
      "2024-04-17 17:13:05.182525: I tensorflow/stream_executor/cuda/cuda_gpu_executor.cc:966] could not open file to read NUMA node: /sys/bus/pci/devices/0000:09:00.0/numa_node\n",
      "Your kernel may have been built without NUMA support.\n",
      "2024-04-17 17:13:05.183603: I tensorflow/core/platform/cpu_feature_guard.cc:193] This TensorFlow binary is optimized with oneAPI Deep Neural Network Library (oneDNN) to use the following CPU instructions in performance-critical operations:  AVX2 FMA\n",
      "To enable them in other operations, rebuild TensorFlow with the appropriate compiler flags.\n",
      "2024-04-17 17:13:05.186348: I tensorflow/stream_executor/cuda/cuda_gpu_executor.cc:966] could not open file to read NUMA node: /sys/bus/pci/devices/0000:09:00.0/numa_node\n",
      "Your kernel may have been built without NUMA support.\n",
      "2024-04-17 17:13:05.186431: I tensorflow/stream_executor/cuda/cuda_gpu_executor.cc:966] could not open file to read NUMA node: /sys/bus/pci/devices/0000:09:00.0/numa_node\n",
      "Your kernel may have been built without NUMA support.\n",
      "2024-04-17 17:13:05.186484: I tensorflow/stream_executor/cuda/cuda_gpu_executor.cc:966] could not open file to read NUMA node: /sys/bus/pci/devices/0000:09:00.0/numa_node\n",
      "Your kernel may have been built without NUMA support.\n",
      "2024-04-17 17:13:06.243943: I tensorflow/stream_executor/cuda/cuda_gpu_executor.cc:966] could not open file to read NUMA node: /sys/bus/pci/devices/0000:09:00.0/numa_node\n",
      "Your kernel may have been built without NUMA support.\n",
      "2024-04-17 17:13:06.244378: I tensorflow/stream_executor/cuda/cuda_gpu_executor.cc:966] could not open file to read NUMA node: /sys/bus/pci/devices/0000:09:00.0/numa_node\n",
      "Your kernel may have been built without NUMA support.\n",
      "2024-04-17 17:13:06.244391: I tensorflow/core/common_runtime/gpu/gpu_device.cc:1700] Could not identify NUMA node of platform GPU id 0, defaulting to 0.  Your kernel may not have been built with NUMA support.\n",
      "2024-04-17 17:13:06.244491: I tensorflow/stream_executor/cuda/cuda_gpu_executor.cc:966] could not open file to read NUMA node: /sys/bus/pci/devices/0000:09:00.0/numa_node\n",
      "Your kernel may have been built without NUMA support.\n",
      "2024-04-17 17:13:06.244535: I tensorflow/core/common_runtime/gpu/gpu_device.cc:1616] Created device /job:localhost/replica:0/task:0/device:GPU:0 with 5361 MB memory:  -> device: 0, name: NVIDIA GeForce RTX 4060 Ti, pci bus id: 0000:09:00.0, compute capability: 8.9\n"
     ]
    },
    {
     "name": "stdout",
     "output_type": "stream",
     "text": [
      "Model: \"sequential\"\n",
      "_________________________________________________________________\n",
      " Layer (type)                Output Shape              Param #   \n",
      "=================================================================\n",
      " conv2d (Conv2D)             (None, 64, 64, 32)        864       \n",
      "                                                                 \n",
      " activation (Activation)     (None, 64, 64, 32)        0         \n",
      "                                                                 \n",
      " conv2d_1 (Conv2D)           (None, 64, 64, 32)        9216      \n",
      "                                                                 \n",
      " batch_normalization (BatchN  (None, 64, 64, 32)       128       \n",
      " ormalization)                                                   \n",
      "                                                                 \n",
      " activation_1 (Activation)   (None, 64, 64, 32)        0         \n",
      "                                                                 \n",
      " max_pooling2d (MaxPooling2D  (None, 32, 32, 32)       0         \n",
      " )                                                               \n",
      "                                                                 \n",
      " conv2d_2 (Conv2D)           (None, 32, 32, 64)        18432     \n",
      "                                                                 \n",
      " activation_2 (Activation)   (None, 32, 32, 64)        0         \n",
      "                                                                 \n",
      " conv2d_3 (Conv2D)           (None, 32, 32, 64)        36864     \n",
      "                                                                 \n",
      " activation_3 (Activation)   (None, 32, 32, 64)        0         \n",
      "                                                                 \n",
      " max_pooling2d_1 (MaxPooling  (None, 16, 16, 64)       0         \n",
      " 2D)                                                             \n",
      "                                                                 \n",
      " conv2d_4 (Conv2D)           (None, 16, 16, 64)        36864     \n",
      "                                                                 \n",
      " activation_4 (Activation)   (None, 16, 16, 64)        0         \n",
      "                                                                 \n",
      " conv2d_5 (Conv2D)           (None, 16, 16, 64)        36864     \n",
      "                                                                 \n",
      " activation_5 (Activation)   (None, 16, 16, 64)        0         \n",
      "                                                                 \n",
      " max_pooling2d_2 (MaxPooling  (None, 8, 8, 64)         0         \n",
      " 2D)                                                             \n",
      "                                                                 \n",
      " flatten (Flatten)           (None, 4096)              0         \n",
      "                                                                 \n",
      " dense (Dense)               (None, 512)               2097664   \n",
      "                                                                 \n",
      " activation_6 (Activation)   (None, 512)               0         \n",
      "                                                                 \n",
      " dropout (Dropout)           (None, 512)               0         \n",
      "                                                                 \n",
      " dense_1 (Dense)             (None, 2)                 1026      \n",
      "                                                                 \n",
      "=================================================================\n",
      "Total params: 2,237,922\n",
      "Trainable params: 2,237,858\n",
      "Non-trainable params: 64\n",
      "_________________________________________________________________\n"
     ]
    }
   ],
   "source": [
    "model_a=Sequential()\n",
    "model_a.add(Conv2D(filters=32, kernel_size=(3,3), padding='same', input_shape=(64,64,3), use_bias=False))\n",
    "\n",
    "model_a.add(Activation('relu'))\n",
    "model_a.add(Conv2D(32, (3,3), padding='same', use_bias=False))\n",
    "model_a.add(BatchNormalization())\n",
    "model_a.add(Activation('relu'))\n",
    "model_a.add(MaxPooling2D(pool_size=(2,2)))\n",
    "\n",
    "\n",
    "model_a.add(Conv2D(64, (3,3), padding='same', use_bias=False))\n",
    "model_a.add(Activation('relu'))\n",
    "model_a.add(Conv2D(64, (3,3), padding='same', use_bias=False))\n",
    "model_a.add(Activation('relu'))\n",
    "model_a.add(MaxPooling2D(pool_size=(2,2)))\n",
    "\n",
    "\n",
    "model_a.add(Conv2D(64, (3,3), padding='same', use_bias=False))\n",
    "model_a.add(Activation('relu'))\n",
    "model_a.add(Conv2D(64, (3,3), padding='same', use_bias=False))\n",
    "model_a.add(Activation('relu'))\n",
    "model_a.add(MaxPooling2D(pool_size=(2,2)))\n",
    "\n",
    "\n",
    "model_a.add(Flatten())\n",
    "model_a.add(Dense(units=512, activation='relu', kernel_regularizer=l2(0.001)))\n",
    "model_a.add(Activation('relu'))\n",
    "model_a.add(Dropout(0.5))\n",
    "model_a.add(Dense(units=len(classes), activation=\"softmax\"))\n",
    "model_a.summary()\n",
    "\n",
    "datagen= ImageDataGenerator(\n",
    "rotation_range=10, \n",
    "width_shift_range=0.1,\n",
    "height_shift_range=0.1,\n",
    "horizontal_flip= True\n",
    "\n",
    ")\n",
    "datagen.fit(x_train)\n",
    "opt= tf.keras.optimizers.Adam(learning_rate=0.001)\n",
    "model_a.compile(loss='categorical_crossentropy',optimizer=opt, metrics=['accuracy'])\n",
    "\n",
    "save_path='/home/keanuf/.cache/Assignemt9/'\n",
    "callbacks_save=ModelCheckpoint(save_path, monitor='val_loss', verbose=0, save_best_only=True, save_freq='epoch')\n",
    "\n",
    "\n"
   ]
  },
  {
   "cell_type": "code",
   "execution_count": 8,
   "metadata": {},
   "outputs": [],
   "source": [
    "def plot_data(train_acc, val_acc, train_loss, val_loss, name):\n",
    "    epochs = np.arange(1, len(train_loss) + 1)  # Adjusting epochs to start from 1\n",
    "\n",
    "    fig, axs = plt.subplots(2, figsize=(10, 8))  # Adjusted figsize\n",
    "    fig.suptitle(name, fontsize=16, fontweight='bold')  # Title style\n",
    "\n",
    "    # Plotting accuracy\n",
    "    axs[0].plot(epochs, train_acc, label=\"Training Accuracy\", color='blue', linestyle='-')\n",
    "    axs[0].plot(epochs, val_acc, label=\"Validation Accuracy\", color='green', linestyle='--')\n",
    "    axs[0].set_ylabel('Accuracy', fontsize=14)\n",
    "    axs[0].legend(loc='lower right', fontsize=12)  # Legend position and font size\n",
    "    axs[0].grid(True)  # Adding grid lines\n",
    "\n",
    "    # Plotting loss\n",
    "    axs[1].plot(epochs, train_loss, label=\"Training Loss\", color='red', linestyle='-')\n",
    "    axs[1].plot(epochs, val_loss, label=\"Validation Loss\", color='orange', linestyle='--')\n",
    "    axs[1].set_ylabel('Loss', fontsize=14)\n",
    "    axs[1].legend(loc='upper right', fontsize=12)  # Legend position and font size\n",
    "    axs[1].grid(True)  # Adding grid lines\n",
    "\n",
    "    # Common x-label for both subplots\n",
    "    axs[1].set_xlabel('Epochs', fontsize=14)\n",
    "\n",
    "    # Adjusting tick parameters\n",
    "    for ax in axs:\n",
    "        ax.tick_params(axis='both', which='major', labelsize=12)\n",
    "\n",
    "    plt.tight_layout()  # Adjust layout to prevent overlapping\n",
    "    plt.show()\n",
    "\n",
    "def review_model(history, Model_details, model):\n",
    "    train_loss=[]\n",
    "    val_loss=[]\n",
    "    train_acc=[]\n",
    "    val_acc=[]\n",
    "    train_acc_curve = np.array(history.history['accuracy'])\n",
    "    train_loss_curve = np.array(history.history['loss'])\n",
    "    val_loss_curve = np.array(history.history['val_loss'])\n",
    "    val_acc_curve = np.array(history.history['val_accuracy'])\n",
    "    plot_data(train_acc_curve , val_acc_curve,train_loss_curve,val_loss_curve, Model_details)\n",
    "    score= model.evaluate(x_test, y_test_c)\n",
    "    train_loss.append(score[0])\n",
    "    train_acc.append(score[1])\n",
    "    print(\"Total Loss on the training Set: \",score[0])\n",
    "    print(\"Total Accuracy on the training Set: \",score[1])\n",
    "    score= model.evaluate(x_val,y_val_c)\n",
    "    val_loss.append(score[0])\n",
    "    val_acc.append(score[1])\n",
    "    print(\"Total Loss on the validation Set: \",score[0])\n",
    "    print(\"Total Accuracy on the Validation Set: \",score[1])"
   ]
  },
  {
   "cell_type": "code",
   "execution_count": 9,
   "metadata": {},
   "outputs": [
    {
     "name": "stdout",
     "output_type": "stream",
     "text": [
      "Epoch 1/50\n"
     ]
    },
    {
     "name": "stderr",
     "output_type": "stream",
     "text": [
      "2024-04-17 17:13:10.040061: I tensorflow/stream_executor/cuda/cuda_dnn.cc:384] Loaded cuDNN version 8100\n",
      "2024-04-17 17:13:11.649605: I tensorflow/core/platform/default/subprocess.cc:304] Start cannot spawn child process: No such file or directory\n",
      "2024-04-17 17:13:11.671734: I tensorflow/core/platform/default/subprocess.cc:304] Start cannot spawn child process: No such file or directory\n",
      "2024-04-17 17:13:11.671816: W tensorflow/stream_executor/gpu/asm_compiler.cc:80] Couldn't get ptxas version string: INTERNAL: Couldn't invoke ptxas --version\n",
      "2024-04-17 17:13:11.692680: I tensorflow/core/platform/default/subprocess.cc:304] Start cannot spawn child process: No such file or directory\n",
      "2024-04-17 17:13:11.692821: W tensorflow/stream_executor/gpu/redzone_allocator.cc:314] INTERNAL: Failed to launch ptxas\n",
      "Relying on driver to perform ptx compilation. \n",
      "Modify $PATH to customize ptxas location.\n",
      "This message will be only logged once.\n",
      "2024-04-17 17:13:13.639970: I tensorflow/stream_executor/cuda/cuda_blas.cc:1614] TensorFloat-32 will be used for the matrix multiplication. This will only be logged once.\n"
     ]
    },
    {
     "name": "stdout",
     "output_type": "stream",
     "text": [
      "23/22 [==============================] - ETA: 0s - loss: 1.3614 - accuracy: 0.6219"
     ]
    },
    {
     "name": "stderr",
     "output_type": "stream",
     "text": [
      "2024-04-17 17:13:33.400496: W tensorflow/core/framework/cpu_allocator_impl.cc:82] Allocation of 284983296 exceeds 10% of free system memory.\n",
      "2024-04-17 17:13:33.992713: W tensorflow/core/framework/cpu_allocator_impl.cc:82] Allocation of 284983296 exceeds 10% of free system memory.\n",
      "WARNING:absl:Found untraced functions such as _jit_compiled_convolution_op, _jit_compiled_convolution_op, _jit_compiled_convolution_op, _jit_compiled_convolution_op, _jit_compiled_convolution_op while saving (showing 5 of 6). These functions will not be directly callable after loading.\n"
     ]
    },
    {
     "name": "stdout",
     "output_type": "stream",
     "text": [
      "INFO:tensorflow:Assets written to: /home/keanuf/.cache/Assignemt9/assets\n"
     ]
    },
    {
     "name": "stderr",
     "output_type": "stream",
     "text": [
      "INFO:tensorflow:Assets written to: /home/keanuf/.cache/Assignemt9/assets\n"
     ]
    },
    {
     "name": "stdout",
     "output_type": "stream",
     "text": [
      "22/22 [==============================] - 35s 1s/step - loss: 1.3614 - accuracy: 0.6219 - val_loss: 1.0922 - val_accuracy: 0.6318\n",
      "Epoch 2/50\n",
      "23/22 [==============================] - ETA: 0s - loss: 0.9079 - accuracy: 0.6725"
     ]
    },
    {
     "name": "stderr",
     "output_type": "stream",
     "text": [
      "WARNING:absl:Found untraced functions such as _jit_compiled_convolution_op, _jit_compiled_convolution_op, _jit_compiled_convolution_op, _jit_compiled_convolution_op, _jit_compiled_convolution_op while saving (showing 5 of 6). These functions will not be directly callable after loading.\n"
     ]
    },
    {
     "name": "stdout",
     "output_type": "stream",
     "text": [
      "INFO:tensorflow:Assets written to: /home/keanuf/.cache/Assignemt9/assets\n"
     ]
    },
    {
     "name": "stderr",
     "output_type": "stream",
     "text": [
      "INFO:tensorflow:Assets written to: /home/keanuf/.cache/Assignemt9/assets\n"
     ]
    },
    {
     "name": "stdout",
     "output_type": "stream",
     "text": [
      "22/22 [==============================] - 19s 806ms/step - loss: 0.9079 - accuracy: 0.6725 - val_loss: 0.8907 - val_accuracy: 0.6285\n",
      "Epoch 3/50\n",
      "23/22 [==============================] - ETA: 0s - loss: 0.7744 - accuracy: 0.7052"
     ]
    },
    {
     "name": "stderr",
     "output_type": "stream",
     "text": [
      "WARNING:absl:Found untraced functions such as _jit_compiled_convolution_op, _jit_compiled_convolution_op, _jit_compiled_convolution_op, _jit_compiled_convolution_op, _jit_compiled_convolution_op while saving (showing 5 of 6). These functions will not be directly callable after loading.\n"
     ]
    },
    {
     "name": "stdout",
     "output_type": "stream",
     "text": [
      "INFO:tensorflow:Assets written to: /home/keanuf/.cache/Assignemt9/assets\n"
     ]
    },
    {
     "name": "stderr",
     "output_type": "stream",
     "text": [
      "INFO:tensorflow:Assets written to: /home/keanuf/.cache/Assignemt9/assets\n"
     ]
    },
    {
     "name": "stdout",
     "output_type": "stream",
     "text": [
      "22/22 [==============================] - 19s 827ms/step - loss: 0.7744 - accuracy: 0.7052 - val_loss: 0.8260 - val_accuracy: 0.6218\n",
      "Epoch 4/50\n",
      "23/22 [==============================] - ETA: 0s - loss: 0.6938 - accuracy: 0.7279"
     ]
    },
    {
     "name": "stderr",
     "output_type": "stream",
     "text": [
      "WARNING:absl:Found untraced functions such as _jit_compiled_convolution_op, _jit_compiled_convolution_op, _jit_compiled_convolution_op, _jit_compiled_convolution_op, _jit_compiled_convolution_op while saving (showing 5 of 6). These functions will not be directly callable after loading.\n"
     ]
    },
    {
     "name": "stdout",
     "output_type": "stream",
     "text": [
      "INFO:tensorflow:Assets written to: /home/keanuf/.cache/Assignemt9/assets\n"
     ]
    },
    {
     "name": "stderr",
     "output_type": "stream",
     "text": [
      "INFO:tensorflow:Assets written to: /home/keanuf/.cache/Assignemt9/assets\n"
     ]
    },
    {
     "name": "stdout",
     "output_type": "stream",
     "text": [
      "22/22 [==============================] - 19s 814ms/step - loss: 0.6938 - accuracy: 0.7279 - val_loss: 0.7719 - val_accuracy: 0.6325\n",
      "Epoch 5/50\n",
      "23/22 [==============================] - ETA: 0s - loss: 0.6346 - accuracy: 0.7543"
     ]
    },
    {
     "name": "stderr",
     "output_type": "stream",
     "text": [
      "WARNING:absl:Found untraced functions such as _jit_compiled_convolution_op, _jit_compiled_convolution_op, _jit_compiled_convolution_op, _jit_compiled_convolution_op, _jit_compiled_convolution_op while saving (showing 5 of 6). These functions will not be directly callable after loading.\n"
     ]
    },
    {
     "name": "stdout",
     "output_type": "stream",
     "text": [
      "INFO:tensorflow:Assets written to: /home/keanuf/.cache/Assignemt9/assets\n"
     ]
    },
    {
     "name": "stderr",
     "output_type": "stream",
     "text": [
      "INFO:tensorflow:Assets written to: /home/keanuf/.cache/Assignemt9/assets\n"
     ]
    },
    {
     "name": "stdout",
     "output_type": "stream",
     "text": [
      "22/22 [==============================] - 19s 823ms/step - loss: 0.6346 - accuracy: 0.7543 - val_loss: 0.7464 - val_accuracy: 0.6835\n",
      "Epoch 6/50\n",
      "23/22 [==============================] - ETA: 0s - loss: 0.5880 - accuracy: 0.7668"
     ]
    },
    {
     "name": "stderr",
     "output_type": "stream",
     "text": [
      "WARNING:absl:Found untraced functions such as _jit_compiled_convolution_op, _jit_compiled_convolution_op, _jit_compiled_convolution_op, _jit_compiled_convolution_op, _jit_compiled_convolution_op while saving (showing 5 of 6). These functions will not be directly callable after loading.\n"
     ]
    },
    {
     "name": "stdout",
     "output_type": "stream",
     "text": [
      "INFO:tensorflow:Assets written to: /home/keanuf/.cache/Assignemt9/assets\n"
     ]
    },
    {
     "name": "stderr",
     "output_type": "stream",
     "text": [
      "INFO:tensorflow:Assets written to: /home/keanuf/.cache/Assignemt9/assets\n"
     ]
    },
    {
     "name": "stdout",
     "output_type": "stream",
     "text": [
      "22/22 [==============================] - 19s 822ms/step - loss: 0.5880 - accuracy: 0.7668 - val_loss: 0.7121 - val_accuracy: 0.7144\n",
      "Epoch 7/50\n",
      "22/22 [==============================] - 17s 750ms/step - loss: 0.5611 - accuracy: 0.7701 - val_loss: 0.7156 - val_accuracy: 0.7232\n",
      "Epoch 8/50\n",
      "23/22 [==============================] - ETA: 0s - loss: 0.5432 - accuracy: 0.7799"
     ]
    },
    {
     "name": "stderr",
     "output_type": "stream",
     "text": [
      "WARNING:absl:Found untraced functions such as _jit_compiled_convolution_op, _jit_compiled_convolution_op, _jit_compiled_convolution_op, _jit_compiled_convolution_op, _jit_compiled_convolution_op while saving (showing 5 of 6). These functions will not be directly callable after loading.\n"
     ]
    },
    {
     "name": "stdout",
     "output_type": "stream",
     "text": [
      "INFO:tensorflow:Assets written to: /home/keanuf/.cache/Assignemt9/assets\n"
     ]
    },
    {
     "name": "stderr",
     "output_type": "stream",
     "text": [
      "INFO:tensorflow:Assets written to: /home/keanuf/.cache/Assignemt9/assets\n"
     ]
    },
    {
     "name": "stdout",
     "output_type": "stream",
     "text": [
      "22/22 [==============================] - 19s 820ms/step - loss: 0.5432 - accuracy: 0.7799 - val_loss: 0.6847 - val_accuracy: 0.7592\n",
      "Epoch 9/50\n",
      "23/22 [==============================] - ETA: 0s - loss: 0.5226 - accuracy: 0.7837"
     ]
    },
    {
     "name": "stderr",
     "output_type": "stream",
     "text": [
      "WARNING:absl:Found untraced functions such as _jit_compiled_convolution_op, _jit_compiled_convolution_op, _jit_compiled_convolution_op, _jit_compiled_convolution_op, _jit_compiled_convolution_op while saving (showing 5 of 6). These functions will not be directly callable after loading.\n"
     ]
    },
    {
     "name": "stdout",
     "output_type": "stream",
     "text": [
      "INFO:tensorflow:Assets written to: /home/keanuf/.cache/Assignemt9/assets\n"
     ]
    },
    {
     "name": "stderr",
     "output_type": "stream",
     "text": [
      "INFO:tensorflow:Assets written to: /home/keanuf/.cache/Assignemt9/assets\n"
     ]
    },
    {
     "name": "stdout",
     "output_type": "stream",
     "text": [
      "22/22 [==============================] - 19s 812ms/step - loss: 0.5226 - accuracy: 0.7837 - val_loss: 0.6522 - val_accuracy: 0.7639\n",
      "Epoch 10/50\n",
      "23/22 [==============================] - ETA: 0s - loss: 0.4829 - accuracy: 0.8028"
     ]
    },
    {
     "name": "stderr",
     "output_type": "stream",
     "text": [
      "WARNING:absl:Found untraced functions such as _jit_compiled_convolution_op, _jit_compiled_convolution_op, _jit_compiled_convolution_op, _jit_compiled_convolution_op, _jit_compiled_convolution_op while saving (showing 5 of 6). These functions will not be directly callable after loading.\n"
     ]
    },
    {
     "name": "stdout",
     "output_type": "stream",
     "text": [
      "INFO:tensorflow:Assets written to: /home/keanuf/.cache/Assignemt9/assets\n"
     ]
    },
    {
     "name": "stderr",
     "output_type": "stream",
     "text": [
      "INFO:tensorflow:Assets written to: /home/keanuf/.cache/Assignemt9/assets\n"
     ]
    },
    {
     "name": "stdout",
     "output_type": "stream",
     "text": [
      "22/22 [==============================] - 18s 806ms/step - loss: 0.4829 - accuracy: 0.8028 - val_loss: 0.6386 - val_accuracy: 0.7525\n",
      "Epoch 11/50\n",
      "23/22 [==============================] - ETA: 0s - loss: 0.4608 - accuracy: 0.8107"
     ]
    },
    {
     "name": "stderr",
     "output_type": "stream",
     "text": [
      "WARNING:absl:Found untraced functions such as _jit_compiled_convolution_op, _jit_compiled_convolution_op, _jit_compiled_convolution_op, _jit_compiled_convolution_op, _jit_compiled_convolution_op while saving (showing 5 of 6). These functions will not be directly callable after loading.\n"
     ]
    },
    {
     "name": "stdout",
     "output_type": "stream",
     "text": [
      "INFO:tensorflow:Assets written to: /home/keanuf/.cache/Assignemt9/assets\n"
     ]
    },
    {
     "name": "stderr",
     "output_type": "stream",
     "text": [
      "INFO:tensorflow:Assets written to: /home/keanuf/.cache/Assignemt9/assets\n"
     ]
    },
    {
     "name": "stdout",
     "output_type": "stream",
     "text": [
      "22/22 [==============================] - 19s 814ms/step - loss: 0.4608 - accuracy: 0.8107 - val_loss: 0.6032 - val_accuracy: 0.7618\n",
      "Epoch 12/50\n",
      "23/22 [==============================] - ETA: 0s - loss: 0.4807 - accuracy: 0.7954"
     ]
    },
    {
     "name": "stderr",
     "output_type": "stream",
     "text": [
      "WARNING:absl:Found untraced functions such as _jit_compiled_convolution_op, _jit_compiled_convolution_op, _jit_compiled_convolution_op, _jit_compiled_convolution_op, _jit_compiled_convolution_op while saving (showing 5 of 6). These functions will not be directly callable after loading.\n"
     ]
    },
    {
     "name": "stdout",
     "output_type": "stream",
     "text": [
      "INFO:tensorflow:Assets written to: /home/keanuf/.cache/Assignemt9/assets\n"
     ]
    },
    {
     "name": "stderr",
     "output_type": "stream",
     "text": [
      "INFO:tensorflow:Assets written to: /home/keanuf/.cache/Assignemt9/assets\n"
     ]
    },
    {
     "name": "stdout",
     "output_type": "stream",
     "text": [
      "22/22 [==============================] - 18s 809ms/step - loss: 0.4807 - accuracy: 0.7954 - val_loss: 0.5931 - val_accuracy: 0.7867\n",
      "Epoch 13/50\n",
      "22/22 [==============================] - 17s 756ms/step - loss: 0.4413 - accuracy: 0.8150 - val_loss: 0.5984 - val_accuracy: 0.7273\n",
      "Epoch 14/50\n",
      "23/22 [==============================] - ETA: 0s - loss: 0.4291 - accuracy: 0.8154"
     ]
    },
    {
     "name": "stderr",
     "output_type": "stream",
     "text": [
      "WARNING:absl:Found untraced functions such as _jit_compiled_convolution_op, _jit_compiled_convolution_op, _jit_compiled_convolution_op, _jit_compiled_convolution_op, _jit_compiled_convolution_op while saving (showing 5 of 6). These functions will not be directly callable after loading.\n"
     ]
    },
    {
     "name": "stdout",
     "output_type": "stream",
     "text": [
      "INFO:tensorflow:Assets written to: /home/keanuf/.cache/Assignemt9/assets\n"
     ]
    },
    {
     "name": "stderr",
     "output_type": "stream",
     "text": [
      "INFO:tensorflow:Assets written to: /home/keanuf/.cache/Assignemt9/assets\n"
     ]
    },
    {
     "name": "stdout",
     "output_type": "stream",
     "text": [
      "22/22 [==============================] - 19s 819ms/step - loss: 0.4291 - accuracy: 0.8154 - val_loss: 0.5877 - val_accuracy: 0.7184\n",
      "Epoch 15/50\n",
      "23/22 [==============================] - ETA: 0s - loss: 0.4328 - accuracy: 0.8163"
     ]
    },
    {
     "name": "stderr",
     "output_type": "stream",
     "text": [
      "WARNING:absl:Found untraced functions such as _jit_compiled_convolution_op, _jit_compiled_convolution_op, _jit_compiled_convolution_op, _jit_compiled_convolution_op, _jit_compiled_convolution_op while saving (showing 5 of 6). These functions will not be directly callable after loading.\n"
     ]
    },
    {
     "name": "stdout",
     "output_type": "stream",
     "text": [
      "INFO:tensorflow:Assets written to: /home/keanuf/.cache/Assignemt9/assets\n"
     ]
    },
    {
     "name": "stderr",
     "output_type": "stream",
     "text": [
      "INFO:tensorflow:Assets written to: /home/keanuf/.cache/Assignemt9/assets\n"
     ]
    },
    {
     "name": "stdout",
     "output_type": "stream",
     "text": [
      "22/22 [==============================] - 19s 811ms/step - loss: 0.4328 - accuracy: 0.8163 - val_loss: 0.5289 - val_accuracy: 0.8320\n",
      "Epoch 16/50\n",
      "23/22 [==============================] - ETA: 0s - loss: 0.4309 - accuracy: 0.8138"
     ]
    },
    {
     "name": "stderr",
     "output_type": "stream",
     "text": [
      "WARNING:absl:Found untraced functions such as _jit_compiled_convolution_op, _jit_compiled_convolution_op, _jit_compiled_convolution_op, _jit_compiled_convolution_op, _jit_compiled_convolution_op while saving (showing 5 of 6). These functions will not be directly callable after loading.\n"
     ]
    },
    {
     "name": "stdout",
     "output_type": "stream",
     "text": [
      "INFO:tensorflow:Assets written to: /home/keanuf/.cache/Assignemt9/assets\n"
     ]
    },
    {
     "name": "stderr",
     "output_type": "stream",
     "text": [
      "INFO:tensorflow:Assets written to: /home/keanuf/.cache/Assignemt9/assets\n"
     ]
    },
    {
     "name": "stdout",
     "output_type": "stream",
     "text": [
      "22/22 [==============================] - 18s 804ms/step - loss: 0.4309 - accuracy: 0.8138 - val_loss: 0.4725 - val_accuracy: 0.8236\n",
      "Epoch 17/50\n",
      "22/22 [==============================] - 17s 751ms/step - loss: 0.4106 - accuracy: 0.8226 - val_loss: 0.5136 - val_accuracy: 0.7673\n",
      "Epoch 18/50\n",
      "23/22 [==============================] - ETA: 0s - loss: 0.3807 - accuracy: 0.8363"
     ]
    },
    {
     "name": "stderr",
     "output_type": "stream",
     "text": [
      "WARNING:absl:Found untraced functions such as _jit_compiled_convolution_op, _jit_compiled_convolution_op, _jit_compiled_convolution_op, _jit_compiled_convolution_op, _jit_compiled_convolution_op while saving (showing 5 of 6). These functions will not be directly callable after loading.\n"
     ]
    },
    {
     "name": "stdout",
     "output_type": "stream",
     "text": [
      "INFO:tensorflow:Assets written to: /home/keanuf/.cache/Assignemt9/assets\n"
     ]
    },
    {
     "name": "stderr",
     "output_type": "stream",
     "text": [
      "INFO:tensorflow:Assets written to: /home/keanuf/.cache/Assignemt9/assets\n"
     ]
    },
    {
     "name": "stdout",
     "output_type": "stream",
     "text": [
      "22/22 [==============================] - 19s 837ms/step - loss: 0.3807 - accuracy: 0.8363 - val_loss: 0.4409 - val_accuracy: 0.8344\n",
      "Epoch 19/50\n",
      "23/22 [==============================] - ETA: 0s - loss: 0.3761 - accuracy: 0.8369"
     ]
    },
    {
     "name": "stderr",
     "output_type": "stream",
     "text": [
      "WARNING:absl:Found untraced functions such as _jit_compiled_convolution_op, _jit_compiled_convolution_op, _jit_compiled_convolution_op, _jit_compiled_convolution_op, _jit_compiled_convolution_op while saving (showing 5 of 6). These functions will not be directly callable after loading.\n"
     ]
    },
    {
     "name": "stdout",
     "output_type": "stream",
     "text": [
      "INFO:tensorflow:Assets written to: /home/keanuf/.cache/Assignemt9/assets\n"
     ]
    },
    {
     "name": "stderr",
     "output_type": "stream",
     "text": [
      "INFO:tensorflow:Assets written to: /home/keanuf/.cache/Assignemt9/assets\n"
     ]
    },
    {
     "name": "stdout",
     "output_type": "stream",
     "text": [
      "22/22 [==============================] - 19s 817ms/step - loss: 0.3761 - accuracy: 0.8369 - val_loss: 0.4256 - val_accuracy: 0.8412\n",
      "Epoch 20/50\n",
      "23/22 [==============================] - ETA: 0s - loss: 0.3611 - accuracy: 0.8459"
     ]
    },
    {
     "name": "stderr",
     "output_type": "stream",
     "text": [
      "WARNING:absl:Found untraced functions such as _jit_compiled_convolution_op, _jit_compiled_convolution_op, _jit_compiled_convolution_op, _jit_compiled_convolution_op, _jit_compiled_convolution_op while saving (showing 5 of 6). These functions will not be directly callable after loading.\n"
     ]
    },
    {
     "name": "stdout",
     "output_type": "stream",
     "text": [
      "INFO:tensorflow:Assets written to: /home/keanuf/.cache/Assignemt9/assets\n"
     ]
    },
    {
     "name": "stderr",
     "output_type": "stream",
     "text": [
      "INFO:tensorflow:Assets written to: /home/keanuf/.cache/Assignemt9/assets\n"
     ]
    },
    {
     "name": "stdout",
     "output_type": "stream",
     "text": [
      "22/22 [==============================] - 19s 815ms/step - loss: 0.3611 - accuracy: 0.8459 - val_loss: 0.4025 - val_accuracy: 0.8448\n",
      "Epoch 21/50\n",
      "22/22 [==============================] - 17s 763ms/step - loss: 0.3822 - accuracy: 0.8360 - val_loss: 0.4033 - val_accuracy: 0.8396\n",
      "Epoch 22/50\n",
      "22/22 [==============================] - 17s 760ms/step - loss: 0.3760 - accuracy: 0.8409 - val_loss: 0.4059 - val_accuracy: 0.8420\n",
      "Epoch 23/50\n",
      "23/22 [==============================] - ETA: 0s - loss: 0.3699 - accuracy: 0.8430"
     ]
    },
    {
     "name": "stderr",
     "output_type": "stream",
     "text": [
      "WARNING:absl:Found untraced functions such as _jit_compiled_convolution_op, _jit_compiled_convolution_op, _jit_compiled_convolution_op, _jit_compiled_convolution_op, _jit_compiled_convolution_op while saving (showing 5 of 6). These functions will not be directly callable after loading.\n"
     ]
    },
    {
     "name": "stdout",
     "output_type": "stream",
     "text": [
      "INFO:tensorflow:Assets written to: /home/keanuf/.cache/Assignemt9/assets\n"
     ]
    },
    {
     "name": "stderr",
     "output_type": "stream",
     "text": [
      "INFO:tensorflow:Assets written to: /home/keanuf/.cache/Assignemt9/assets\n"
     ]
    },
    {
     "name": "stdout",
     "output_type": "stream",
     "text": [
      "22/22 [==============================] - 19s 817ms/step - loss: 0.3699 - accuracy: 0.8430 - val_loss: 0.3822 - val_accuracy: 0.8493\n",
      "Epoch 24/50\n",
      "22/22 [==============================] - 17s 756ms/step - loss: 0.3558 - accuracy: 0.8457 - val_loss: 0.3867 - val_accuracy: 0.8382\n",
      "Epoch 25/50\n",
      "23/22 [==============================] - ETA: 0s - loss: 0.3378 - accuracy: 0.8573"
     ]
    },
    {
     "name": "stderr",
     "output_type": "stream",
     "text": [
      "WARNING:absl:Found untraced functions such as _jit_compiled_convolution_op, _jit_compiled_convolution_op, _jit_compiled_convolution_op, _jit_compiled_convolution_op, _jit_compiled_convolution_op while saving (showing 5 of 6). These functions will not be directly callable after loading.\n"
     ]
    },
    {
     "name": "stdout",
     "output_type": "stream",
     "text": [
      "INFO:tensorflow:Assets written to: /home/keanuf/.cache/Assignemt9/assets\n"
     ]
    },
    {
     "name": "stderr",
     "output_type": "stream",
     "text": [
      "INFO:tensorflow:Assets written to: /home/keanuf/.cache/Assignemt9/assets\n"
     ]
    },
    {
     "name": "stdout",
     "output_type": "stream",
     "text": [
      "22/22 [==============================] - 18s 811ms/step - loss: 0.3378 - accuracy: 0.8573 - val_loss: 0.3614 - val_accuracy: 0.8353\n",
      "Epoch 26/50\n",
      "22/22 [==============================] - 17s 756ms/step - loss: 0.3337 - accuracy: 0.8560 - val_loss: 0.3709 - val_accuracy: 0.8339\n",
      "Epoch 27/50\n",
      "23/22 [==============================] - ETA: 0s - loss: 0.3246 - accuracy: 0.8615"
     ]
    },
    {
     "name": "stderr",
     "output_type": "stream",
     "text": [
      "WARNING:absl:Found untraced functions such as _jit_compiled_convolution_op, _jit_compiled_convolution_op, _jit_compiled_convolution_op, _jit_compiled_convolution_op, _jit_compiled_convolution_op while saving (showing 5 of 6). These functions will not be directly callable after loading.\n"
     ]
    },
    {
     "name": "stdout",
     "output_type": "stream",
     "text": [
      "INFO:tensorflow:Assets written to: /home/keanuf/.cache/Assignemt9/assets\n"
     ]
    },
    {
     "name": "stderr",
     "output_type": "stream",
     "text": [
      "INFO:tensorflow:Assets written to: /home/keanuf/.cache/Assignemt9/assets\n"
     ]
    },
    {
     "name": "stdout",
     "output_type": "stream",
     "text": [
      "22/22 [==============================] - 19s 806ms/step - loss: 0.3246 - accuracy: 0.8615 - val_loss: 0.3448 - val_accuracy: 0.8522\n",
      "Epoch 28/50\n",
      "23/22 [==============================] - ETA: 0s - loss: 0.3222 - accuracy: 0.8618"
     ]
    },
    {
     "name": "stderr",
     "output_type": "stream",
     "text": [
      "WARNING:absl:Found untraced functions such as _jit_compiled_convolution_op, _jit_compiled_convolution_op, _jit_compiled_convolution_op, _jit_compiled_convolution_op, _jit_compiled_convolution_op while saving (showing 5 of 6). These functions will not be directly callable after loading.\n"
     ]
    },
    {
     "name": "stdout",
     "output_type": "stream",
     "text": [
      "INFO:tensorflow:Assets written to: /home/keanuf/.cache/Assignemt9/assets\n"
     ]
    },
    {
     "name": "stderr",
     "output_type": "stream",
     "text": [
      "INFO:tensorflow:Assets written to: /home/keanuf/.cache/Assignemt9/assets\n"
     ]
    },
    {
     "name": "stdout",
     "output_type": "stream",
     "text": [
      "22/22 [==============================] - 19s 816ms/step - loss: 0.3222 - accuracy: 0.8618 - val_loss: 0.3315 - val_accuracy: 0.8499\n",
      "Epoch 29/50\n",
      "22/22 [==============================] - 17s 752ms/step - loss: 0.3343 - accuracy: 0.8548 - val_loss: 0.3997 - val_accuracy: 0.8079\n",
      "Epoch 30/50\n",
      "22/22 [==============================] - 17s 769ms/step - loss: 0.3405 - accuracy: 0.8520 - val_loss: 0.3708 - val_accuracy: 0.8415\n",
      "Epoch 31/50\n",
      "22/22 [==============================] - 17s 767ms/step - loss: 0.3175 - accuracy: 0.8651 - val_loss: 0.3438 - val_accuracy: 0.8451\n",
      "Epoch 32/50\n",
      "22/22 [==============================] - 18s 769ms/step - loss: 0.3136 - accuracy: 0.8665 - val_loss: 0.5069 - val_accuracy: 0.7915\n",
      "Epoch 33/50\n",
      "22/22 [==============================] - 17s 760ms/step - loss: 0.3169 - accuracy: 0.8647 - val_loss: 0.3403 - val_accuracy: 0.8562\n",
      "Epoch 34/50\n",
      "22/22 [==============================] - 17s 766ms/step - loss: 0.3392 - accuracy: 0.8599 - val_loss: 0.3510 - val_accuracy: 0.8522\n",
      "Epoch 35/50\n",
      "22/22 [==============================] - 17s 763ms/step - loss: 0.3104 - accuracy: 0.8700 - val_loss: 0.3450 - val_accuracy: 0.8484\n",
      "Epoch 36/50\n",
      "22/22 [==============================] - 17s 761ms/step - loss: 0.2905 - accuracy: 0.8764 - val_loss: 0.4051 - val_accuracy: 0.8211\n",
      "Epoch 37/50\n",
      "23/22 [==============================] - ETA: 0s - loss: 0.2886 - accuracy: 0.8794"
     ]
    },
    {
     "name": "stderr",
     "output_type": "stream",
     "text": [
      "WARNING:absl:Found untraced functions such as _jit_compiled_convolution_op, _jit_compiled_convolution_op, _jit_compiled_convolution_op, _jit_compiled_convolution_op, _jit_compiled_convolution_op while saving (showing 5 of 6). These functions will not be directly callable after loading.\n"
     ]
    },
    {
     "name": "stdout",
     "output_type": "stream",
     "text": [
      "INFO:tensorflow:Assets written to: /home/keanuf/.cache/Assignemt9/assets\n"
     ]
    },
    {
     "name": "stderr",
     "output_type": "stream",
     "text": [
      "INFO:tensorflow:Assets written to: /home/keanuf/.cache/Assignemt9/assets\n"
     ]
    },
    {
     "name": "stdout",
     "output_type": "stream",
     "text": [
      "22/22 [==============================] - 19s 836ms/step - loss: 0.2886 - accuracy: 0.8794 - val_loss: 0.3183 - val_accuracy: 0.8655\n",
      "Epoch 38/50\n",
      "22/22 [==============================] - 17s 754ms/step - loss: 0.2815 - accuracy: 0.8822 - val_loss: 0.3378 - val_accuracy: 0.8563\n",
      "Epoch 39/50\n",
      "22/22 [==============================] - 17s 763ms/step - loss: 0.2763 - accuracy: 0.8839 - val_loss: 0.3382 - val_accuracy: 0.8584\n",
      "Epoch 40/50\n",
      "22/22 [==============================] - 18s 768ms/step - loss: 0.2776 - accuracy: 0.8840 - val_loss: 0.3855 - val_accuracy: 0.8353\n",
      "Epoch 41/50\n",
      "22/22 [==============================] - 18s 803ms/step - loss: 0.2832 - accuracy: 0.8836 - val_loss: 0.3841 - val_accuracy: 0.8374\n",
      "Epoch 42/50\n",
      "23/22 [==============================] - ETA: 0s - loss: 0.2776 - accuracy: 0.8847"
     ]
    },
    {
     "name": "stderr",
     "output_type": "stream",
     "text": [
      "WARNING:absl:Found untraced functions such as _jit_compiled_convolution_op, _jit_compiled_convolution_op, _jit_compiled_convolution_op, _jit_compiled_convolution_op, _jit_compiled_convolution_op while saving (showing 5 of 6). These functions will not be directly callable after loading.\n"
     ]
    },
    {
     "name": "stdout",
     "output_type": "stream",
     "text": [
      "INFO:tensorflow:Assets written to: /home/keanuf/.cache/Assignemt9/assets\n"
     ]
    },
    {
     "name": "stderr",
     "output_type": "stream",
     "text": [
      "INFO:tensorflow:Assets written to: /home/keanuf/.cache/Assignemt9/assets\n"
     ]
    },
    {
     "name": "stdout",
     "output_type": "stream",
     "text": [
      "22/22 [==============================] - 20s 882ms/step - loss: 0.2776 - accuracy: 0.8847 - val_loss: 0.3001 - val_accuracy: 0.8753\n",
      "Epoch 43/50\n",
      "22/22 [==============================] - 18s 770ms/step - loss: 0.3097 - accuracy: 0.8740 - val_loss: 0.4167 - val_accuracy: 0.8236\n",
      "Epoch 44/50\n",
      "22/22 [==============================] - 18s 766ms/step - loss: 0.2812 - accuracy: 0.8841 - val_loss: 0.4401 - val_accuracy: 0.8248\n",
      "Epoch 45/50\n",
      "22/22 [==============================] - 17s 753ms/step - loss: 0.2738 - accuracy: 0.8873 - val_loss: 0.3325 - val_accuracy: 0.8612\n",
      "Epoch 46/50\n",
      "23/22 [==============================] - ETA: 0s - loss: 0.2574 - accuracy: 0.8947"
     ]
    },
    {
     "name": "stderr",
     "output_type": "stream",
     "text": [
      "WARNING:absl:Found untraced functions such as _jit_compiled_convolution_op, _jit_compiled_convolution_op, _jit_compiled_convolution_op, _jit_compiled_convolution_op, _jit_compiled_convolution_op while saving (showing 5 of 6). These functions will not be directly callable after loading.\n"
     ]
    },
    {
     "name": "stdout",
     "output_type": "stream",
     "text": [
      "INFO:tensorflow:Assets written to: /home/keanuf/.cache/Assignemt9/assets\n"
     ]
    },
    {
     "name": "stderr",
     "output_type": "stream",
     "text": [
      "INFO:tensorflow:Assets written to: /home/keanuf/.cache/Assignemt9/assets\n"
     ]
    },
    {
     "name": "stdout",
     "output_type": "stream",
     "text": [
      "22/22 [==============================] - 19s 817ms/step - loss: 0.2574 - accuracy: 0.8947 - val_loss: 0.2917 - val_accuracy: 0.8782\n",
      "Epoch 47/50\n",
      "22/22 [==============================] - 17s 764ms/step - loss: 0.2684 - accuracy: 0.8907 - val_loss: 0.3808 - val_accuracy: 0.8499\n",
      "Epoch 48/50\n",
      "22/22 [==============================] - 17s 763ms/step - loss: 0.2657 - accuracy: 0.8912 - val_loss: 0.4583 - val_accuracy: 0.8144\n",
      "Epoch 49/50\n",
      "22/22 [==============================] - 17s 763ms/step - loss: 0.2720 - accuracy: 0.8886 - val_loss: 0.2990 - val_accuracy: 0.8788\n",
      "Epoch 50/50\n",
      "22/22 [==============================] - 17s 760ms/step - loss: 0.2590 - accuracy: 0.8941 - val_loss: 0.3846 - val_accuracy: 0.8574\n"
     ]
    }
   ],
   "source": [
    "history= model_a.fit(datagen.flow(x_train,y_train_c, batch_size=1028),\n",
    "                     steps_per_epoch=len(x_train)/1028, \n",
    "                     epochs=50, verbose=1, validation_data=(x_val, y_val_c), \n",
    "                     callbacks=[callbacks_save])"
   ]
  },
  {
   "cell_type": "markdown",
   "metadata": {},
   "source": []
  },
  {
   "cell_type": "code",
   "execution_count": 3,
   "metadata": {},
   "outputs": [
    {
     "ename": "NameError",
     "evalue": "name 'model_a' is not defined",
     "output_type": "error",
     "traceback": [
      "\u001b[0;31m---------------------------------------------------------------------------\u001b[0m",
      "\u001b[0;31mNameError\u001b[0m                                 Traceback (most recent call last)",
      "Cell \u001b[0;32mIn[3], line 1\u001b[0m\n\u001b[0;32m----> 1\u001b[0m y_pred \u001b[38;5;241m=\u001b[39m \u001b[43mmodel_a\u001b[49m\u001b[38;5;241m.\u001b[39mpredict(x_train)\n\u001b[1;32m      2\u001b[0m y_pred_classes \u001b[38;5;241m=\u001b[39m np\u001b[38;5;241m.\u001b[39margmax(y_pred, axis\u001b[38;5;241m=\u001b[39m\u001b[38;5;241m1\u001b[39m)\n\u001b[1;32m      3\u001b[0m conf_matrix \u001b[38;5;241m=\u001b[39m confusion_matrix(y_train, y_pred_classes)\n",
      "\u001b[0;31mNameError\u001b[0m: name 'model_a' is not defined"
     ]
    }
   ],
   "source": [
    "\n",
    "\n",
    "y_pred = model_a.predict(x_train)\n",
    "y_pred_classes = np.argmax(y_pred, axis=1)\n",
    "conf_matrix = confusion_matrix(y_train, y_pred_classes)\n",
    "model_a.save('/home/keanuf/.cache/Assignemt9/brainmodel.h5')\n",
    "# Display confusion matrix\n",
    "plt.figure(figsize=(8, 6))\n",
    "sns.heatmap(conf_matrix, annot=True, fmt='d', cmap='Blues')\n",
    "plt.xlabel('Predicted labels')\n",
    "plt.ylabel('True labels')\n",
    "plt.title('Confusion Matrix')\n",
    "plt.show()"
   ]
  },
  {
   "cell_type": "code",
   "execution_count": 2,
   "metadata": {},
   "outputs": [
    {
     "ename": "NameError",
     "evalue": "name 'model_a' is not defined",
     "output_type": "error",
     "traceback": [
      "\u001b[0;31m---------------------------------------------------------------------------\u001b[0m",
      "\u001b[0;31mNameError\u001b[0m                                 Traceback (most recent call last)",
      "Cell \u001b[0;32mIn[2], line 1\u001b[0m\n\u001b[0;32m----> 1\u001b[0m \u001b[43mmodel_a\u001b[49m\u001b[38;5;241m.\u001b[39msave(\u001b[38;5;124m'\u001b[39m\u001b[38;5;124m/home/keanuf/.cache/Assignemt9\u001b[39m\u001b[38;5;124m'\u001b[39m)\n",
      "\u001b[0;31mNameError\u001b[0m: name 'model_a' is not defined"
     ]
    }
   ],
   "source": [
    "model_a.save('/home/keanuf/.cache/Assignemt9')"
   ]
  },
  {
   "cell_type": "code",
   "execution_count": null,
   "metadata": {},
   "outputs": [
    {
     "data": {
      "image/png": "[encoded data removed]",
      "text/plain": [
       "<Figure size 1000x800 with 2 Axes>"
      ]
     },
     "metadata": {},
     "output_type": "display_data"
    },
    {
     "name": "stdout",
     "output_type": "stream",
     "text": [
      "227/227 [==============================] - 2s 7ms/step - loss: 0.3632 - accuracy: 0.8530\n",
      "Total Loss on the training Set:  0.3632465898990631\n",
      "Total Accuracy on the training Set:  0.8529655337333679\n",
      "182/182 [==============================] - 1s 6ms/step - loss: 0.3662 - accuracy: 0.8499\n",
      "Total Loss on the validation Set:  0.36621570587158203\n",
      "Total Accuracy on the Validation Set:  0.8499482870101929\n"
     ]
    }
   ],
   "source": [
    "review_model(history, \"2 Convolutional Layers \", model_a)"
   ]
  },
  {
   "cell_type": "code",
   "execution_count": null,
   "metadata": {},
   "outputs": [
    {
     "name": "stdout",
     "output_type": "stream",
     "text": [
      "1/1 [==============================] - 0s 60ms/step\n",
      "The model predicts: Sick 0.99452543\n"
     ]
    }
   ],
   "source": [
    "from tensorflow.keras.models import load_model\n",
    "from tensorflow.keras.preprocessing import image\n",
    "from sklearn.linear_model import LogisticRegression\n",
    "model = load_model('/home/keanuf/.cache/Assignemt9/brainmodel.h5')\n",
    "img_path = '/home/keanuf/.cache/461670_45.png' \n",
    "\n",
    "img = image.load_img(img_path, target_size=(32, 32))  \n",
    "img_array = image.img_to_array(img)\n",
    "img_array = np.expand_dims(img_array, axis=0) \n",
    "img_array = img_array / 255.0 \n",
    "predictions = model.predict(img_array)\n",
    "\n",
    "# Interpret the results\n",
    "if predictions[0][0] > 0.5:\n",
    "    print(\"The model predicts: Sick\",predictions[0][0]  )\n",
    "else:\n",
    "    print(\"The model predicts: Healthy\",predictions[0][0] )\n",
    "\n"
   ]
  },
  {
   "cell_type": "code",
   "execution_count": null,
   "metadata": {},
   "outputs": [],
   "source": []
  },
  {
   "cell_type": "markdown",
   "metadata": {},
   "source": []
  }
 ],
 "metadata": {
  "kernelspec": {
   "display_name": "Python 3",
   "language": "python",
   "name": "python3"
  },
  "language_info": {
   "codemirror_mode": {
    "name": "ipython",
    "version": 3
   },
   "file_extension": ".py",
   "mimetype": "text/x-python",
   "name": "python",
   "nbconvert_exporter": "python",
   "pygments_lexer": "ipython3",
   "version": "3.10.14"
  }
 },
 "nbformat": 4,
 "nbformat_minor": 2
}
